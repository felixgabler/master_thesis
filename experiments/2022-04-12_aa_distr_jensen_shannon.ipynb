{
 "cells": [
  {
   "cell_type": "markdown",
   "metadata": {
    "collapsed": true,
    "pycharm": {
     "name": "#%% md\n"
    }
   },
   "source": [
    "# Jensen-Shannon-Divergence between Amino Acid Distributions"
   ]
  },
  {
   "cell_type": "code",
   "execution_count": 1,
   "outputs": [],
   "source": [
    "import re\n",
    "import glob\n",
    "\n",
    "import pandas as pd\n",
    "import numpy as np\n",
    "import matplotlib.pyplot as plt"
   ],
   "metadata": {
    "collapsed": false,
    "pycharm": {
     "name": "#%%\n"
    }
   }
  },
  {
   "cell_type": "code",
   "execution_count": 3,
   "outputs": [],
   "source": [
    "dfs = []\n",
    "for proteome_file in glob.glob('../data/alphafold/v2/AA_scores/*.csv'):\n",
    "    proteome = re.search(r\"/([A-Z0-9]+).csv\", proteome_file).group(1)\n",
    "    proteome_df = pd.read_csv(proteome_file, index_col=0)\n",
    "    proteome_df['proteome'] = proteome\n",
    "    dfs.append(proteome_df)\n",
    "df_with_outliers = pd.concat(dfs)"
   ],
   "metadata": {
    "collapsed": false,
    "pycharm": {
     "name": "#%%\n"
    }
   }
  },
  {
   "cell_type": "code",
   "execution_count": 4,
   "outputs": [],
   "source": [
    "# Filter to sequences that do not have distr\n",
    "df = df_with_outliers[df_with_outliers['aa_distr_js'].notnull()]"
   ],
   "metadata": {
    "collapsed": false,
    "pycharm": {
     "name": "#%%\n"
    }
   }
  },
  {
   "cell_type": "code",
   "execution_count": 5,
   "outputs": [
    {
     "data": {
      "text/plain": "             seq_len  domain_count        max_pae      min_plddt  \\\ncount  514622.000000  514622.00000  514622.000000  514622.000000   \nmean      419.078461       0.57099      30.832029      33.822928   \nstd       343.523531       1.10897       1.480910      11.472136   \nmin        16.000000       0.00000       6.000000       1.390000   \n25%       184.000000       0.00000      30.900000      25.650000   \n50%       330.000000       0.00000      31.300000      31.230000   \n75%       534.000000       1.00000      31.400000      38.710000   \nmax      2699.000000      46.00000      31.700000      97.030000   \n\n          mean_plddt   median_plddt  ratio_bad_plddt     iupred_auc  \\\ncount  514622.000000  514622.000000    514622.000000  514619.000000   \nmean       75.292812      79.043856         0.356777     126.151206   \nstd        15.024612      18.830840         0.292574     147.682902   \nmin        23.077300      22.170000         0.000000       0.000000   \n25%        64.816400      64.350000         0.112000      37.994850   \n50%        77.941850      87.310000         0.274100      80.004100   \n75%        87.666875      94.025000         0.556400     156.732200   \nmax        98.724100      98.860000         1.000000    2730.699900   \n\n        repeat_6mers  non_repeat_6mers  repeat_6mers_100  \\\ncount  514622.000000     514622.000000     514622.000000   \nmean        0.515753          0.000657          0.583850   \nstd         4.485592          0.048485          4.739796   \nmin         0.000000          0.000000          0.000000   \n25%         0.000000          0.000000          0.000000   \n50%         0.000000          0.000000          0.000000   \n75%         0.000000          0.000000          0.000000   \nmax       342.000000         11.000000        382.000000   \n\n       non_repeat_6mers_100  iupred_plddt_spearman  repeat_6mers_2000  \\\ncount         514622.000000          513491.000000      514622.000000   \nmean               0.019857              -0.311983           0.755625   \nstd                0.394819               0.317159           5.020129   \nmin                0.000000              -0.987435           0.000000   \n25%                0.000000              -0.564031           0.000000   \n50%                0.000000              -0.345583           0.000000   \n75%                0.000000              -0.103957           0.000000   \nmax               83.000000               0.918797         386.000000   \n\n       non_repeat_6mers_2000    aa_distr_js  \ncount          514622.000000  514622.000000  \nmean                0.976791       0.160911  \nstd                 3.640865       0.064054  \nmin                 0.000000       0.030443  \n25%                 0.000000       0.114615  \n50%                 0.000000       0.147983  \n75%                 1.000000       0.193001  \nmax               673.000000       0.713420  ",
      "text/html": "<div>\n<style scoped>\n    .dataframe tbody tr th:only-of-type {\n        vertical-align: middle;\n    }\n\n    .dataframe tbody tr th {\n        vertical-align: top;\n    }\n\n    .dataframe thead th {\n        text-align: right;\n    }\n</style>\n<table border=\"1\" class=\"dataframe\">\n  <thead>\n    <tr style=\"text-align: right;\">\n      <th></th>\n      <th>seq_len</th>\n      <th>domain_count</th>\n      <th>max_pae</th>\n      <th>min_plddt</th>\n      <th>mean_plddt</th>\n      <th>median_plddt</th>\n      <th>ratio_bad_plddt</th>\n      <th>iupred_auc</th>\n      <th>repeat_6mers</th>\n      <th>non_repeat_6mers</th>\n      <th>repeat_6mers_100</th>\n      <th>non_repeat_6mers_100</th>\n      <th>iupred_plddt_spearman</th>\n      <th>repeat_6mers_2000</th>\n      <th>non_repeat_6mers_2000</th>\n      <th>aa_distr_js</th>\n    </tr>\n  </thead>\n  <tbody>\n    <tr>\n      <th>count</th>\n      <td>514622.000000</td>\n      <td>514622.00000</td>\n      <td>514622.000000</td>\n      <td>514622.000000</td>\n      <td>514622.000000</td>\n      <td>514622.000000</td>\n      <td>514622.000000</td>\n      <td>514619.000000</td>\n      <td>514622.000000</td>\n      <td>514622.000000</td>\n      <td>514622.000000</td>\n      <td>514622.000000</td>\n      <td>513491.000000</td>\n      <td>514622.000000</td>\n      <td>514622.000000</td>\n      <td>514622.000000</td>\n    </tr>\n    <tr>\n      <th>mean</th>\n      <td>419.078461</td>\n      <td>0.57099</td>\n      <td>30.832029</td>\n      <td>33.822928</td>\n      <td>75.292812</td>\n      <td>79.043856</td>\n      <td>0.356777</td>\n      <td>126.151206</td>\n      <td>0.515753</td>\n      <td>0.000657</td>\n      <td>0.583850</td>\n      <td>0.019857</td>\n      <td>-0.311983</td>\n      <td>0.755625</td>\n      <td>0.976791</td>\n      <td>0.160911</td>\n    </tr>\n    <tr>\n      <th>std</th>\n      <td>343.523531</td>\n      <td>1.10897</td>\n      <td>1.480910</td>\n      <td>11.472136</td>\n      <td>15.024612</td>\n      <td>18.830840</td>\n      <td>0.292574</td>\n      <td>147.682902</td>\n      <td>4.485592</td>\n      <td>0.048485</td>\n      <td>4.739796</td>\n      <td>0.394819</td>\n      <td>0.317159</td>\n      <td>5.020129</td>\n      <td>3.640865</td>\n      <td>0.064054</td>\n    </tr>\n    <tr>\n      <th>min</th>\n      <td>16.000000</td>\n      <td>0.00000</td>\n      <td>6.000000</td>\n      <td>1.390000</td>\n      <td>23.077300</td>\n      <td>22.170000</td>\n      <td>0.000000</td>\n      <td>0.000000</td>\n      <td>0.000000</td>\n      <td>0.000000</td>\n      <td>0.000000</td>\n      <td>0.000000</td>\n      <td>-0.987435</td>\n      <td>0.000000</td>\n      <td>0.000000</td>\n      <td>0.030443</td>\n    </tr>\n    <tr>\n      <th>25%</th>\n      <td>184.000000</td>\n      <td>0.00000</td>\n      <td>30.900000</td>\n      <td>25.650000</td>\n      <td>64.816400</td>\n      <td>64.350000</td>\n      <td>0.112000</td>\n      <td>37.994850</td>\n      <td>0.000000</td>\n      <td>0.000000</td>\n      <td>0.000000</td>\n      <td>0.000000</td>\n      <td>-0.564031</td>\n      <td>0.000000</td>\n      <td>0.000000</td>\n      <td>0.114615</td>\n    </tr>\n    <tr>\n      <th>50%</th>\n      <td>330.000000</td>\n      <td>0.00000</td>\n      <td>31.300000</td>\n      <td>31.230000</td>\n      <td>77.941850</td>\n      <td>87.310000</td>\n      <td>0.274100</td>\n      <td>80.004100</td>\n      <td>0.000000</td>\n      <td>0.000000</td>\n      <td>0.000000</td>\n      <td>0.000000</td>\n      <td>-0.345583</td>\n      <td>0.000000</td>\n      <td>0.000000</td>\n      <td>0.147983</td>\n    </tr>\n    <tr>\n      <th>75%</th>\n      <td>534.000000</td>\n      <td>1.00000</td>\n      <td>31.400000</td>\n      <td>38.710000</td>\n      <td>87.666875</td>\n      <td>94.025000</td>\n      <td>0.556400</td>\n      <td>156.732200</td>\n      <td>0.000000</td>\n      <td>0.000000</td>\n      <td>0.000000</td>\n      <td>0.000000</td>\n      <td>-0.103957</td>\n      <td>0.000000</td>\n      <td>1.000000</td>\n      <td>0.193001</td>\n    </tr>\n    <tr>\n      <th>max</th>\n      <td>2699.000000</td>\n      <td>46.00000</td>\n      <td>31.700000</td>\n      <td>97.030000</td>\n      <td>98.724100</td>\n      <td>98.860000</td>\n      <td>1.000000</td>\n      <td>2730.699900</td>\n      <td>342.000000</td>\n      <td>11.000000</td>\n      <td>382.000000</td>\n      <td>83.000000</td>\n      <td>0.918797</td>\n      <td>386.000000</td>\n      <td>673.000000</td>\n      <td>0.713420</td>\n    </tr>\n  </tbody>\n</table>\n</div>"
     },
     "execution_count": 5,
     "metadata": {},
     "output_type": "execute_result"
    }
   ],
   "source": [
    "df.describe()"
   ],
   "metadata": {
    "collapsed": false,
    "pycharm": {
     "name": "#%%\n"
    }
   }
  },
  {
   "cell_type": "code",
   "execution_count": 6,
   "outputs": [
    {
     "name": "stdout",
     "output_type": "stream",
     "text": [
      "Spearman rank correlation (Jensen-Shannon): 0.3264\n"
     ]
    }
   ],
   "source": [
    "from scipy.stats import spearmanr\n",
    "\n",
    "rho, p = spearmanr(df['ratio_bad_plddt'], df['aa_distr_js'])\n",
    "print(f'Spearman rank correlation (Jensen-Shannon): {\"{0:.4f}\".format(rho)}')"
   ],
   "metadata": {
    "collapsed": false,
    "pycharm": {
     "name": "#%%\n"
    }
   }
  },
  {
   "cell_type": "code",
   "execution_count": 8,
   "outputs": [
    {
     "data": {
      "text/plain": "<Figure size 432x288 with 1 Axes>",
      "image/png": "[encoded data removed]"
     },
     "metadata": {
      "needs_background": "light"
     },
     "output_type": "display_data"
    }
   ],
   "source": [
    "%matplotlib inline\n",
    "fig, ax = plt.subplots()\n",
    "\n",
    "ax.scatter(df['ratio_bad_plddt'], df['aa_distr_js'])\n",
    "ax.set_title('Ratio vs AA distr JS (r=0.3264)')\n",
    "ax.set_ylabel('JS divergence')\n",
    "ax.set_xlabel('Ratio of bad pLDDTs')\n",
    "\n",
    "plt.show()"
   ],
   "metadata": {
    "collapsed": false,
    "pycharm": {
     "name": "#%%\n"
    }
   }
  },
  {
   "cell_type": "code",
   "execution_count": null,
   "outputs": [],
   "source": [],
   "metadata": {
    "collapsed": false,
    "pycharm": {
     "name": "#%%\n"
    }
   }
  }
 ],
 "metadata": {
  "kernelspec": {
   "display_name": "Python 3",
   "language": "python",
   "name": "python3"
  },
  "language_info": {
   "codemirror_mode": {
    "name": "ipython",
    "version": 2
   },
   "file_extension": ".py",
   "mimetype": "text/x-python",
   "name": "python",
   "nbconvert_exporter": "python",
   "pygments_lexer": "ipython2",
   "version": "2.7.6"
  }
 },
 "nbformat": 4,
 "nbformat_minor": 0
}