{
 "cells": [
  {
   "cell_type": "markdown",
   "metadata": {
    "collapsed": true,
    "pycharm": {
     "name": "#%% md\n"
    }
   },
   "source": [
    "# Analyse function similarity between IUPRED3 and AlphaFold pLDDT\n",
    "Select 1000 random structures, get their pLDDT and IUPRED3 scores and calculate Spearman's r"
   ]
  },
  {
   "cell_type": "code",
   "execution_count": 1,
   "outputs": [],
   "source": [
    "import glob\n",
    "import gzip\n",
    "import re\n",
    "import requests\n",
    "\n",
    "import pandas as pd\n",
    "import numpy as np\n",
    "\n",
    "from pqdm.threads import pqdm\n",
    "from bin.iupred3.iupred3_lib import iupred\n",
    "from scipy.stats import spearmanr"
   ],
   "metadata": {
    "collapsed": false,
    "pycharm": {
     "name": "#%%\n"
    }
   }
  },
  {
   "cell_type": "code",
   "execution_count": 2,
   "outputs": [],
   "source": [
    "dfs = []\n",
    "for proteome_file in glob.glob('../data/alphafold/v2/AA_scores/*.csv'):\n",
    "    proteome = re.search(r\"/([A-Z0-9]+).csv\", proteome_file).group(1)\n",
    "    proteome_df = pd.read_csv(proteome_file, index_col=0)\n",
    "    proteome_df['proteome'] = proteome\n",
    "    dfs.append(proteome_df)\n",
    "df = pd.concat(dfs)"
   ],
   "metadata": {
    "collapsed": false,
    "pycharm": {
     "name": "#%%\n"
    }
   }
  },
  {
   "cell_type": "code",
   "execution_count": 8,
   "outputs": [],
   "source": [
    "random_uniprot_ids = df.loc[(df['seq_len'] > 20) & (df['proteome'] != 'HUMAN')][['uniprot_id', 'proteome']].sample(n=5000).values"
   ],
   "metadata": {
    "collapsed": false,
    "pycharm": {
     "name": "#%%\n"
    }
   }
  },
  {
   "cell_type": "code",
   "execution_count": 9,
   "outputs": [],
   "source": [
    "def get_plddt_scores(uniprot_id: str, proteome: str):\n",
    "    pLDDT_scores = []\n",
    "    with gzip.open(glob.glob(f'../data/alphafold/v2/*_{proteome}_v2/AF-{uniprot_id}-*.pdb.gz')[0], \"rt\") as handle:\n",
    "        seen_res_i = 0\n",
    "        for line in handle:\n",
    "            # The pLDDT is the last number in each ATOM line\n",
    "            if line.startswith('ATOM'):\n",
    "                res_i = int(line[22:27])\n",
    "                if res_i != seen_res_i:\n",
    "                    seen_res_i = res_i\n",
    "                    pLDDT = float(line[-20:-13])\n",
    "                    pLDDT_scores.append(pLDDT)\n",
    "    return np.asarray(pLDDT_scores)\n",
    "\n",
    "\n",
    "def load_sequence_from_uniprot(uniprot_id: str) -> str:\n",
    "    res = ''\n",
    "    try:\n",
    "        response = requests.get(f\"https://www.uniprot.org/uniprot/{uniprot_id}.fasta\").text\n",
    "        for decoded in response.split('\\n'):\n",
    "            if not decoded.startswith('>'):\n",
    "                res += decoded\n",
    "    except Exception as e:\n",
    "        print(f'Failed fetching sequence: {e.message if hasattr(e, \"message\") else e}')\n",
    "        pass\n",
    "    return res\n",
    "\n",
    "\n",
    "def get_iupred_scores(uniprot_id: str):\n",
    "    seq = load_sequence_from_uniprot(uniprot_id)\n",
    "    if seq is None:\n",
    "        return None\n",
    "    try:\n",
    "        res = iupred(seq, 'long')\n",
    "        return res[0]\n",
    "    except:\n",
    "        print(f'Error in {seq}')\n",
    "\n",
    "\n",
    "def calculate_spearman(entry):\n",
    "    try:\n",
    "        plddts = get_plddt_scores(entry[0], entry[1])\n",
    "        iupreds = get_iupred_scores(entry[0])\n",
    "        rho, p = spearmanr(plddts, iupreds)\n",
    "        return rho\n",
    "    except:\n",
    "        print(f'Error in {entry[0]}')\n",
    "        return None"
   ],
   "metadata": {
    "collapsed": false,
    "pycharm": {
     "name": "#%%\n"
    }
   }
  },
  {
   "cell_type": "code",
   "execution_count": 3,
   "outputs": [],
   "source": [
    "rhos = pqdm(random_uniprot_ids, calculate_spearman, n_jobs=10, desc='Sequences')"
   ],
   "metadata": {
    "collapsed": false,
    "pycharm": {
     "name": "#%%\n"
    }
   }
  },
  {
   "cell_type": "code",
   "execution_count": 20,
   "outputs": [
    {
     "data": {
      "text/plain": "             seq_len   domain_count        max_pae      min_plddt  \\\ncount  513491.000000  513491.000000  513491.000000  513491.000000   \nmean      418.879011       0.570520      30.831542      33.827475   \nstd       343.376647       1.107859       1.480995      11.474122   \nmin        20.000000       0.000000       6.000000       1.390000   \n25%       184.000000       0.000000      30.900000      25.650000   \n50%       330.000000       0.000000      31.300000      31.230000   \n75%       534.000000       1.000000      31.400000      38.710000   \nmax      2699.000000      46.000000      31.700000      97.030000   \n\n          mean_plddt   median_plddt  ratio_bad_plddt     iupred_auc  \\\ncount  513491.000000  513491.000000    513491.000000  513491.000000   \nmean       75.295734      79.046136         0.356741     126.058216   \nstd        15.024180      18.828361         0.292590     147.567754   \nmin        23.077300      22.170000         0.000000       0.000000   \n25%        64.819100      64.350000         0.112000      37.979450   \n50%        77.945700      87.310000         0.274000      79.952200   \n75%        87.670100      94.025000         0.556400     156.599100   \nmax        98.724100      98.860000         1.000000    2730.699900   \n\n        repeat_6mers  non_repeat_6mers  repeat_6mers_100  \\\ncount  513491.000000     513491.000000     513491.000000   \nmean        0.516297          0.000656          0.584466   \nstd         4.490001          0.048519          4.744459   \nmin         0.000000          0.000000          0.000000   \n25%         0.000000          0.000000          0.000000   \n50%         0.000000          0.000000          0.000000   \n75%         0.000000          0.000000          0.000000   \nmax       342.000000         11.000000        382.000000   \n\n       non_repeat_6mers_100  iupred_plddt_spearman  iupred_auc_normalized  \ncount         513491.000000          513491.000000          513491.000000  \nmean               0.019510              -0.311983               0.287498  \nstd                0.390805               0.317159               0.175203  \nmin                0.000000              -0.987435               0.000000  \n25%                0.000000              -0.564031               0.162901  \n50%                0.000000              -0.345583               0.255789  \n75%                0.000000              -0.103957               0.387481  \nmax               83.000000               0.918797               7.224074  ",
      "text/html": "<div>\n<style scoped>\n    .dataframe tbody tr th:only-of-type {\n        vertical-align: middle;\n    }\n\n    .dataframe tbody tr th {\n        vertical-align: top;\n    }\n\n    .dataframe thead th {\n        text-align: right;\n    }\n</style>\n<table border=\"1\" class=\"dataframe\">\n  <thead>\n    <tr style=\"text-align: right;\">\n      <th></th>\n      <th>seq_len</th>\n      <th>domain_count</th>\n      <th>max_pae</th>\n      <th>min_plddt</th>\n      <th>mean_plddt</th>\n      <th>median_plddt</th>\n      <th>ratio_bad_plddt</th>\n      <th>iupred_auc</th>\n      <th>repeat_6mers</th>\n      <th>non_repeat_6mers</th>\n      <th>repeat_6mers_100</th>\n      <th>non_repeat_6mers_100</th>\n      <th>iupred_plddt_spearman</th>\n      <th>iupred_auc_normalized</th>\n    </tr>\n  </thead>\n  <tbody>\n    <tr>\n      <th>count</th>\n      <td>513491.000000</td>\n      <td>513491.000000</td>\n      <td>513491.000000</td>\n      <td>513491.000000</td>\n      <td>513491.000000</td>\n      <td>513491.000000</td>\n      <td>513491.000000</td>\n      <td>513491.000000</td>\n      <td>513491.000000</td>\n      <td>513491.000000</td>\n      <td>513491.000000</td>\n      <td>513491.000000</td>\n      <td>513491.000000</td>\n      <td>513491.000000</td>\n    </tr>\n    <tr>\n      <th>mean</th>\n      <td>418.879011</td>\n      <td>0.570520</td>\n      <td>30.831542</td>\n      <td>33.827475</td>\n      <td>75.295734</td>\n      <td>79.046136</td>\n      <td>0.356741</td>\n      <td>126.058216</td>\n      <td>0.516297</td>\n      <td>0.000656</td>\n      <td>0.584466</td>\n      <td>0.019510</td>\n      <td>-0.311983</td>\n      <td>0.287498</td>\n    </tr>\n    <tr>\n      <th>std</th>\n      <td>343.376647</td>\n      <td>1.107859</td>\n      <td>1.480995</td>\n      <td>11.474122</td>\n      <td>15.024180</td>\n      <td>18.828361</td>\n      <td>0.292590</td>\n      <td>147.567754</td>\n      <td>4.490001</td>\n      <td>0.048519</td>\n      <td>4.744459</td>\n      <td>0.390805</td>\n      <td>0.317159</td>\n      <td>0.175203</td>\n    </tr>\n    <tr>\n      <th>min</th>\n      <td>20.000000</td>\n      <td>0.000000</td>\n      <td>6.000000</td>\n      <td>1.390000</td>\n      <td>23.077300</td>\n      <td>22.170000</td>\n      <td>0.000000</td>\n      <td>0.000000</td>\n      <td>0.000000</td>\n      <td>0.000000</td>\n      <td>0.000000</td>\n      <td>0.000000</td>\n      <td>-0.987435</td>\n      <td>0.000000</td>\n    </tr>\n    <tr>\n      <th>25%</th>\n      <td>184.000000</td>\n      <td>0.000000</td>\n      <td>30.900000</td>\n      <td>25.650000</td>\n      <td>64.819100</td>\n      <td>64.350000</td>\n      <td>0.112000</td>\n      <td>37.979450</td>\n      <td>0.000000</td>\n      <td>0.000000</td>\n      <td>0.000000</td>\n      <td>0.000000</td>\n      <td>-0.564031</td>\n      <td>0.162901</td>\n    </tr>\n    <tr>\n      <th>50%</th>\n      <td>330.000000</td>\n      <td>0.000000</td>\n      <td>31.300000</td>\n      <td>31.230000</td>\n      <td>77.945700</td>\n      <td>87.310000</td>\n      <td>0.274000</td>\n      <td>79.952200</td>\n      <td>0.000000</td>\n      <td>0.000000</td>\n      <td>0.000000</td>\n      <td>0.000000</td>\n      <td>-0.345583</td>\n      <td>0.255789</td>\n    </tr>\n    <tr>\n      <th>75%</th>\n      <td>534.000000</td>\n      <td>1.000000</td>\n      <td>31.400000</td>\n      <td>38.710000</td>\n      <td>87.670100</td>\n      <td>94.025000</td>\n      <td>0.556400</td>\n      <td>156.599100</td>\n      <td>0.000000</td>\n      <td>0.000000</td>\n      <td>0.000000</td>\n      <td>0.000000</td>\n      <td>-0.103957</td>\n      <td>0.387481</td>\n    </tr>\n    <tr>\n      <th>max</th>\n      <td>2699.000000</td>\n      <td>46.000000</td>\n      <td>31.700000</td>\n      <td>97.030000</td>\n      <td>98.724100</td>\n      <td>98.860000</td>\n      <td>1.000000</td>\n      <td>2730.699900</td>\n      <td>342.000000</td>\n      <td>11.000000</td>\n      <td>382.000000</td>\n      <td>83.000000</td>\n      <td>0.918797</td>\n      <td>7.224074</td>\n    </tr>\n  </tbody>\n</table>\n</div>"
     },
     "execution_count": 20,
     "metadata": {},
     "output_type": "execute_result"
    }
   ],
   "source": [
    "df_spearman = df[df['iupred_plddt_spearman'].notnull()].copy()\n",
    "df_spearman['iupred_auc_normalized'] = df_spearman['iupred_auc'] / df_spearman['seq_len']\n",
    "df_spearman.describe()"
   ],
   "metadata": {
    "collapsed": false,
    "pycharm": {
     "name": "#%%\n"
    }
   }
  },
  {
   "cell_type": "code",
   "execution_count": 38,
   "outputs": [],
   "source": [
    "import matplotlib.pyplot as plt"
   ],
   "metadata": {
    "collapsed": false,
    "pycharm": {
     "name": "#%%\n"
    }
   }
  },
  {
   "cell_type": "code",
   "execution_count": 6,
   "outputs": [
    {
     "data": {
      "text/plain": "<Figure size 432x288 with 1 Axes>",
      "image/png": "[encoded data removed]"
     },
     "metadata": {
      "needs_background": "light"
     },
     "output_type": "display_data"
    }
   ],
   "source": [
    "%matplotlib inline\n",
    "fig, ax = plt.subplots()\n",
    "ax.hist(df_spearman['iupred_plddt_spearman'].values, bins=25)\n",
    "ax.set_title('Correlation between pLDDT and IUPRED scores')\n",
    "ax.set_xlabel('Spearman r')\n",
    "plt.show()"
   ],
   "metadata": {
    "collapsed": false,
    "pycharm": {
     "name": "#%%\n"
    }
   }
  },
  {
   "cell_type": "code",
   "execution_count": 45,
   "outputs": [
    {
     "data": {
      "text/plain": "<Figure size 432x288 with 1 Axes>",
      "image/png": "[encoded data removed]"
     },
     "metadata": {
      "needs_background": "light"
     },
     "output_type": "display_data"
    }
   ],
   "source": [
    "%matplotlib inline\n",
    "fig, ax = plt.subplots()\n",
    "\n",
    "median = df_spearman['ratio_bad_plddt'].median()\n",
    "good_values = df_spearman[df_spearman['ratio_bad_plddt'] <= median]['iupred_plddt_spearman'].values\n",
    "bad_values = df_spearman[df_spearman['ratio_bad_plddt'] > median]['iupred_plddt_spearman'].values\n",
    "\n",
    "ax.hist([good_values, bad_values], bins=25, label=['Low ratio of bad plDDT', 'High ratio of bad plDDT'])\n",
    "ax.set_title('Correlation for different prediction qualities')\n",
    "ax.set_xlabel('Spearman r')\n",
    "\n",
    "plt.legend()\n",
    "plt.show()"
   ],
   "metadata": {
    "collapsed": false,
    "pycharm": {
     "name": "#%%\n"
    }
   }
  },
  {
   "cell_type": "markdown",
   "source": [
    "You can definitely see a significant correlation between both scores for most of the sequences. As expected, a low pLDDT often means high IUPRED score. However, we also see that there are outliers where a low pLDDT correlates with a low IUPRED. This might be connected to the sequences we found earlier with a high ratio of bad pLDDTs and a low IUPRED AUC. Vikram found those to be disordered and we expect IUPRED to be bad for those.\n",
    "\n",
    "- Count repeat 5 instead 4\n",
    "- Cut out -0.3 to 0.3 and throw uniprot id into KEGG (https://www.genome.jp/kegg/pathway.html) and GO databases (enrichment in signalling?)"
   ],
   "metadata": {
    "collapsed": false,
    "pycharm": {
     "name": "#%% md\n"
    }
   }
  },
  {
   "cell_type": "code",
   "execution_count": 32,
   "outputs": [
    {
     "data": {
      "text/plain": "iupred_plddt_spearman   -0.971244\niupred_auc_normalized    0.160105\ndtype: float64"
     },
     "execution_count": 32,
     "metadata": {},
     "output_type": "execute_result"
    }
   ],
   "source": [
    "df_spearman.nsmallest(10, columns=['iupred_plddt_spearman'])[['iupred_plddt_spearman', 'iupred_auc_normalized']].mean()"
   ],
   "metadata": {
    "collapsed": false,
    "pycharm": {
     "name": "#%%\n"
    }
   }
  },
  {
   "cell_type": "code",
   "execution_count": 22,
   "outputs": [
    {
     "data": {
      "text/plain": "<Figure size 432x288 with 1 Axes>",
      "image/png": "[encoded data removed]"
     },
     "metadata": {
      "needs_background": "light"
     },
     "output_type": "display_data"
    }
   ],
   "source": [
    "%matplotlib inline\n",
    "fig, ax = plt.subplots()\n",
    "ax.scatter(df_spearman['iupred_plddt_spearman'].values, df_spearman['iupred_auc_normalized'].values)\n",
    "ax.set_title('Relating Spearman r with IUPRED AUC')\n",
    "ax.set_xlabel('Spearman r')\n",
    "ax.set_ylabel('IUPRED AUC (Normalized)')\n",
    "plt.show()"
   ],
   "metadata": {
    "collapsed": false,
    "pycharm": {
     "name": "#%%\n"
    }
   }
  },
  {
   "cell_type": "code",
   "execution_count": null,
   "outputs": [],
   "source": [],
   "metadata": {
    "collapsed": false,
    "pycharm": {
     "name": "#%%\n"
    }
   }
  }
 ],
 "metadata": {
  "kernelspec": {
   "display_name": "Python 3",
   "language": "python",
   "name": "python3"
  },
  "language_info": {
   "codemirror_mode": {
    "name": "ipython",
    "version": 2
   },
   "file_extension": ".py",
   "mimetype": "text/x-python",
   "name": "python",
   "nbconvert_exporter": "python",
   "pygments_lexer": "ipython2",
   "version": "2.7.6"
  }
 },
 "nbformat": 4,
 "nbformat_minor": 0
}