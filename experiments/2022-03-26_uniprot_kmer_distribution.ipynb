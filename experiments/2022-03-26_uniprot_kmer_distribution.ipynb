{
 "cells": [
  {
   "cell_type": "markdown",
   "metadata": {
    "collapsed": true,
    "pycharm": {
     "name": "#%% md\n"
    }
   },
   "source": [
    "# Calculate kmer distribution for all sequences in UniProt\n",
    "Can be used downstream as a potential marker for randomness"
   ]
  },
  {
   "cell_type": "code",
   "execution_count": 25,
   "outputs": [],
   "source": [
    "import time\n",
    "\n",
    "import pandas as pd\n",
    "import numpy as np\n",
    "import matplotlib.pyplot as plt\n",
    "\n",
    "from collections import Counter\n",
    "from tqdm.auto import tqdm\n",
    "from pqdm.threads import pqdm"
   ],
   "metadata": {
    "collapsed": false,
    "pycharm": {
     "name": "#%%\n"
    }
   }
  },
  {
   "cell_type": "code",
   "execution_count": 21,
   "outputs": [],
   "source": [
    "def count_kmers_for_sequence(counter: Counter, seq: str, k: int):\n",
    "    n_kmers = len(seq) - k + 1\n",
    "    for i in range(n_kmers):\n",
    "        kmer = seq[i:i + k]\n",
    "        counter[kmer] += 1\n",
    "\n",
    "def load_kmer_counts_for_file(fasta_file: str, result_file: str, k=6):\n",
    "    kmer_counts = Counter()\n",
    "    with open(fasta_file) as f:\n",
    "        _seq_parts = list()\n",
    "        for line in f:\n",
    "            if line.startswith('>'):\n",
    "                if len(_seq_parts) > 0:\n",
    "                    count_kmers_for_sequence(kmer_counts, ''.join(_seq_parts), k)\n",
    "                _seq_parts.clear()\n",
    "                continue\n",
    "            _seq_parts.append(line.rstrip())\n",
    "        count_kmers_for_sequence(kmer_counts, ''.join(_seq_parts), k)\n",
    "\n",
    "    df = pd.DataFrame(data=kmer_counts.most_common(n=1000), columns=['kmer', 'count'])\n",
    "    df.to_csv(result_file, index=False)"
   ],
   "metadata": {
    "collapsed": false,
    "pycharm": {
     "name": "#%%\n"
    }
   }
  },
  {
   "cell_type": "code",
   "execution_count": 26,
   "outputs": [
    {
     "name": "stdout",
     "output_type": "stream",
     "text": [
      "1min 33s ± 2.4 s per loop (mean ± std. dev. of 7 runs, 1 loop each)\n",
      "Processed the sequences in 87.8458 seconds\n"
     ]
    }
   ],
   "source": [
    "tic = time.perf_counter()\n",
    "load_kmer_counts_for_file('../data/sprot/uniprot_sprot.fasta', result_file='../data/sprot/kmer_counts.csv')\n",
    "toc = time.perf_counter()\n",
    "print(f\"Processed the sequences in {toc - tic:0.4f} seconds\")"
   ],
   "metadata": {
    "collapsed": false,
    "pycharm": {
     "name": "#%%\n"
    }
   }
  },
  {
   "cell_type": "code",
   "execution_count": 35,
   "outputs": [],
   "source": [
    "df_sum_counts = df_counts.groupby('kmer')['count'].sum().reset_index().sort_values('count', ascending=False)"
   ],
   "metadata": {
    "collapsed": false,
    "pycharm": {
     "name": "#%%\n"
    }
   }
  },
  {
   "cell_type": "code",
   "execution_count": 38,
   "outputs": [
    {
     "data": {
      "text/plain": "<Figure size 432x288 with 1 Axes>",
      "image/png": "[encoded data removed]"
     },
     "metadata": {
      "needs_background": "light"
     },
     "output_type": "display_data"
    }
   ],
   "source": [
    "nkmers = 20\n",
    "fig, ax = plt.subplots()\n",
    "ax.bar(df_sum_counts['kmer'][:nkmers], df_sum_counts['count'][:nkmers])\n",
    "ax.set_title(f'Most frequent kmers for all')\n",
    "ax.tick_params(labelrotation=90)\n",
    "plt.show()"
   ],
   "metadata": {
    "collapsed": false,
    "pycharm": {
     "name": "#%%\n"
    }
   }
  },
  {
   "cell_type": "code",
   "execution_count": null,
   "outputs": [],
   "source": [],
   "metadata": {
    "collapsed": false,
    "pycharm": {
     "name": "#%%\n"
    }
   }
  }
 ],
 "metadata": {
  "kernelspec": {
   "display_name": "Python 3",
   "language": "python",
   "name": "python3"
  },
  "language_info": {
   "codemirror_mode": {
    "name": "ipython",
    "version": 2
   },
   "file_extension": ".py",
   "mimetype": "text/x-python",
   "name": "python",
   "nbconvert_exporter": "python",
   "pygments_lexer": "ipython2",
   "version": "2.7.6"
  }
 },
 "nbformat": 4,
 "nbformat_minor": 0
}