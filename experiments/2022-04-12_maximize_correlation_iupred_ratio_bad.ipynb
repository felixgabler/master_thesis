{
 "cells": [
  {
   "cell_type": "markdown",
   "metadata": {
    "collapsed": true,
    "pycharm": {
     "name": "#%% md\n"
    }
   },
   "source": [
    "# Maximize the correlation between the ratio of bad pLDDT and our metrics\n",
    "Because iupred_auc_normalized, repeat_6mers_normalized and non_repeat_6mers_normalized on their own just got a small correlation, we investigate here what happens if we just compute weights that maximize correlation. Can we use these to predict?"
   ]
  },
  {
   "cell_type": "code",
   "execution_count": 1,
   "outputs": [],
   "source": [
    "import re\n",
    "import glob\n",
    "\n",
    "import pandas as pd\n",
    "import numpy as np\n",
    "import matplotlib.pyplot as plt"
   ],
   "metadata": {
    "collapsed": false,
    "pycharm": {
     "name": "#%%\n"
    }
   }
  },
  {
   "cell_type": "code",
   "execution_count": 2,
   "outputs": [],
   "source": [
    "dfs = []\n",
    "for proteome_file in glob.glob('../data/alphafold/v2/AA_scores/*.csv'):\n",
    "    proteome = re.search(r\"/([A-Z0-9]+).csv\", proteome_file).group(1)\n",
    "    proteome_df = pd.read_csv(proteome_file, index_col=0)\n",
    "    proteome_df['proteome'] = proteome\n",
    "    dfs.append(proteome_df)\n",
    "df_with_outliers = pd.concat(dfs)"
   ],
   "metadata": {
    "collapsed": false,
    "pycharm": {
     "name": "#%%\n"
    }
   }
  },
  {
   "cell_type": "code",
   "execution_count": 3,
   "outputs": [],
   "source": [
    "# Filter to sequences that have IUPred AUC and remove outliers\n",
    "df_with_outliers = df_with_outliers[df_with_outliers['iupred_auc'].notnull()]\n",
    "df_with_outliers['iupred_auc_normalized'] = df_with_outliers['iupred_auc'] / df_with_outliers['seq_len']\n",
    "df_with_outliers.nlargest(n=10, columns='iupred_auc_normalized')\n",
    "df = df_with_outliers[df_with_outliers['iupred_auc_normalized'] < 1.6].copy()"
   ],
   "metadata": {
    "collapsed": false,
    "pycharm": {
     "name": "#%%\n"
    }
   }
  },
  {
   "cell_type": "code",
   "execution_count": 4,
   "outputs": [],
   "source": [
    "# Use 6mer counts of 2k most common and normalize\n",
    "df['repeat_6mers'] = df['repeat_6mers_2000']\n",
    "df['non_repeat_6mers'] = df['non_repeat_6mers_2000']\n",
    "df = df[(df['repeat_6mers'].notnull() & df['non_repeat_6mers'].notnull() & df['aa_distr_js'].notnull())].copy()\n",
    "df['repeat_6mers_normalized'] = df['repeat_6mers'] / df['seq_len']\n",
    "df['non_repeat_6mers_normalized'] = df['non_repeat_6mers'] / df['seq_len']"
   ],
   "metadata": {
    "collapsed": false,
    "pycharm": {
     "name": "#%%\n"
    }
   }
  },
  {
   "cell_type": "code",
   "execution_count": 5,
   "outputs": [
    {
     "data": {
      "text/plain": "            seq_len   domain_count     min_plddt    mean_plddt  median_plddt  \\\ncount  1.056360e+06  514617.000000  1.056360e+06  1.056360e+06  1.056360e+06   \nmean   3.855214e+02       0.570992  3.932188e+01  8.158377e+01  8.522043e+01   \nstd    3.108608e+02       1.108974  1.512894e+01  1.432802e+01  1.663241e+01   \nmin    1.800000e+01       0.000000  1.390000e+00  2.307730e+01  2.217000e+01   \n25%    1.780000e+02       0.000000  2.796000e+01  7.327700e+01  8.219000e+01   \n50%    3.120000e+02       0.000000  3.537000e+01  8.621990e+01  9.259500e+01   \n75%    4.860000e+02       1.000000  4.686000e+01  9.303640e+01  9.644000e+01   \nmax    2.699000e+03      46.000000  9.738000e+01  9.875400e+01  9.887000e+01   \n\n       ratio_bad_plddt    iupred_auc  iupred_plddt_spearman  \\\ncount     1.056360e+06  1.056360e+06          513489.000000   \nmean      2.427842e-01  6.158025e+01              -0.311985   \nstd       2.701710e-01  1.207424e+02               0.317157   \nmin       0.000000e+00  0.000000e+00              -0.987435   \n25%       3.400000e-02  2.276000e-01              -0.564031   \n50%       1.327000e-01  5.627000e-01              -0.345590   \n75%       3.676000e-01  7.737430e+01              -0.103959   \nmax       1.000000e+00  2.123831e+03               0.918797   \n\n       repeat_6mers_2000  non_repeat_6mers_2000  ...  freq_neg_charge  \\\ncount       1.056360e+06           1.056360e+06  ...     1.056360e+06   \nmean        4.908781e-01           9.778343e-01  ...     1.159406e-01   \nstd         4.024752e+00           4.935270e+00  ...     3.887318e-02   \nmin         0.000000e+00           0.000000e+00  ...     0.000000e+00   \n25%         0.000000e+00           0.000000e+00  ...     9.420000e-02   \n50%         0.000000e+00           0.000000e+00  ...     1.174000e-01   \n75%         0.000000e+00           1.000000e+00  ...     1.381000e-01   \nmax         3.860000e+02           6.730000e+02  ...     8.889000e-01   \n\n         freq_polar  freq_non_polar           IEP  suboptim_compress  \\\ncount  1.056360e+06    1.056360e+06  1.056360e+06      207722.000000   \nmean   5.112160e-01    2.319420e-01  7.156469e+00           0.133778   \nstd    7.148853e-02    5.426308e-02  1.925671e+00           0.101513   \nmin    0.000000e+00    0.000000e+00  4.050000e+00           0.000000   \n25%    4.684000e-01    1.973000e-01  5.503500e+00           0.054900   \n50%    5.092000e-01    2.283000e-01  6.543700e+00           0.112800   \n75%    5.513000e-01    2.614000e-01  8.936000e+00           0.194200   \nmax    1.000000e+00    9.875000e-01  1.200000e+01           0.680400   \n\n       iupred_auc_normalized  repeat_6mers  non_repeat_6mers  \\\ncount           1.056360e+06  1.056360e+06      1.056360e+06   \nmean            1.406801e-01  4.908781e-01      9.778343e-01   \nstd             1.881259e-01  4.024752e+00      4.935270e+00   \nmin             0.000000e+00  0.000000e+00      0.000000e+00   \n25%             6.807276e-04  0.000000e+00      0.000000e+00   \n50%             4.800000e-03  0.000000e+00      0.000000e+00   \n75%             2.508322e-01  0.000000e+00      1.000000e+00   \nmax             1.342777e+00  3.860000e+02      6.730000e+02   \n\n       repeat_6mers_normalized  non_repeat_6mers_normalized  \ncount             1.056360e+06                 1.056360e+06  \nmean              1.013082e-03                 2.433605e-03  \nstd               7.667400e-03                 1.149621e-02  \nmin               0.000000e+00                 0.000000e+00  \n25%               0.000000e+00                 0.000000e+00  \n50%               0.000000e+00                 0.000000e+00  \n75%               0.000000e+00                 1.353180e-03  \nmax               9.250000e-01                 7.719298e-01  \n\n[8 rows x 22 columns]",
      "text/html": "<div>\n<style scoped>\n    .dataframe tbody tr th:only-of-type {\n        vertical-align: middle;\n    }\n\n    .dataframe tbody tr th {\n        vertical-align: top;\n    }\n\n    .dataframe thead th {\n        text-align: right;\n    }\n</style>\n<table border=\"1\" class=\"dataframe\">\n  <thead>\n    <tr style=\"text-align: right;\">\n      <th></th>\n      <th>seq_len</th>\n      <th>domain_count</th>\n      <th>min_plddt</th>\n      <th>mean_plddt</th>\n      <th>median_plddt</th>\n      <th>ratio_bad_plddt</th>\n      <th>iupred_auc</th>\n      <th>iupred_plddt_spearman</th>\n      <th>repeat_6mers_2000</th>\n      <th>non_repeat_6mers_2000</th>\n      <th>...</th>\n      <th>freq_neg_charge</th>\n      <th>freq_polar</th>\n      <th>freq_non_polar</th>\n      <th>IEP</th>\n      <th>suboptim_compress</th>\n      <th>iupred_auc_normalized</th>\n      <th>repeat_6mers</th>\n      <th>non_repeat_6mers</th>\n      <th>repeat_6mers_normalized</th>\n      <th>non_repeat_6mers_normalized</th>\n    </tr>\n  </thead>\n  <tbody>\n    <tr>\n      <th>count</th>\n      <td>1.056360e+06</td>\n      <td>514617.000000</td>\n      <td>1.056360e+06</td>\n      <td>1.056360e+06</td>\n      <td>1.056360e+06</td>\n      <td>1.056360e+06</td>\n      <td>1.056360e+06</td>\n      <td>513489.000000</td>\n      <td>1.056360e+06</td>\n      <td>1.056360e+06</td>\n      <td>...</td>\n      <td>1.056360e+06</td>\n      <td>1.056360e+06</td>\n      <td>1.056360e+06</td>\n      <td>1.056360e+06</td>\n      <td>207722.000000</td>\n      <td>1.056360e+06</td>\n      <td>1.056360e+06</td>\n      <td>1.056360e+06</td>\n      <td>1.056360e+06</td>\n      <td>1.056360e+06</td>\n    </tr>\n    <tr>\n      <th>mean</th>\n      <td>3.855214e+02</td>\n      <td>0.570992</td>\n      <td>3.932188e+01</td>\n      <td>8.158377e+01</td>\n      <td>8.522043e+01</td>\n      <td>2.427842e-01</td>\n      <td>6.158025e+01</td>\n      <td>-0.311985</td>\n      <td>4.908781e-01</td>\n      <td>9.778343e-01</td>\n      <td>...</td>\n      <td>1.159406e-01</td>\n      <td>5.112160e-01</td>\n      <td>2.319420e-01</td>\n      <td>7.156469e+00</td>\n      <td>0.133778</td>\n      <td>1.406801e-01</td>\n      <td>4.908781e-01</td>\n      <td>9.778343e-01</td>\n      <td>1.013082e-03</td>\n      <td>2.433605e-03</td>\n    </tr>\n    <tr>\n      <th>std</th>\n      <td>3.108608e+02</td>\n      <td>1.108974</td>\n      <td>1.512894e+01</td>\n      <td>1.432802e+01</td>\n      <td>1.663241e+01</td>\n      <td>2.701710e-01</td>\n      <td>1.207424e+02</td>\n      <td>0.317157</td>\n      <td>4.024752e+00</td>\n      <td>4.935270e+00</td>\n      <td>...</td>\n      <td>3.887318e-02</td>\n      <td>7.148853e-02</td>\n      <td>5.426308e-02</td>\n      <td>1.925671e+00</td>\n      <td>0.101513</td>\n      <td>1.881259e-01</td>\n      <td>4.024752e+00</td>\n      <td>4.935270e+00</td>\n      <td>7.667400e-03</td>\n      <td>1.149621e-02</td>\n    </tr>\n    <tr>\n      <th>min</th>\n      <td>1.800000e+01</td>\n      <td>0.000000</td>\n      <td>1.390000e+00</td>\n      <td>2.307730e+01</td>\n      <td>2.217000e+01</td>\n      <td>0.000000e+00</td>\n      <td>0.000000e+00</td>\n      <td>-0.987435</td>\n      <td>0.000000e+00</td>\n      <td>0.000000e+00</td>\n      <td>...</td>\n      <td>0.000000e+00</td>\n      <td>0.000000e+00</td>\n      <td>0.000000e+00</td>\n      <td>4.050000e+00</td>\n      <td>0.000000</td>\n      <td>0.000000e+00</td>\n      <td>0.000000e+00</td>\n      <td>0.000000e+00</td>\n      <td>0.000000e+00</td>\n      <td>0.000000e+00</td>\n    </tr>\n    <tr>\n      <th>25%</th>\n      <td>1.780000e+02</td>\n      <td>0.000000</td>\n      <td>2.796000e+01</td>\n      <td>7.327700e+01</td>\n      <td>8.219000e+01</td>\n      <td>3.400000e-02</td>\n      <td>2.276000e-01</td>\n      <td>-0.564031</td>\n      <td>0.000000e+00</td>\n      <td>0.000000e+00</td>\n      <td>...</td>\n      <td>9.420000e-02</td>\n      <td>4.684000e-01</td>\n      <td>1.973000e-01</td>\n      <td>5.503500e+00</td>\n      <td>0.054900</td>\n      <td>6.807276e-04</td>\n      <td>0.000000e+00</td>\n      <td>0.000000e+00</td>\n      <td>0.000000e+00</td>\n      <td>0.000000e+00</td>\n    </tr>\n    <tr>\n      <th>50%</th>\n      <td>3.120000e+02</td>\n      <td>0.000000</td>\n      <td>3.537000e+01</td>\n      <td>8.621990e+01</td>\n      <td>9.259500e+01</td>\n      <td>1.327000e-01</td>\n      <td>5.627000e-01</td>\n      <td>-0.345590</td>\n      <td>0.000000e+00</td>\n      <td>0.000000e+00</td>\n      <td>...</td>\n      <td>1.174000e-01</td>\n      <td>5.092000e-01</td>\n      <td>2.283000e-01</td>\n      <td>6.543700e+00</td>\n      <td>0.112800</td>\n      <td>4.800000e-03</td>\n      <td>0.000000e+00</td>\n      <td>0.000000e+00</td>\n      <td>0.000000e+00</td>\n      <td>0.000000e+00</td>\n    </tr>\n    <tr>\n      <th>75%</th>\n      <td>4.860000e+02</td>\n      <td>1.000000</td>\n      <td>4.686000e+01</td>\n      <td>9.303640e+01</td>\n      <td>9.644000e+01</td>\n      <td>3.676000e-01</td>\n      <td>7.737430e+01</td>\n      <td>-0.103959</td>\n      <td>0.000000e+00</td>\n      <td>1.000000e+00</td>\n      <td>...</td>\n      <td>1.381000e-01</td>\n      <td>5.513000e-01</td>\n      <td>2.614000e-01</td>\n      <td>8.936000e+00</td>\n      <td>0.194200</td>\n      <td>2.508322e-01</td>\n      <td>0.000000e+00</td>\n      <td>1.000000e+00</td>\n      <td>0.000000e+00</td>\n      <td>1.353180e-03</td>\n    </tr>\n    <tr>\n      <th>max</th>\n      <td>2.699000e+03</td>\n      <td>46.000000</td>\n      <td>9.738000e+01</td>\n      <td>9.875400e+01</td>\n      <td>9.887000e+01</td>\n      <td>1.000000e+00</td>\n      <td>2.123831e+03</td>\n      <td>0.918797</td>\n      <td>3.860000e+02</td>\n      <td>6.730000e+02</td>\n      <td>...</td>\n      <td>8.889000e-01</td>\n      <td>1.000000e+00</td>\n      <td>9.875000e-01</td>\n      <td>1.200000e+01</td>\n      <td>0.680400</td>\n      <td>1.342777e+00</td>\n      <td>3.860000e+02</td>\n      <td>6.730000e+02</td>\n      <td>9.250000e-01</td>\n      <td>7.719298e-01</td>\n    </tr>\n  </tbody>\n</table>\n<p>8 rows × 22 columns</p>\n</div>"
     },
     "execution_count": 5,
     "metadata": {},
     "output_type": "execute_result"
    }
   ],
   "source": [
    "df.describe()"
   ],
   "metadata": {
    "collapsed": false,
    "pycharm": {
     "name": "#%%\n"
    }
   }
  },
  {
   "cell_type": "code",
   "execution_count": 6,
   "outputs": [
    {
     "name": "stdout",
     "output_type": "stream",
     "text": [
      "Spearman rank correlation (IUPred AUC): 0.5024\n",
      "Spearman rank correlation (Repeat): 0.2878\n",
      "Spearman rank correlation (Non-repeat): 0.1590\n"
     ]
    }
   ],
   "source": [
    "from scipy.stats import spearmanr\n",
    "\n",
    "rho, p = spearmanr(df['ratio_bad_plddt'], df['iupred_auc_normalized'])\n",
    "print(f'Spearman rank correlation (IUPred AUC): {\"{0:.4f}\".format(rho)}')\n",
    "rho1, p1 = spearmanr(df['ratio_bad_plddt'], df['repeat_6mers_normalized'])\n",
    "print(f'Spearman rank correlation (Repeat): {\"{0:.4f}\".format(rho1)}')\n",
    "rho2, p2 = spearmanr(df['ratio_bad_plddt'], df['non_repeat_6mers_normalized'])\n",
    "print(f'Spearman rank correlation (Non-repeat): {\"{0:.4f}\".format(rho2)}')"
   ],
   "metadata": {
    "collapsed": false,
    "pycharm": {
     "name": "#%%\n"
    }
   }
  },
  {
   "cell_type": "code",
   "execution_count": 7,
   "outputs": [],
   "source": [
    "weights = np.asarray([0.33, 0.33, 0.33])\n",
    "all_weights = []"
   ],
   "metadata": {
    "collapsed": false,
    "pycharm": {
     "name": "#%%\n"
    }
   }
  },
  {
   "cell_type": "code",
   "execution_count": 8,
   "outputs": [
    {
     "name": "stdout",
     "output_type": "stream",
     "text": [
      "Spearman rank correlation (Optimized): 0.5375\n",
      "Spearman rank correlation (Optimized): 0.5375\n",
      "Spearman rank correlation (Optimized): 0.5388\n",
      "Spearman rank correlation (Optimized): 0.5404\n",
      "Spearman rank correlation (Optimized): 0.5404\n"
     ]
    }
   ],
   "source": [
    "import scipy.optimize as opt\n",
    "\n",
    "features = ['iupred_auc_normalized', 'repeat_6mers_normalized', 'non_repeat_6mers_normalized']\n",
    "\n",
    "def fun(w):\n",
    "    r, _ = spearmanr(df['ratio_bad_plddt'], df[features] @ w)\n",
    "    # abs to turn into minimization problem\n",
    "    return -np.abs(r)\n",
    "\n",
    "for _ in range(5):\n",
    "    all_weights.append(weights)\n",
    "    res = opt.minimize(fun, weights)\n",
    "    weights = res.x\n",
    "    print(f'Spearman rank correlation (Optimized): {\"{0:.4f}\".format(-res.fun)}')"
   ],
   "metadata": {
    "collapsed": false,
    "pycharm": {
     "name": "#%%\n"
    }
   }
  },
  {
   "cell_type": "code",
   "execution_count": 9,
   "outputs": [
    {
     "name": "stdout",
     "output_type": "stream",
     "text": [
      "Spearman rank correlation (Optimized): 0.5404\n"
     ]
    }
   ],
   "source": [
    "x = weights[0] * df['iupred_auc_normalized'] + weights[1] * df['repeat_6mers_normalized'] + weights[2] * df['non_repeat_6mers_normalized']\n",
    "rho_x, p_x = spearmanr(df['ratio_bad_plddt'], x)\n",
    "print(f'Spearman rank correlation (Optimized): {\"{0:.4f}\".format(rho_x)}')"
   ],
   "metadata": {
    "collapsed": false,
    "pycharm": {
     "name": "#%%\n"
    }
   }
  },
  {
   "cell_type": "code",
   "execution_count": 10,
   "outputs": [],
   "source": [
    "all_weights = np.asarray(all_weights)\n",
    "\n",
    "xs = [spearmanr(df['ratio_bad_plddt'], w[0] * df['iupred_auc_normalized'] + w[1] * df['repeat_6mers_normalized'] + w[2] * df['non_repeat_6mers_normalized'])[0] for w in all_weights]"
   ],
   "metadata": {
    "collapsed": false,
    "pycharm": {
     "name": "#%%\n"
    }
   }
  },
  {
   "cell_type": "code",
   "execution_count": 11,
   "outputs": [
    {
     "data": {
      "text/plain": "<Figure size 432x288 with 1 Axes>",
      "image/png": "[encoded data removed]"
     },
     "metadata": {
      "needs_background": "light"
     },
     "output_type": "display_data"
    }
   ],
   "source": [
    "%matplotlib inline\n",
    "fig, ax = plt.subplots()\n",
    "\n",
    "ax.plot(range(len(all_weights)), xs)\n",
    "ax.set_title('Correlation maximization')\n",
    "ax.set_ylabel('Spearman r')\n",
    "ax.set_xlabel('Iteration')\n",
    "\n",
    "plt.show()"
   ],
   "metadata": {
    "collapsed": false,
    "pycharm": {
     "name": "#%%\n"
    }
   }
  },
  {
   "cell_type": "markdown",
   "source": [
    "### Now also with Jensen-Shannon"
   ],
   "metadata": {
    "collapsed": false,
    "pycharm": {
     "name": "#%% md\n"
    }
   }
  },
  {
   "cell_type": "code",
   "execution_count": 12,
   "outputs": [],
   "source": [
    "weights_js = np.asarray([0.17525,0.26599,0.23276,0.34607])\n",
    "all_weights_js = []"
   ],
   "metadata": {
    "collapsed": false,
    "pycharm": {
     "name": "#%%\n"
    }
   }
  },
  {
   "cell_type": "code",
   "execution_count": 13,
   "outputs": [
    {
     "name": "stdout",
     "output_type": "stream",
     "text": [
      "Spearman rank correlation (Optimized): 0.5586\n",
      "Spearman rank correlation (Optimized): 0.5588\n",
      "Spearman rank correlation (Optimized): 0.5588\n",
      "Spearman rank correlation (Optimized): 0.5588\n",
      "Spearman rank correlation (Optimized): 0.5588\n"
     ]
    }
   ],
   "source": [
    "import scipy.optimize as opt\n",
    "\n",
    "features = ['iupred_auc_normalized', 'repeat_6mers_normalized', 'non_repeat_6mers_normalized', 'aa_distr_js']\n",
    "\n",
    "def fun(w):\n",
    "    r, _ = spearmanr(df['ratio_bad_plddt'], df[features] @ w)\n",
    "    # abs to turn into minimization problem\n",
    "    return -np.abs(r)\n",
    "\n",
    "for _ in range(5):\n",
    "    all_weights_js.append(weights_js)\n",
    "    res = opt.minimize(fun, weights_js)\n",
    "    weights_js = res.x\n",
    "    print(f'Spearman rank correlation (Optimized): {\"{0:.4f}\".format(-res.fun)}')"
   ],
   "metadata": {
    "collapsed": false,
    "pycharm": {
     "name": "#%%\n"
    }
   }
  },
  {
   "cell_type": "code",
   "execution_count": null,
   "outputs": [],
   "source": [],
   "metadata": {
    "collapsed": false,
    "pycharm": {
     "name": "#%%\n"
    }
   }
  }
 ],
 "metadata": {
  "kernelspec": {
   "display_name": "Python 3",
   "language": "python",
   "name": "python3"
  },
  "language_info": {
   "codemirror_mode": {
    "name": "ipython",
    "version": 2
   },
   "file_extension": ".py",
   "mimetype": "text/x-python",
   "name": "python",
   "nbconvert_exporter": "python",
   "pygments_lexer": "ipython2",
   "version": "2.7.6"
  }
 },
 "nbformat": 4,
 "nbformat_minor": 0
}