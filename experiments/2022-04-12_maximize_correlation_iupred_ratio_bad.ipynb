{
 "cells": [
  {
   "cell_type": "markdown",
   "metadata": {
    "collapsed": true,
    "pycharm": {
     "name": "#%% md\n"
    }
   },
   "source": [
    "# Maximize the correlation between the ratio of bad pLDDT and our metrics\n",
    "Because iupred_auc_normalized, repeat_6mers_normalized and non_repeat_6mers_normalized on their own just got a small correlation, we investigate here what happens if we just compute weights that maximize correlation. Can we use these to predict?"
   ]
  },
  {
   "cell_type": "code",
   "execution_count": 1,
   "outputs": [],
   "source": [
    "import re\n",
    "import glob\n",
    "\n",
    "import pandas as pd\n",
    "import numpy as np\n",
    "import matplotlib.pyplot as plt"
   ],
   "metadata": {
    "collapsed": false,
    "pycharm": {
     "name": "#%%\n"
    }
   }
  },
  {
   "cell_type": "code",
   "execution_count": 4,
   "outputs": [],
   "source": [
    "dfs = []\n",
    "for proteome_file in glob.glob('../data/alphafold/v2/AA_scores/*.csv'):\n",
    "    proteome = re.search(r\"/([A-Z0-9]+).csv\", proteome_file).group(1)\n",
    "    proteome_df = pd.read_csv(proteome_file, index_col=0)\n",
    "    proteome_df['proteome'] = proteome\n",
    "    dfs.append(proteome_df)\n",
    "df_with_outliers = pd.concat(dfs)"
   ],
   "metadata": {
    "collapsed": false,
    "pycharm": {
     "name": "#%%\n"
    }
   }
  },
  {
   "cell_type": "code",
   "execution_count": 5,
   "outputs": [],
   "source": [
    "# Filter to sequences that have IUPred AUC and remove outliers\n",
    "df_with_outliers = df_with_outliers[df_with_outliers['iupred_auc'].notnull()]\n",
    "df_with_outliers['iupred_auc_normalized'] = df_with_outliers['iupred_auc'] / df_with_outliers['seq_len']\n",
    "df_with_outliers.nlargest(n=10, columns='iupred_auc_normalized')\n",
    "df = df_with_outliers[df_with_outliers['iupred_auc_normalized'] < 1.6]"
   ],
   "metadata": {
    "collapsed": false,
    "pycharm": {
     "name": "#%%\n"
    }
   }
  },
  {
   "cell_type": "code",
   "execution_count": 7,
   "outputs": [],
   "source": [
    "# Use 6mer counts of 2k most common and normalize\n",
    "df['repeat_6mers'] = df['repeat_6mers_2000']\n",
    "df['non_repeat_6mers'] = df['non_repeat_6mers_2000']\n",
    "df = df[(df['repeat_6mers'].notnull() & df['non_repeat_6mers'].notnull())].copy()\n",
    "df['repeat_6mers_normalized'] = df['repeat_6mers'] / df['seq_len']\n",
    "df['non_repeat_6mers_normalized'] = df['non_repeat_6mers'] / df['seq_len']"
   ],
   "metadata": {
    "collapsed": false,
    "pycharm": {
     "name": "#%%\n"
    }
   }
  },
  {
   "cell_type": "code",
   "execution_count": 8,
   "outputs": [
    {
     "data": {
      "text/plain": "             seq_len   domain_count        max_pae      min_plddt  \\\ncount  514617.000000  514617.000000  514617.000000  514617.000000   \nmean      419.081513       0.570992      30.832085      33.822719   \nstd       343.523527       1.108974       1.480735      11.471807   \nmin        18.000000       0.000000       6.000000       1.390000   \n25%       184.000000       0.000000      30.900000      25.650000   \n50%       330.000000       0.000000      31.300000      31.230000   \n75%       534.000000       1.000000      31.400000      38.710000   \nmax      2699.000000      46.000000      31.700000      97.030000   \n\n          mean_plddt   median_plddt  ratio_bad_plddt     iupred_auc  \\\ncount  514617.000000  514617.000000    514617.000000  514617.000000   \nmean       75.292741      79.043795         0.356778     126.146083   \nstd        15.024630      18.830889         0.292574     147.638547   \nmin        23.077300      22.170000         0.000000       0.000000   \n25%        64.816400      64.350000         0.112000      37.994800   \n50%        77.941700      87.310000         0.274100      80.004000   \n75%        87.666800      94.025000         0.556400     156.731800   \nmax        98.724100      98.860000         1.000000    2123.831300   \n\n        repeat_6mers  non_repeat_6mers  repeat_6mers_100  \\\ncount  514617.000000     514617.000000     514617.000000   \nmean        0.755632          0.976800          0.583856   \nstd         5.020153          3.640881          4.739819   \nmin         0.000000          0.000000          0.000000   \n25%         0.000000          0.000000          0.000000   \n50%         0.000000          0.000000          0.000000   \n75%         0.000000          1.000000          0.000000   \nmax       386.000000        673.000000        382.000000   \n\n       non_repeat_6mers_100  iupred_plddt_spearman  repeat_6mers_2000  \\\ncount         514617.000000          513489.000000      514617.000000   \nmean               0.019857              -0.311985           0.755632   \nstd                0.394821               0.317157           5.020153   \nmin                0.000000              -0.987435           0.000000   \n25%                0.000000              -0.564031           0.000000   \n50%                0.000000              -0.345590           0.000000   \n75%                0.000000              -0.103959           0.000000   \nmax               83.000000               0.918797         386.000000   \n\n       non_repeat_6mers_2000  iupred_auc_normalized  repeat_6mers_normalized  \\\ncount          514617.000000          514617.000000            514617.000000   \nmean                0.976800               0.287506                 0.001580   \nstd                 3.640881               0.174953                 0.009674   \nmin                 0.000000               0.000000                 0.000000   \n25%                 0.000000               0.162898                 0.000000   \n50%                 0.000000               0.255811                 0.000000   \n75%                 1.000000               0.387581                 0.000000   \nmax               673.000000               1.342777                 0.807487   \n\n       non_repeat_6mers_normalized  \ncount                514617.000000  \nmean                      0.002406  \nstd                       0.008889  \nmin                       0.000000  \n25%                       0.000000  \n50%                       0.000000  \n75%                       0.001862  \nmax                       0.771930  ",
      "text/html": "<div>\n<style scoped>\n    .dataframe tbody tr th:only-of-type {\n        vertical-align: middle;\n    }\n\n    .dataframe tbody tr th {\n        vertical-align: top;\n    }\n\n    .dataframe thead th {\n        text-align: right;\n    }\n</style>\n<table border=\"1\" class=\"dataframe\">\n  <thead>\n    <tr style=\"text-align: right;\">\n      <th></th>\n      <th>seq_len</th>\n      <th>domain_count</th>\n      <th>max_pae</th>\n      <th>min_plddt</th>\n      <th>mean_plddt</th>\n      <th>median_plddt</th>\n      <th>ratio_bad_plddt</th>\n      <th>iupred_auc</th>\n      <th>repeat_6mers</th>\n      <th>non_repeat_6mers</th>\n      <th>repeat_6mers_100</th>\n      <th>non_repeat_6mers_100</th>\n      <th>iupred_plddt_spearman</th>\n      <th>repeat_6mers_2000</th>\n      <th>non_repeat_6mers_2000</th>\n      <th>iupred_auc_normalized</th>\n      <th>repeat_6mers_normalized</th>\n      <th>non_repeat_6mers_normalized</th>\n    </tr>\n  </thead>\n  <tbody>\n    <tr>\n      <th>count</th>\n      <td>514617.000000</td>\n      <td>514617.000000</td>\n      <td>514617.000000</td>\n      <td>514617.000000</td>\n      <td>514617.000000</td>\n      <td>514617.000000</td>\n      <td>514617.000000</td>\n      <td>514617.000000</td>\n      <td>514617.000000</td>\n      <td>514617.000000</td>\n      <td>514617.000000</td>\n      <td>514617.000000</td>\n      <td>513489.000000</td>\n      <td>514617.000000</td>\n      <td>514617.000000</td>\n      <td>514617.000000</td>\n      <td>514617.000000</td>\n      <td>514617.000000</td>\n    </tr>\n    <tr>\n      <th>mean</th>\n      <td>419.081513</td>\n      <td>0.570992</td>\n      <td>30.832085</td>\n      <td>33.822719</td>\n      <td>75.292741</td>\n      <td>79.043795</td>\n      <td>0.356778</td>\n      <td>126.146083</td>\n      <td>0.755632</td>\n      <td>0.976800</td>\n      <td>0.583856</td>\n      <td>0.019857</td>\n      <td>-0.311985</td>\n      <td>0.755632</td>\n      <td>0.976800</td>\n      <td>0.287506</td>\n      <td>0.001580</td>\n      <td>0.002406</td>\n    </tr>\n    <tr>\n      <th>std</th>\n      <td>343.523527</td>\n      <td>1.108974</td>\n      <td>1.480735</td>\n      <td>11.471807</td>\n      <td>15.024630</td>\n      <td>18.830889</td>\n      <td>0.292574</td>\n      <td>147.638547</td>\n      <td>5.020153</td>\n      <td>3.640881</td>\n      <td>4.739819</td>\n      <td>0.394821</td>\n      <td>0.317157</td>\n      <td>5.020153</td>\n      <td>3.640881</td>\n      <td>0.174953</td>\n      <td>0.009674</td>\n      <td>0.008889</td>\n    </tr>\n    <tr>\n      <th>min</th>\n      <td>18.000000</td>\n      <td>0.000000</td>\n      <td>6.000000</td>\n      <td>1.390000</td>\n      <td>23.077300</td>\n      <td>22.170000</td>\n      <td>0.000000</td>\n      <td>0.000000</td>\n      <td>0.000000</td>\n      <td>0.000000</td>\n      <td>0.000000</td>\n      <td>0.000000</td>\n      <td>-0.987435</td>\n      <td>0.000000</td>\n      <td>0.000000</td>\n      <td>0.000000</td>\n      <td>0.000000</td>\n      <td>0.000000</td>\n    </tr>\n    <tr>\n      <th>25%</th>\n      <td>184.000000</td>\n      <td>0.000000</td>\n      <td>30.900000</td>\n      <td>25.650000</td>\n      <td>64.816400</td>\n      <td>64.350000</td>\n      <td>0.112000</td>\n      <td>37.994800</td>\n      <td>0.000000</td>\n      <td>0.000000</td>\n      <td>0.000000</td>\n      <td>0.000000</td>\n      <td>-0.564031</td>\n      <td>0.000000</td>\n      <td>0.000000</td>\n      <td>0.162898</td>\n      <td>0.000000</td>\n      <td>0.000000</td>\n    </tr>\n    <tr>\n      <th>50%</th>\n      <td>330.000000</td>\n      <td>0.000000</td>\n      <td>31.300000</td>\n      <td>31.230000</td>\n      <td>77.941700</td>\n      <td>87.310000</td>\n      <td>0.274100</td>\n      <td>80.004000</td>\n      <td>0.000000</td>\n      <td>0.000000</td>\n      <td>0.000000</td>\n      <td>0.000000</td>\n      <td>-0.345590</td>\n      <td>0.000000</td>\n      <td>0.000000</td>\n      <td>0.255811</td>\n      <td>0.000000</td>\n      <td>0.000000</td>\n    </tr>\n    <tr>\n      <th>75%</th>\n      <td>534.000000</td>\n      <td>1.000000</td>\n      <td>31.400000</td>\n      <td>38.710000</td>\n      <td>87.666800</td>\n      <td>94.025000</td>\n      <td>0.556400</td>\n      <td>156.731800</td>\n      <td>0.000000</td>\n      <td>1.000000</td>\n      <td>0.000000</td>\n      <td>0.000000</td>\n      <td>-0.103959</td>\n      <td>0.000000</td>\n      <td>1.000000</td>\n      <td>0.387581</td>\n      <td>0.000000</td>\n      <td>0.001862</td>\n    </tr>\n    <tr>\n      <th>max</th>\n      <td>2699.000000</td>\n      <td>46.000000</td>\n      <td>31.700000</td>\n      <td>97.030000</td>\n      <td>98.724100</td>\n      <td>98.860000</td>\n      <td>1.000000</td>\n      <td>2123.831300</td>\n      <td>386.000000</td>\n      <td>673.000000</td>\n      <td>382.000000</td>\n      <td>83.000000</td>\n      <td>0.918797</td>\n      <td>386.000000</td>\n      <td>673.000000</td>\n      <td>1.342777</td>\n      <td>0.807487</td>\n      <td>0.771930</td>\n    </tr>\n  </tbody>\n</table>\n</div>"
     },
     "execution_count": 8,
     "metadata": {},
     "output_type": "execute_result"
    }
   ],
   "source": [
    "df.describe()"
   ],
   "metadata": {
    "collapsed": false,
    "pycharm": {
     "name": "#%%\n"
    }
   }
  },
  {
   "cell_type": "code",
   "execution_count": 10,
   "outputs": [
    {
     "name": "stdout",
     "output_type": "stream",
     "text": [
      "Spearman rank correlation (IUPred AUC): 0.4541\n",
      "Spearman rank correlation (Repeat): 0.2417\n",
      "Spearman rank correlation (Non-repeat): 0.1342\n"
     ]
    }
   ],
   "source": [
    "from scipy.stats import spearmanr\n",
    "\n",
    "rho, p = spearmanr(df['ratio_bad_plddt'], df['iupred_auc_normalized'])\n",
    "print(f'Spearman rank correlation (IUPred AUC): {\"{0:.4f}\".format(rho)}')\n",
    "rho1, p1 = spearmanr(df['ratio_bad_plddt'], df['repeat_6mers_normalized'])\n",
    "print(f'Spearman rank correlation (Repeat): {\"{0:.4f}\".format(rho1)}')\n",
    "rho2, p2 = spearmanr(df['ratio_bad_plddt'], df['non_repeat_6mers_normalized'])\n",
    "print(f'Spearman rank correlation (Non-repeat): {\"{0:.4f}\".format(rho2)}')"
   ],
   "metadata": {
    "collapsed": false,
    "pycharm": {
     "name": "#%%\n"
    }
   }
  },
  {
   "cell_type": "code",
   "execution_count": 25,
   "outputs": [],
   "source": [
    "weights = np.asarray([0.33, 0.33, 0.33])\n",
    "all_weights = []"
   ],
   "metadata": {
    "collapsed": false,
    "pycharm": {
     "name": "#%%\n"
    }
   }
  },
  {
   "cell_type": "code",
   "execution_count": 28,
   "outputs": [
    {
     "name": "stdout",
     "output_type": "stream",
     "text": [
      "Spearman rank correlation (Optimized): 0.4641\n",
      "Spearman rank correlation (Optimized): 0.4642\n",
      "Spearman rank correlation (Optimized): 0.4642\n",
      "Spearman rank correlation (Optimized): 0.4642\n",
      "Spearman rank correlation (Optimized): 0.4642\n"
     ]
    }
   ],
   "source": [
    "import scipy.optimize as opt\n",
    "\n",
    "\n",
    "def fun(w):\n",
    "    v = w[0] * df['iupred_auc_normalized'] + w[1] * df['repeat_6mers_normalized'] + w[2] * df['non_repeat_6mers_normalized']\n",
    "    r, _ = spearmanr(df['ratio_bad_plddt'], v)\n",
    "    # abs to turn into minimization problem\n",
    "    return -np.abs(r)\n",
    "\n",
    "for _ in range(5):\n",
    "    all_weights.append(weights)\n",
    "    res = opt.minimize(fun, weights)\n",
    "    weights = res.x\n",
    "    print(f'Spearman rank correlation (Optimized): {\"{0:.4f}\".format(-res.fun)}')"
   ],
   "metadata": {
    "collapsed": false,
    "pycharm": {
     "name": "#%%\n"
    }
   }
  },
  {
   "cell_type": "code",
   "execution_count": 29,
   "outputs": [
    {
     "name": "stdout",
     "output_type": "stream",
     "text": [
      "Spearman rank correlation (Optimized): 0.4642\n"
     ]
    }
   ],
   "source": [
    "x = weights[0] * df['iupred_auc_normalized'] + weights[1] * df['repeat_6mers_normalized'] + weights[2] * df['non_repeat_6mers_normalized']\n",
    "rho_x, p_x = spearmanr(df['ratio_bad_plddt'], x)\n",
    "print(f'Spearman rank correlation (Optimized): {\"{0:.4f}\".format(rho_x)}')"
   ],
   "metadata": {
    "collapsed": false,
    "pycharm": {
     "name": "#%%\n"
    }
   }
  },
  {
   "cell_type": "code",
   "execution_count": 33,
   "outputs": [],
   "source": [
    "all_weights = np.asarray(all_weights)\n",
    "\n",
    "xs = [spearmanr(df['ratio_bad_plddt'], w[0] * df['iupred_auc_normalized'] + w[1] * df['repeat_6mers_normalized'] + w[2] * df['non_repeat_6mers_normalized'])[0] for w in all_weights]"
   ],
   "metadata": {
    "collapsed": false,
    "pycharm": {
     "name": "#%%\n"
    }
   }
  },
  {
   "cell_type": "code",
   "execution_count": 38,
   "outputs": [
    {
     "data": {
      "text/plain": "<Figure size 432x288 with 1 Axes>",
      "image/png": "[encoded data removed]"
     },
     "metadata": {
      "needs_background": "light"
     },
     "output_type": "display_data"
    }
   ],
   "source": [
    "%matplotlib inline\n",
    "fig, ax = plt.subplots()\n",
    "\n",
    "ax.plot(range(len(all_weights)), xs)\n",
    "ax.set_title('Correlation maximization')\n",
    "ax.set_ylabel('Spearman r')\n",
    "ax.set_xlabel('Iteration')\n",
    "\n",
    "plt.show()"
   ],
   "metadata": {
    "collapsed": false,
    "pycharm": {
     "name": "#%%\n"
    }
   }
  },
  {
   "cell_type": "code",
   "execution_count": null,
   "outputs": [],
   "source": [],
   "metadata": {
    "collapsed": false,
    "pycharm": {
     "name": "#%%\n"
    }
   }
  }
 ],
 "metadata": {
  "kernelspec": {
   "display_name": "Python 3",
   "language": "python",
   "name": "python3"
  },
  "language_info": {
   "codemirror_mode": {
    "name": "ipython",
    "version": 2
   },
   "file_extension": ".py",
   "mimetype": "text/x-python",
   "name": "python",
   "nbconvert_exporter": "python",
   "pygments_lexer": "ipython2",
   "version": "2.7.6"
  }
 },
 "nbformat": 4,
 "nbformat_minor": 0
}