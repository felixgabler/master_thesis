{
 "cells": [
  {
   "cell_type": "markdown",
   "source": [
    "# Evaluate faster architectures for binary case\n",
    "\n",
    "Triggered by the release of SETH, we want to re-evaluate whether our BiGRU-CRF model is not too complicated. Also, it might be that with all the new training data, simpler architectures deserve a second chance. Therefore, we will train it again on the latest DisProt with multiple different architectures to compare accuracy and speed.\n",
    "\n",
    "Some architectures we want to strap onto the pLM and train are: Linear, CNN only (like SETH), GRU only. We will use the hyperparams established in `2022-07-05_different_disorder_datasets.ipynb` and not perform further tuning since we just want to get a basic understanding.\n",
    "\n",
    "We will measure the accuracy as before with BAC, MCC, and F1, and time it takes to predict the entire test set (400 seqs) over three different training instances of each model."
   ],
   "metadata": {
    "collapsed": false,
    "pycharm": {
     "name": "#%% md\n"
    }
   }
  },
  {
   "cell_type": "markdown",
   "source": [
    "### F1 problems\n",
    "\n",
    "We encountered very early that the F1 score was 0 all of a sudden. Could this be due to fewer 1s? Looking at the predictions we can see that they do contain 1s and 0s. It did not underfit in this regard.\n",
    "\n",
    "Investigating further, it turns out that our F1 definition might have been wrong. We are not interested in macro averaging but in binary averaging. This can be fixed as described here: https://github.com/Lightning-AI/metrics/issues/629"
   ],
   "metadata": {
    "collapsed": false,
    "pycharm": {
     "name": "#%% md\n"
    }
   }
  },
  {
   "cell_type": "markdown",
   "source": [
    "## Linear\n",
    "\n",
    "As baseline, we added a simple linear layer that condenses the embedding dimensions into one. It might be interesting to investigate the weights of this linear layer to see which dimension played the greatest role (similar to what SETH does).\n",
    "\n",
    "### Results\n",
    "\n",
    "| Training instance | BAC   | F1    | MCC   | Time (s) |\n",
    "|-------------------|-------|-------|-------|----------|\n",
    "| 1                 | 0.704 | 0.457 | 0.416 | 105.09   |\n",
    "| 2                 | 0.682 | 0.427 | 0.400 | 76.288   |\n",
    "| 3                 | 0.701 | 0.443 | 0.411 | 76.672   |"
   ],
   "metadata": {
    "collapsed": false,
    "pycharm": {
     "name": "#%% md\n"
    }
   }
  },
  {
   "cell_type": "markdown",
   "source": [
    "## CNN\n",
    "\n",
    "We used exactly the SETH CNN from [GitHub](https://github.com/DagmarIlz/SETH) as starting point and made our existing model use it instead of the complex BiGRU-CRF.\n",
    "\n",
    "### Results\n",
    "TODO add metrics achieved as well as timing on test set\n",
    "\n",
    "| Training instance | BAC   | F1    | MCC   | Time (s) |\n",
    "|-------------------|-------|-------|-------|----------|\n",
    "| 1                 | 0.671 | 0.414 | 0.377 | 113.67   |\n",
    "| 2                 | 0.676 | 0.423 | 0.368 | 76.28    |\n",
    "| 3                 | 0.679 | 0.418 | 0.381 | 110.03   |"
   ],
   "metadata": {
    "collapsed": false,
    "pycharm": {
     "name": "#%% md\n"
    }
   }
  },
  {
   "cell_type": "markdown",
   "source": [
    "## BiGRU-CRF\n",
    "\n",
    "We used our complex BiGRU-CRF model from before.\n",
    "\n",
    "### Results\n",
    "\n",
    "| Training instance | BAC   | F1    | MCC   | Time (s) |\n",
    "|-------------------|-------|-------|-------|----------|\n",
    "| 1                 | 0.687 | 0.397 | 0.385 | 294.66   |\n",
    "| 2                 | 0.705 | 0.415 | 0.403 | 294.61   |\n",
    "| 3                 | 0.714 | 0.415 | 0.426 | 307.44   |"
   ],
   "metadata": {
    "collapsed": false,
    "pycharm": {
     "name": "#%% md\n"
    }
   }
  },
  {
   "cell_type": "markdown",
   "source": [
    "## Overall results\n",
    "\n",
    "After running all the tests, here are the best runs for each model\n",
    "\n",
    "| Model     | BAC   | F1    | MCC   | Time (s) |\n",
    "|-----------|-------|-------|-------|----------|\n",
    "| Linear    | 0.704 | 0.457 | 0.416 | 105.09   |\n",
    "| CNN       | 0.679 | 0.418 | 0.381 | 110.03   |\n",
    "| GRU       |       |       |       |          |\n",
    "| BiGRU-CRF | 0.714 | 0.415 | 0.426 | 307.44   |"
   ],
   "metadata": {
    "collapsed": false,
    "pycharm": {
     "name": "#%% md\n"
    }
   }
  },
  {
   "cell_type": "code",
   "execution_count": null,
   "outputs": [],
   "source": [],
   "metadata": {
    "collapsed": false,
    "pycharm": {
     "name": "#%%\n"
    }
   }
  }
 ],
 "metadata": {
  "kernelspec": {
   "display_name": "Python 3",
   "language": "python",
   "name": "python3"
  },
  "language_info": {
   "codemirror_mode": {
    "name": "ipython",
    "version": 2
   },
   "file_extension": ".py",
   "mimetype": "text/x-python",
   "name": "python",
   "nbconvert_exporter": "python",
   "pygments_lexer": "ipython2",
   "version": "2.7.6"
  }
 },
 "nbformat": 4,
 "nbformat_minor": 0
}