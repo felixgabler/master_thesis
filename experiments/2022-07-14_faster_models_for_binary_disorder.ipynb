{
 "cells": [
  {
   "cell_type": "markdown",
   "source": [
    "# Evaluate faster architectures for binary case\n",
    "\n",
    "Triggered by the release of SETH, we want to re-evaluate whether our BiGRU-CRF model is not too complicated. Also, it might be that with all the new training data, simpler architectures deserve a second chance. Therefore, we will train it again on the latest DisProt with multiple different architectures to compare accuracy and speed.\n",
    "\n",
    "Some architectures we want to strap onto the pLM and train are: CNN only (like SETH), Linear, GRU only. We will use the hyperparams established in `2022-07-05_different_disorder_datasets.ipynb` and not perform further tuning since we just want to get a basic understanding.\n",
    "\n",
    "We will measure the accuracy as before with BAC, MCC, and F1, abd time it takes to predict the entire validation set (200 seqs) over three different training instances of each model."
   ],
   "metadata": {
    "collapsed": false,
    "pycharm": {
     "name": "#%% md\n"
    }
   }
  },
  {
   "cell_type": "markdown",
   "source": [
    "## CNN\n",
    "\n",
    "We used exactly the SETH CNN from [GitHub](https://github.com/DagmarIlz/SETH) as starting point and made our existing model use it instead of the complex BiGRU-CRF.\n",
    "\n",
    "### Results\n",
    "TODO add metrics achieved as well as timing on val set\n",
    "\n",
    "| Run | Val BAC | Val F1 | Val MCC | Val Time |\n",
    "|-----|---------|--------|---------|----------|\n",
    "| 1   |         |        |         |          |\n",
    "| 2   |         |        |         |          |\n",
    "| 3   |         |        |         |          |\n",
    "| Avg |         |        |         |          |"
   ],
   "metadata": {
    "collapsed": false,
    "pycharm": {
     "name": "#%% md\n"
    }
   }
  },
  {
   "cell_type": "markdown",
   "source": [
    "## Overall results\n",
    "\n",
    "After running all the tests, here are the best runs for each model\n",
    "\n",
    "| Model     | BAC | F1  | MCC | Time |\n",
    "|-----------|-----|-----|-----|------|\n",
    "| Linear    |     |     |     |      |\n",
    "| CNN       |     |     |     |      |\n",
    "| GRU       |     |     |     |      |\n",
    "| BiGRU-CRF |     |     |     |      |"
   ],
   "metadata": {
    "collapsed": false,
    "pycharm": {
     "name": "#%% md\n"
    }
   }
  },
  {
   "cell_type": "code",
   "execution_count": null,
   "outputs": [],
   "source": [],
   "metadata": {
    "collapsed": false,
    "pycharm": {
     "name": "#%%\n"
    }
   }
  }
 ],
 "metadata": {
  "kernelspec": {
   "display_name": "Python 3",
   "language": "python",
   "name": "python3"
  },
  "language_info": {
   "codemirror_mode": {
    "name": "ipython",
    "version": 2
   },
   "file_extension": ".py",
   "mimetype": "text/x-python",
   "name": "python",
   "nbconvert_exporter": "python",
   "pygments_lexer": "ipython2",
   "version": "2.7.6"
  }
 },
 "nbformat": 4,
 "nbformat_minor": 0
}