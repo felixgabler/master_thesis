{
 "cells": [
  {
   "cell_type": "markdown",
   "metadata": {
    "collapsed": true,
    "pycharm": {
     "name": "#%% md\n"
    }
   },
   "source": [
    "# Investigating how sequence identity behaves under different reduced alphabets for sequences with similar structure\n",
    "\n",
    "## Overall goal\n",
    "1. Get sequences from ECOD that have a similar structure but different sequence and should not be close evolutionarily to prevent bias\n",
    "2. Cluster them down to 70 sequence identity using MMseqs2\n",
    "3. Try different reduced alphabets (e.g. Dayhoff-6, etc) and calculate sequence identity using Blast\n",
    "4. Plot identity scores by alphabet size to see whether any of the reduced alphabets capture structure similarity to some degree\n",
    "5. Also plot correlation between actual identity and one after translation with reduced alphabet"
   ]
  },
  {
   "cell_type": "code",
   "execution_count": 25,
   "outputs": [],
   "source": [
    "from bin.alphafold_exploration.alphabets.dayhoff_recoding import dayhoff_6_recode\n",
    "from bin.alphafold_exploration.data.load_fasta import load_fasta\n",
    "from itertools import combinations\n",
    "\n",
    "from Bio import pairwise2"
   ],
   "metadata": {
    "collapsed": false,
    "pycharm": {
     "name": "#%%\n"
    }
   }
  },
  {
   "cell_type": "code",
   "execution_count": 26,
   "outputs": [],
   "source": [
    "def average_sequence_identity(seqs):\n",
    "    scores = [pairwise2.align.localxx(p[0], p[1], score_only=True) for p in combinations(seqs, 2)]\n",
    "    return sum(scores) / len(scores)"
   ],
   "metadata": {
    "collapsed": false,
    "pycharm": {
     "name": "#%%\n"
    }
   }
  },
  {
   "cell_type": "markdown",
   "source": [
    "## First try: Just look at sperm whale myoglobin and clam hemoglobin I (TM score = 0.86) with handful of alphabets"
   ],
   "metadata": {
    "collapsed": false,
    "pycharm": {
     "name": "#%% md\n"
    }
   }
  },
  {
   "cell_type": "code",
   "execution_count": 27,
   "outputs": [],
   "source": [
    "similar_struct_seqs = list(load_fasta('../data/similar_struct_different_seq/whale_myoglobin_clam_hemoglobin.fasta'))"
   ],
   "metadata": {
    "collapsed": false,
    "pycharm": {
     "name": "#%%\n"
    }
   }
  },
  {
   "cell_type": "code",
   "execution_count": 28,
   "outputs": [
    {
     "data": {
      "text/plain": "58.0"
     },
     "execution_count": 28,
     "metadata": {},
     "output_type": "execute_result"
    }
   ],
   "source": [
    "average_sequence_identity(similar_struct_seqs)"
   ],
   "metadata": {
    "collapsed": false,
    "pycharm": {
     "name": "#%%\n"
    }
   }
  },
  {
   "cell_type": "code",
   "execution_count": 29,
   "outputs": [],
   "source": [
    "dayhoff6_similar_struct_seqs = [dayhoff_6_recode(seq) for seq in similar_struct_seqs]"
   ],
   "metadata": {
    "collapsed": false,
    "pycharm": {
     "name": "#%%\n"
    }
   }
  },
  {
   "cell_type": "code",
   "execution_count": 30,
   "outputs": [
    {
     "data": {
      "text/plain": "84.0"
     },
     "execution_count": 30,
     "metadata": {},
     "output_type": "execute_result"
    }
   ],
   "source": [
    "average_sequence_identity(dayhoff6_similar_struct_seqs)"
   ],
   "metadata": {
    "collapsed": false,
    "pycharm": {
     "name": "#%%\n"
    }
   }
  },
  {
   "cell_type": "markdown",
   "source": [
    "## Compare to sequences with different structures"
   ],
   "metadata": {
    "collapsed": false,
    "pycharm": {
     "name": "#%% md\n"
    }
   }
  },
  {
   "cell_type": "code",
   "execution_count": 31,
   "outputs": [],
   "source": [
    "different_struct_seqs = list(load_fasta('../data/similar_struct_different_seq/random_clam_hemoglobin.fasta'))"
   ],
   "metadata": {
    "collapsed": false,
    "pycharm": {
     "name": "#%%\n"
    }
   }
  },
  {
   "cell_type": "code",
   "execution_count": 32,
   "outputs": [
    {
     "data": {
      "text/plain": "91.0"
     },
     "execution_count": 32,
     "metadata": {},
     "output_type": "execute_result"
    }
   ],
   "source": [
    "average_sequence_identity(different_struct_seqs)"
   ],
   "metadata": {
    "collapsed": false,
    "pycharm": {
     "name": "#%%\n"
    }
   }
  },
  {
   "cell_type": "code",
   "execution_count": 33,
   "outputs": [],
   "source": [
    "dayhoff6_different_struct_seqs = [dayhoff_6_recode(seq) for seq in different_struct_seqs]"
   ],
   "metadata": {
    "collapsed": false,
    "pycharm": {
     "name": "#%%\n"
    }
   }
  },
  {
   "cell_type": "code",
   "execution_count": 34,
   "outputs": [
    {
     "data": {
      "text/plain": "134.0"
     },
     "execution_count": 34,
     "metadata": {},
     "output_type": "execute_result"
    }
   ],
   "source": [
    "average_sequence_identity(dayhoff6_different_struct_seqs)"
   ],
   "metadata": {
    "collapsed": false,
    "pycharm": {
     "name": "#%%\n"
    }
   }
  },
  {
   "cell_type": "markdown",
   "source": [
    "### Helpful links\n",
    "- https://zhanggroup.org/TM-align/"
   ],
   "metadata": {
    "collapsed": false,
    "pycharm": {
     "name": "#%% md\n"
    }
   }
  }
 ],
 "metadata": {
  "kernelspec": {
   "display_name": "Python 3",
   "language": "python",
   "name": "python3"
  },
  "language_info": {
   "codemirror_mode": {
    "name": "ipython",
    "version": 2
   },
   "file_extension": ".py",
   "mimetype": "text/x-python",
   "name": "python",
   "nbconvert_exporter": "python",
   "pygments_lexer": "ipython2",
   "version": "2.7.6"
  }
 },
 "nbformat": 4,
 "nbformat_minor": 0
}