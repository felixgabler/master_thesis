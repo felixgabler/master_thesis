{
 "cells": [
  {
   "cell_type": "markdown",
   "source": [
    "# Predicting continuous disorder\n",
    "\n",
    "Try dataset from [SETH](https://www.biorxiv.org/content/10.1101/2022.06.23.497276v1.full.pdf) with different architectures."
   ],
   "metadata": {
    "collapsed": false,
    "pycharm": {
     "name": "#%% md\n"
    }
   }
  },
  {
   "cell_type": "markdown",
   "source": [
    "### Data\n",
    "\n",
    "We contacted Rostlab, and they released their 1174 entry training dataset. As validation set, we use 15% of that i.e. 176 sequences.\n",
    "One issue is that they have an ignore index (999) but PyTorch's MSELoss does not support that currently. Therefore, we built this ourselves."
   ],
   "metadata": {
    "collapsed": false,
    "pycharm": {
     "name": "#%% md\n"
    }
   }
  },
  {
   "cell_type": "code",
   "execution_count": null,
   "outputs": [],
   "source": [],
   "metadata": {
    "collapsed": false,
    "pycharm": {
     "name": "#%%\n"
    }
   }
  }
 ],
 "metadata": {
  "kernelspec": {
   "display_name": "Python 3",
   "language": "python",
   "name": "python3"
  },
  "language_info": {
   "codemirror_mode": {
    "name": "ipython",
    "version": 2
   },
   "file_extension": ".py",
   "mimetype": "text/x-python",
   "name": "python",
   "nbconvert_exporter": "python",
   "pygments_lexer": "ipython2",
   "version": "2.7.6"
  }
 },
 "nbformat": 4,
 "nbformat_minor": 0
}