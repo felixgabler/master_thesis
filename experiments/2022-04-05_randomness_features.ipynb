{
 "cells": [
  {
   "cell_type": "markdown",
   "metadata": {
    "collapsed": true,
    "pycharm": {
     "name": "#%% md\n"
    }
   },
   "source": [
    "# Analyse differences between AlphaFold's good and bad predictions\n",
    "Some candidates are: polarity, hydrophobicity, Jensen-Shannon divergence, and kmer counts (repeat vs non repeat)"
   ]
  },
  {
   "cell_type": "code",
   "execution_count": 1,
   "outputs": [],
   "source": [
    "import glob\n",
    "import gzip\n",
    "import re\n",
    "\n",
    "import pandas as pd\n",
    "import numpy as np\n",
    "\n",
    "from pqdm.threads import pqdm"
   ],
   "metadata": {
    "collapsed": false,
    "pycharm": {
     "name": "#%%\n"
    }
   }
  },
  {
   "cell_type": "code",
   "execution_count": 2,
   "outputs": [],
   "source": [
    "dfs = []\n",
    "for proteome_file in glob.glob('../data/alphafold/v2/AA_scores/*.csv'):\n",
    "    proteome = re.search(r\"/([A-Z0-9]+).csv\", proteome_file).group(1)\n",
    "    proteome_df = pd.read_csv(proteome_file, index_col=0)\n",
    "    proteome_df['proteome'] = proteome\n",
    "    dfs.append(proteome_df)\n",
    "df = pd.concat(dfs)"
   ],
   "metadata": {
    "collapsed": false,
    "pycharm": {
     "name": "#%%\n"
    }
   }
  },
  {
   "cell_type": "code",
   "execution_count": null,
   "outputs": [],
   "source": [
    "df_short = df[df['seq_len'] <= 600]"
   ],
   "metadata": {
    "collapsed": false,
    "pycharm": {
     "name": "#%%\n"
    }
   }
  }
 ],
 "metadata": {
  "kernelspec": {
   "display_name": "Python 3",
   "language": "python",
   "name": "python3"
  },
  "language_info": {
   "codemirror_mode": {
    "name": "ipython",
    "version": 2
   },
   "file_extension": ".py",
   "mimetype": "text/x-python",
   "name": "python",
   "nbconvert_exporter": "python",
   "pygments_lexer": "ipython2",
   "version": "2.7.6"
  }
 },
 "nbformat": 4,
 "nbformat_minor": 0
}