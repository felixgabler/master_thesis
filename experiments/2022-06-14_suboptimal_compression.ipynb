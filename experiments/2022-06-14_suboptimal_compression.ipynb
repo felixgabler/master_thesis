{
 "cells": [
  {
   "cell_type": "markdown",
   "source": [
    "# Suboptimal Compression\n",
    "Inspect how much compression we get for each sequence when using suboptimal alignments."
   ],
   "metadata": {
    "collapsed": false,
    "pycharm": {
     "name": "#%% md\n"
    }
   }
  },
  {
   "cell_type": "code",
   "execution_count": 5,
   "outputs": [],
   "source": [
    "import glob\n",
    "import re\n",
    "\n",
    "import numpy as np\n",
    "import pandas as pd\n",
    "\n",
    "from pqdm.threads import pqdm"
   ],
   "metadata": {
    "collapsed": false,
    "pycharm": {
     "name": "#%%\n"
    }
   }
  },
  {
   "cell_type": "code",
   "execution_count": 7,
   "outputs": [],
   "source": [
    "def get_cluster_compression_dataframe(file: str):\n",
    "    \"\"\"\n",
    "    Load the cluster file, get uniprot id, cluster membership and compression percentage for all sequences\n",
    "    :param file:\n",
    "    :return: pandas dataframe\n",
    "    \"\"\"\n",
    "    cluster_id = re.search(r\"/(cluster_[0-9]+).fasta\", file).group(1)\n",
    "    res = []\n",
    "    cur_seq = None\n",
    "    with open(file) as file_handler:\n",
    "        for _line in file_handler:\n",
    "            _line = _line.rstrip()\n",
    "            if _line.startswith(\">\"):\n",
    "                if cur_seq is not None:\n",
    "                    res.append(cur_seq)\n",
    "                cur_seq = {\"uniprot_id\": _line[1:], \"cluster_id\": cluster_id}\n",
    "                continue\n",
    "            cur_seq['suboptim_compress'] = np.round(_line.count('X') / len(_line), decimals=4)\n",
    "    return pd.DataFrame(data=res)"
   ],
   "metadata": {
    "collapsed": false,
    "pycharm": {
     "name": "#%%\n"
    }
   }
  },
  {
   "cell_type": "code",
   "execution_count": 8,
   "outputs": [
    {
     "data": {
      "text/plain": "SUBMITTING | :   0%|          | 0/544 [00:00<?, ?it/s]",
      "application/vnd.jupyter.widget-view+json": {
       "version_major": 2,
       "version_minor": 0,
       "model_id": "1b521fc2450a4e638ec26ddabf060e14"
      }
     },
     "metadata": {},
     "output_type": "display_data"
    },
    {
     "data": {
      "text/plain": "PROCESSING | :   0%|          | 0/544 [00:00<?, ?it/s]",
      "application/vnd.jupyter.widget-view+json": {
       "version_major": 2,
       "version_minor": 0,
       "model_id": "c3beb1ee26a045b79a35e209f070eed8"
      }
     },
     "metadata": {},
     "output_type": "display_data"
    },
    {
     "data": {
      "text/plain": "COLLECTING | :   0%|          | 0/544 [00:00<?, ?it/s]",
      "application/vnd.jupyter.widget-view+json": {
       "version_major": 2,
       "version_minor": 0,
       "model_id": "f8b4cca4da7f41ffa5e9c17f046ea161"
      }
     },
     "metadata": {},
     "output_type": "display_data"
    }
   ],
   "source": [
    "df_update = pd.concat(pqdm(glob.glob('../data/suboptimal/masked_sequences/*.fasta'), get_cluster_compression_dataframe, n_jobs=10))"
   ],
   "metadata": {
    "collapsed": false,
    "pycharm": {
     "name": "#%%\n"
    }
   }
  },
  {
   "cell_type": "code",
   "execution_count": 16,
   "outputs": [],
   "source": [
    "for proteome_file in glob.glob('../data/alphafold/v2/AA_scores/*.csv'):\n",
    "    proteome = re.search(r\"/([A-Z0-9]+).csv\", proteome_file).group(1)\n",
    "    proteome_df = pd.read_csv(proteome_file, index_col=0)\n",
    "    proteome_df = proteome_df.merge(df_update, on=\"uniprot_id\", how=\"left\")\n",
    "    proteome_df.to_csv(proteome_file)"
   ],
   "metadata": {
    "collapsed": false,
    "pycharm": {
     "name": "#%%\n"
    }
   }
  },
  {
   "cell_type": "markdown",
   "source": [
    "### Visualize"
   ],
   "metadata": {
    "collapsed": false,
    "pycharm": {
     "name": "#%% md\n"
    }
   }
  },
  {
   "cell_type": "code",
   "execution_count": 19,
   "outputs": [],
   "source": [
    "from matplotlib import pyplot as plt"
   ],
   "metadata": {
    "collapsed": false,
    "pycharm": {
     "name": "#%%\n"
    }
   }
  },
  {
   "cell_type": "code",
   "execution_count": 17,
   "outputs": [],
   "source": [
    "dfs = []\n",
    "for proteome_file in glob.glob('../data/alphafold/v2/AA_scores/*.csv'):\n",
    "    proteome = re.search(r\"/([A-Z0-9]+).csv\", proteome_file).group(1)\n",
    "    proteome_df = pd.read_csv(proteome_file, index_col=0)\n",
    "    proteome_df['proteome'] = proteome\n",
    "    dfs.append(proteome_df)\n",
    "df = pd.concat(dfs)"
   ],
   "metadata": {
    "collapsed": false,
    "pycharm": {
     "name": "#%%\n"
    }
   }
  },
  {
   "cell_type": "code",
   "execution_count": 18,
   "outputs": [
    {
     "data": {
      "text/plain": "             seq_len  domain_count        max_pae      min_plddt  \\\ncount  545555.000000  545555.00000  542051.000000  545555.000000   \nmean      458.873356       1.11808      30.845778      33.727809   \nstd       880.781186      12.27124       1.455963      11.363737   \nmin        16.000000       0.00000       6.000000       1.390000   \n25%       186.000000       0.00000      30.900000      25.620000   \n50%       333.000000       0.00000      31.300000      31.180000   \n75%       538.000000       1.00000      31.400000      38.590000   \nmax     32200.000000     285.00000      31.700000      97.030000   \n\n          mean_plddt   median_plddt  ratio_bad_plddt     iupred_auc  \\\ncount  545555.000000  545555.000000    545555.000000  522125.000000   \nmean       75.312362      79.094267         0.354822     125.969805   \nstd        14.949144      18.772187         0.291004     147.224706   \nmin        23.077300      22.170000         0.000000       0.000000   \n25%        64.928350      64.540000         0.112200      38.063900   \n50%        77.976200      87.315000         0.272000      80.049100   \n75%        87.562600      93.995000         0.552100     156.520200   \nmax        98.724100      98.860000         1.000000    2730.699900   \n\n        repeat_6mers  non_repeat_6mers  ...  iupred_plddt_spearman  \\\ncount  514622.000000     514622.000000  ...          513491.000000   \nmean        0.515753          0.000657  ...              -0.311983   \nstd         4.485592          0.048485  ...               0.317159   \nmin         0.000000          0.000000  ...              -0.987435   \n25%         0.000000          0.000000  ...              -0.564031   \n50%         0.000000          0.000000  ...              -0.345583   \n75%         0.000000          0.000000  ...              -0.103957   \nmax       342.000000         11.000000  ...               0.918797   \n\n       repeat_6mers_2000  non_repeat_6mers_2000    aa_distr_js  \\\ncount      514622.000000          514622.000000  514622.000000   \nmean            0.755625               0.976791       0.160911   \nstd             5.020129               3.640865       0.064054   \nmin             0.000000               0.000000       0.030443   \n25%             0.000000               0.000000       0.114615   \n50%             0.000000               0.000000       0.147983   \n75%             0.000000               1.000000       0.193001   \nmax           386.000000             673.000000       0.713420   \n\n       freq_pos_charge  freq_neg_charge     freq_polar  freq_non_polar  \\\ncount    514622.000000    514622.000000  514622.000000   514622.000000   \nmean          0.139624         0.112231       0.503103        0.245042   \nstd           0.039520         0.038881       0.073258        0.056422   \nmin           0.000000         0.000000       0.000000        0.000000   \n25%           0.116600         0.089500       0.458700        0.211100   \n50%           0.137300         0.112800       0.501500        0.241200   \n75%           0.158900         0.133700       0.546000        0.274000   \nmax           0.952400         0.888900       1.000000        0.941200   \n\n                 IEP  suboptim_compress  \ncount  514622.000000        3069.000000  \nmean        7.336256           0.143568  \nstd         1.882249           0.108048  \nmin         4.050000           0.000000  \n25%         5.693900           0.059400  \n50%         6.948100           0.121200  \n75%         9.007700           0.207300  \nmax        12.000000           0.586900  \n\n[8 rows x 22 columns]",
      "text/html": "<div>\n<style scoped>\n    .dataframe tbody tr th:only-of-type {\n        vertical-align: middle;\n    }\n\n    .dataframe tbody tr th {\n        vertical-align: top;\n    }\n\n    .dataframe thead th {\n        text-align: right;\n    }\n</style>\n<table border=\"1\" class=\"dataframe\">\n  <thead>\n    <tr style=\"text-align: right;\">\n      <th></th>\n      <th>seq_len</th>\n      <th>domain_count</th>\n      <th>max_pae</th>\n      <th>min_plddt</th>\n      <th>mean_plddt</th>\n      <th>median_plddt</th>\n      <th>ratio_bad_plddt</th>\n      <th>iupred_auc</th>\n      <th>repeat_6mers</th>\n      <th>non_repeat_6mers</th>\n      <th>...</th>\n      <th>iupred_plddt_spearman</th>\n      <th>repeat_6mers_2000</th>\n      <th>non_repeat_6mers_2000</th>\n      <th>aa_distr_js</th>\n      <th>freq_pos_charge</th>\n      <th>freq_neg_charge</th>\n      <th>freq_polar</th>\n      <th>freq_non_polar</th>\n      <th>IEP</th>\n      <th>suboptim_compress</th>\n    </tr>\n  </thead>\n  <tbody>\n    <tr>\n      <th>count</th>\n      <td>545555.000000</td>\n      <td>545555.00000</td>\n      <td>542051.000000</td>\n      <td>545555.000000</td>\n      <td>545555.000000</td>\n      <td>545555.000000</td>\n      <td>545555.000000</td>\n      <td>522125.000000</td>\n      <td>514622.000000</td>\n      <td>514622.000000</td>\n      <td>...</td>\n      <td>513491.000000</td>\n      <td>514622.000000</td>\n      <td>514622.000000</td>\n      <td>514622.000000</td>\n      <td>514622.000000</td>\n      <td>514622.000000</td>\n      <td>514622.000000</td>\n      <td>514622.000000</td>\n      <td>514622.000000</td>\n      <td>3069.000000</td>\n    </tr>\n    <tr>\n      <th>mean</th>\n      <td>458.873356</td>\n      <td>1.11808</td>\n      <td>30.845778</td>\n      <td>33.727809</td>\n      <td>75.312362</td>\n      <td>79.094267</td>\n      <td>0.354822</td>\n      <td>125.969805</td>\n      <td>0.515753</td>\n      <td>0.000657</td>\n      <td>...</td>\n      <td>-0.311983</td>\n      <td>0.755625</td>\n      <td>0.976791</td>\n      <td>0.160911</td>\n      <td>0.139624</td>\n      <td>0.112231</td>\n      <td>0.503103</td>\n      <td>0.245042</td>\n      <td>7.336256</td>\n      <td>0.143568</td>\n    </tr>\n    <tr>\n      <th>std</th>\n      <td>880.781186</td>\n      <td>12.27124</td>\n      <td>1.455963</td>\n      <td>11.363737</td>\n      <td>14.949144</td>\n      <td>18.772187</td>\n      <td>0.291004</td>\n      <td>147.224706</td>\n      <td>4.485592</td>\n      <td>0.048485</td>\n      <td>...</td>\n      <td>0.317159</td>\n      <td>5.020129</td>\n      <td>3.640865</td>\n      <td>0.064054</td>\n      <td>0.039520</td>\n      <td>0.038881</td>\n      <td>0.073258</td>\n      <td>0.056422</td>\n      <td>1.882249</td>\n      <td>0.108048</td>\n    </tr>\n    <tr>\n      <th>min</th>\n      <td>16.000000</td>\n      <td>0.00000</td>\n      <td>6.000000</td>\n      <td>1.390000</td>\n      <td>23.077300</td>\n      <td>22.170000</td>\n      <td>0.000000</td>\n      <td>0.000000</td>\n      <td>0.000000</td>\n      <td>0.000000</td>\n      <td>...</td>\n      <td>-0.987435</td>\n      <td>0.000000</td>\n      <td>0.000000</td>\n      <td>0.030443</td>\n      <td>0.000000</td>\n      <td>0.000000</td>\n      <td>0.000000</td>\n      <td>0.000000</td>\n      <td>4.050000</td>\n      <td>0.000000</td>\n    </tr>\n    <tr>\n      <th>25%</th>\n      <td>186.000000</td>\n      <td>0.00000</td>\n      <td>30.900000</td>\n      <td>25.620000</td>\n      <td>64.928350</td>\n      <td>64.540000</td>\n      <td>0.112200</td>\n      <td>38.063900</td>\n      <td>0.000000</td>\n      <td>0.000000</td>\n      <td>...</td>\n      <td>-0.564031</td>\n      <td>0.000000</td>\n      <td>0.000000</td>\n      <td>0.114615</td>\n      <td>0.116600</td>\n      <td>0.089500</td>\n      <td>0.458700</td>\n      <td>0.211100</td>\n      <td>5.693900</td>\n      <td>0.059400</td>\n    </tr>\n    <tr>\n      <th>50%</th>\n      <td>333.000000</td>\n      <td>0.00000</td>\n      <td>31.300000</td>\n      <td>31.180000</td>\n      <td>77.976200</td>\n      <td>87.315000</td>\n      <td>0.272000</td>\n      <td>80.049100</td>\n      <td>0.000000</td>\n      <td>0.000000</td>\n      <td>...</td>\n      <td>-0.345583</td>\n      <td>0.000000</td>\n      <td>0.000000</td>\n      <td>0.147983</td>\n      <td>0.137300</td>\n      <td>0.112800</td>\n      <td>0.501500</td>\n      <td>0.241200</td>\n      <td>6.948100</td>\n      <td>0.121200</td>\n    </tr>\n    <tr>\n      <th>75%</th>\n      <td>538.000000</td>\n      <td>1.00000</td>\n      <td>31.400000</td>\n      <td>38.590000</td>\n      <td>87.562600</td>\n      <td>93.995000</td>\n      <td>0.552100</td>\n      <td>156.520200</td>\n      <td>0.000000</td>\n      <td>0.000000</td>\n      <td>...</td>\n      <td>-0.103957</td>\n      <td>0.000000</td>\n      <td>1.000000</td>\n      <td>0.193001</td>\n      <td>0.158900</td>\n      <td>0.133700</td>\n      <td>0.546000</td>\n      <td>0.274000</td>\n      <td>9.007700</td>\n      <td>0.207300</td>\n    </tr>\n    <tr>\n      <th>max</th>\n      <td>32200.000000</td>\n      <td>285.00000</td>\n      <td>31.700000</td>\n      <td>97.030000</td>\n      <td>98.724100</td>\n      <td>98.860000</td>\n      <td>1.000000</td>\n      <td>2730.699900</td>\n      <td>342.000000</td>\n      <td>11.000000</td>\n      <td>...</td>\n      <td>0.918797</td>\n      <td>386.000000</td>\n      <td>673.000000</td>\n      <td>0.713420</td>\n      <td>0.952400</td>\n      <td>0.888900</td>\n      <td>1.000000</td>\n      <td>0.941200</td>\n      <td>12.000000</td>\n      <td>0.586900</td>\n    </tr>\n  </tbody>\n</table>\n<p>8 rows × 22 columns</p>\n</div>"
     },
     "execution_count": 18,
     "metadata": {},
     "output_type": "execute_result"
    }
   ],
   "source": [
    "df.describe()"
   ],
   "metadata": {
    "collapsed": false,
    "pycharm": {
     "name": "#%%\n"
    }
   }
  },
  {
   "cell_type": "code",
   "execution_count": 43,
   "outputs": [
    {
     "data": {
      "text/plain": "<Figure size 648x432 with 1 Axes>",
      "image/png": "[encoded data removed]"
     },
     "metadata": {
      "needs_background": "light"
     },
     "output_type": "display_data"
    }
   ],
   "source": [
    "%matplotlib inline\n",
    "fig, ax1 = plt.subplots(figsize=(9, 6))\n",
    "\n",
    "def violin_plot(ax, prop, title, bucket_step_size=0.1, decimals=1):\n",
    "    xprop = 'ratio_bad_plddt'\n",
    "    df_without_na = df.dropna(subset=[prop])\n",
    "    buckets_indices = np.arange(np.floor(df_without_na[xprop].min()), df_without_na[xprop].max(), bucket_step_size)\n",
    "    buckets = [df_without_na[df_without_na[xprop].between(i, i + bucket_step_size, inclusive='left')][prop].values for i in buckets_indices]\n",
    "    labels = [f'{np.round(i, decimals=decimals)}-{np.round(i + bucket_step_size, decimals=decimals)}' for i in buckets_indices]\n",
    "    nans = [float('nan'), float('nan')]\n",
    "    ax.violinplot(dataset=[bucket if bucket.any() else nans for bucket in buckets], showmedians=True)\n",
    "    ax.yaxis.grid(True)\n",
    "    ax.set_xlabel('Ratio bad pLDDT')\n",
    "    ax.set_ylabel(title)\n",
    "    ax.set_xticks(np.arange(1, len(labels) + 1), labels=labels)\n",
    "\n",
    "ax1.set_title('Feature: suboptimal alignment compression (3069 seqs)')\n",
    "violin_plot(ax1, 'suboptim_compress', 'Compression level')\n",
    "\n",
    "plt.show()"
   ],
   "metadata": {
    "collapsed": false,
    "pycharm": {
     "name": "#%%\n"
    }
   }
  },
  {
   "cell_type": "code",
   "execution_count": 44,
   "outputs": [],
   "source": [
    "df_with_compression = df.dropna(subset=['suboptim_compress'])"
   ],
   "metadata": {
    "collapsed": false,
    "pycharm": {
     "name": "#%%\n"
    }
   }
  },
  {
   "cell_type": "code",
   "execution_count": 56,
   "outputs": [],
   "source": [
    "worst_entries = df_with_compression.nsmallest(n=300, columns=['ratio_bad_plddt', 'median_plddt'])\n",
    "best_entries = df_with_compression.nlargest(n=300, columns=['ratio_bad_plddt', 'median_plddt'])"
   ],
   "metadata": {
    "collapsed": false,
    "pycharm": {
     "name": "#%%\n"
    }
   }
  },
  {
   "cell_type": "code",
   "execution_count": 57,
   "outputs": [],
   "source": [
    "worst_clusters = worst_entries['cluster_id'].value_counts()\n",
    "best_clusters = best_entries['cluster_id'].value_counts()"
   ],
   "metadata": {
    "collapsed": false,
    "pycharm": {
     "name": "#%%\n"
    }
   }
  },
  {
   "cell_type": "code",
   "execution_count": 68,
   "outputs": [
    {
     "data": {
      "text/plain": "<Figure size 1008x432 with 2 Axes>",
      "image/png": "[encoded data removed]"
     },
     "metadata": {
      "needs_background": "light"
     },
     "output_type": "display_data"
    }
   ],
   "source": [
    "%matplotlib inline\n",
    "fig, [ax1, ax2] = plt.subplots(ncols=2, figsize=(14, 6))\n",
    "\n",
    "best_clusters[:25].plot(kind=\"bar\", ax=ax1)\n",
    "worst_clusters[:25].plot(kind=\"bar\", ax=ax2)\n",
    "\n",
    "ax1.set_title('Clusters with good pLDDT ratio')\n",
    "ax2.set_title('Clusters with bad pLDDT ratio')\n",
    "\n",
    "plt.show()"
   ],
   "metadata": {
    "collapsed": false,
    "pycharm": {
     "name": "#%%\n"
    }
   }
  },
  {
   "cell_type": "code",
   "execution_count": null,
   "outputs": [],
   "source": [],
   "metadata": {
    "collapsed": false,
    "pycharm": {
     "name": "#%%\n"
    }
   }
  }
 ],
 "metadata": {
  "kernelspec": {
   "display_name": "Python 3",
   "language": "python",
   "name": "python3"
  },
  "language_info": {
   "codemirror_mode": {
    "name": "ipython",
    "version": 2
   },
   "file_extension": ".py",
   "mimetype": "text/x-python",
   "name": "python",
   "nbconvert_exporter": "python",
   "pygments_lexer": "ipython2",
   "version": "2.7.6"
  }
 },
 "nbformat": 4,
 "nbformat_minor": 0
}