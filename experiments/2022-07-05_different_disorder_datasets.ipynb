{
 "cells": [
  {
   "cell_type": "markdown",
   "source": [
    "# Disorder model on larger datasets\n",
    "\n",
    "Now that we have validated the effectiveness of our language model based system, we want to train it on larger datasets to further boost its accuracy. These are:\n",
    "\n",
    "- Latest [DisProt](https://disprot.org/download) (2290 entries), 2022_06, all datasets, Disorder function aspect, consensus without ambiguous and obsolete\n",
    "- Manually curated entries from [MobiDB](https://mobidb.org/help/apidoc)\n",
    "- All entries in [MobiDB](https://mobidb.org/help/apidoc)"
   ],
   "metadata": {
    "collapsed": false,
    "pycharm": {
     "name": "#%% md\n"
    }
   }
  },
  {
   "cell_type": "markdown",
   "source": [
    "## Latest DisProt Dataset\n",
    "First, we downloaded the fasta file with the 2290 entries (`data/disprot/DisProt release_2022_06 consensus regions.fasta`). Now, we have to extend it with the actual sequence and replace the labels with 0/1."
   ],
   "metadata": {
    "collapsed": false,
    "pycharm": {
     "name": "#%% md\n"
    }
   }
  },
  {
   "cell_type": "code",
   "execution_count": 1,
   "outputs": [],
   "source": [
    "import re\n",
    "\n",
    "from aiohttp import ClientSession\n",
    "from tqdm.auto import tqdm\n",
    "\n",
    "from bin.utils.extend_aa_scores import load_sequence_from_uniprot_session"
   ],
   "metadata": {
    "collapsed": false,
    "pycharm": {
     "name": "#%%\n"
    }
   }
  },
  {
   "cell_type": "code",
   "execution_count": 2,
   "outputs": [],
   "source": [
    "def extract_disprot_dataset(file: str):\n",
    "    items = []\n",
    "    item = {\"label\": \"\"}\n",
    "    with open(file) as handle:\n",
    "        for line in handle:\n",
    "            if line.startswith('>'):\n",
    "                if \"acc\" in item:\n",
    "                    items.append(item)\n",
    "                    item = {\"label\": \"\"}\n",
    "                item[\"acc\"] = line.strip()\n",
    "            elif len(line.strip()) > 0:\n",
    "                item[\"label\"] += re.sub(r\"-\", \"0\", re.sub(r\"[DTFS]\", \"1\", line.strip()))\n",
    "\n",
    "    if \"acc\" in item:\n",
    "        items.append(item)\n",
    "    return items\n",
    "\n",
    "\n",
    "# There are some sequences with different uniprot sequence info. Use sequence from disprot instead.\n",
    "overrides = {\n",
    "    \"Q9NX55\": \"MRRRGEIDMATEGDVELELETETSGPERPPEKPRKHDSGAADLERVTDYAEEKEIQSSNLETAMSVIGDRRSREQKAKQEREKELAKVTIKKEDLELIMTEMEISRAAAERSLREHMGNVVEALIALTN\",\n",
    "    \"Q03518\": \"MAELLASAGSACSWDFPRAPPSFPPPAASRGGLGGTRSFRPHRGAESPRPGRDRDGVRVPMASSRCPAPRGCRCLPGASLAWLGTVLLLLADWVLLRTALPRIFSLLVPTALPLLRVWAVGLSRWAVLWLGACGVLRATVGSKSENAGAQGWLAALKPLAAALGLALPGLALFRELISWGAPGSADSTRLLHWGSHPTAFVVSYAAALPAAALWHKLGSLWVPGGQGGSGNPVRRLLGCLGSETRRLSLFLVLVVLSSLGEMAIPFFTGRLTDWILQDGSADTFTRNLTLMSILTIASAVLEFVGDGIYNNTMGHVHSHLQGEVFGAVLRQETEFFQQNQTGNIMSRVTEDTSTLSDSLSENLSLFLWYLVRGLCLLGIMLWGSVSLTMVTLITLPLLFLLPKKVGKWYQLLEVQVRESLAKSSQVAIEALSAMPTVRSFANEEGEAQKFREKLQEIKTLNQKEAVAYAVNSWTTSISGMLLKVGILYIGGQLVTSGAVSSGNLVTFVLYQMQFTQAVEVLLSIYPRVQKAVGSSEKIFEYLDRTPRCPPSGLLTPLHLEGLVQFQDVSFAYPNRPDVLVLQGLTFTLRPGEVTALVGPNGSGKSTVAALLQNLYQPTGGQLLLDGKPLPQYEHRYLHRQVAAVGQEPQVFGRSLQENIAYGLTQKPTMEEITAAAVKSGAHSFISGLPQGYDTEVDEAGSQLSGGQRQAVALARALIRKPCVLILDDATSALDANSQLQVEQLLYESPERYSRSVLLITQHLSLVEQADHILFLEGGAIREGGTHQQLMEKKGCYWAMVQAPADAPE\",\n",
    "    \"Q9UJX3\": \"MDPGDAAILESSLRILYRLFESVLPPLPAALQSRMNVIDHVRDMAAAGLHSNVRLLSSLLLTMSNNNPELFSPPQKYQLLVYHADSLFHDKEYRNAVSKYTMALQQKKALSKTSKVRPSTGNSASTPQSQCLPSEIEVKYKMAECYTMLKQDKDAIAILDGIPSRQRTPKINMMLANLYKKAGQERPSVTSYKEVLRQCPLALDAILGLLSLSVKGAEVASMTMNVIQTVPNLDWLSVWIKAYAFVHTGDNSRAISTICSLEKKSLLRDNVDLLGSLADLYFRAGDNKNSVLKFEQAQMLDPYLIKGMDVYGYLLAREGRLEDVENLGCRLFNISDQHAEPWVVSGCHSFYSKRYSRALYLGAKAIQLNSNSVQALLLKGAALRNMGRVQEAIIHFREAIRLAPCRLDCYEGLIECYLASNSIREAMVMANNVYKTLGANAQTLTLLATVCLEDPVTQEKAKTLLDKALTQRPDYIKAVVKKAELLSREQKYEDGIALLRNALANQSDCVLHRILGDFLVAVNEYQEAMDQYSIALSLDPNDQKSLEGMQKMEKEESPTDATQEEDVDDMEGSGEEGDLEGSDSEAAQWADQEQWFGMQ\",\n",
    "    \"K7J0R2\": \"MWSPAILLLLIGATFANQQNGWTNGKQYTYAINSRTIATFNQQSKYLSGIVIEAYLTVQPNGEDTLRAKIWQPRYSPIHTQLENGWDSEIPQNLINLQTFPLSGKPFEIKTKNGVVRDLIVDKDVPTWEVNVLKGIVSQLQIDTSGENVKKSKRNQLPEENQPFAFFKAMEDSVGGKCEVLYDISPLPEQVLQNKPELAPMPELREDGDMISLVKTKNYSNCEQRAGYHFNINGRNAWEPGSNENRKYLSRSSVSRVIISGNLRKYTIQSSVTTNKVVHHADNQEENQQGMVASRMNLTLHKVEDMSEPMESPVNPQSTGNLVYNYNSPIDSISARRPNKYNQKGRSDEKNKNSDESDSESDSDGSVFDNNDDSYLQPKPKLTDAPLSPLLPFFIGNNGNSILKNKKVDAVKSATSIAQEIGNEMQNPDIMFAEQTLEKFTILSKLIRTMNSEQIASVQRSLYERAQSLNQLKQNNPEQLSRRNAWVAFRDAVAQAGTGPALVNIKQWVQNKQIEGTEATHVIDTLAKSVRIPTPEYMDTYFELIKMEEVKRELIVRDAAVLSFADLIRHAVVNKKSAHNHYPVHAFGRLLPKNFRQLHEKYIPYLEEELLKAVDAGDSRRIHTYTIALGKTAHPRVLAVFEPYLEGKKPISPYQRLVMVLSLNKLASIFPKVGRSVLYKIYSNTADYHEIRTAAVYLLMQSNPSASMLQRMAEFTNYDTSKYVNSAVKSTIESLAQLHDNHEYQGLLDSARAAQPLLTSESYGPQYSKQMFFNLRNPLTQSDYFIQASTIGSEDSIIPKGVYVITIPTYNGMKMPKIEIGGEVSSLKNLWNFVQQRISNSQRSDSNEKPENQKYSPENLAKLLGIYGEETEQIEGFAFINDKFANHFLTFDNHTLEKIPGMLRQLAEDMKQGRSFDATKLKNFEVTISFPTETGFPFRFTVKNPTITSVSGVSHLKTTSGSGSRSEWPKASLSGNVRIVYGLQTQKRLGFVTPFEHQEYMVGIDKDMQVYLPVRSEIEYDVNKGETRLRIQPNENLDEFKIIQYRTQPFTSKHDILNLEPITKDSNTATVHKNRATSSQIELNDNNNKQRLQFNWERQMRHLEEEIGNSYNKRQNAMEAMCKLTQSISSMFYLNSVDSEYQKYSVKVSPGSDMSAEMRISHDSMITENSENTDNSESWSPNAKTVHLERSLSEQERKQTLLKEASKNINSAEANVVDISLQLNGDMQSSVALTAAFADSNVDRKSRALLYASVETKGGQDYHVSAGFEGKNPNIESLDFEEILKANDRREYDLNVHYGIGTNENDENKQNRIKVRGEIKQTEERKKQIRQSHDARVCMKQQSLHGDKMTSACKRINKRASLADAGDFTVTFPNKSPMREIVMSAWDAAERMTQSVSHSWKNRMIKEEDNKVKVTFEMSPNDEKVDVTVKTPEGQIQLNNIKVALISNKNNGNVKDNRNEDDEELNKLNDNVCQLDKTQARTFDNHRYPLQLGSCWHIAMTPYPKHDPDTPSKKLEIPENMQVSILTRENENGQKELKITLGESLIELSASGPRQTHAKVNGNKVHYSKHKSYKEKKHGKVLFELFELSDESLKLVSKKYDIEIVYDGYRAQIETGERYRDSVRGLCGNNDGESMNDQQTPKGCLLQKPEEFSATYALTNDDQCQGPAIRNADEAKKSQCSYQTIRPGNVISEKEAGRETELSQDSDGAKHCMTHRTKIIRSKNEICFSLRPIPTCLSKCSPSSIKSKAIPFHCVAKNSASQKVAERVEKGANPDLTQKSVSKTLTEQLPINCKA\",\n",
    "    \"M0Y2D5\": \"MIMSDPAMLPPGFRFHPTDEELILHYLRNRAAQSPCPVSIIADVDIYKFDPWALPSKASYGDREWYFFTPRDRKYPNGVRPNRAAGSGYWKATGTDKPIRCSATGESVGVKKALVFYKGRPPKGIKTNWIMHEYRLAAADAHAANTYRPMKFRNASMRLDDWVLCRIYKKTSQVSPMAVPPLSDHELDEPSGAGAYPMSSAGMTMQGGAGGYTLQAAVPGTQRMPKIPSISELLNDYSLAQLFDDSGHALMARHDQHAALFGHPIMSQFHVNSSGNNMSQLGQMDSPASTSVARDGAAGKRKRLSEEDGEHNGSTSQPAAAVTNKKPNSSCFGATTFQVGNNTLQGSLGQPLLHF\",\n",
    "    \"P01019\": \"MRKRAPQSEMAPAGVSLRATILCLLAWAGLAAGDRVYIHPFHLVIHNESTCEQLAKANAGKPKDPTFIPAPIQAKTSPVDEKALQDQLVLVAAKLDTEDKLRAAMVGMLANFLGFRIYGMHSELWGVVHGATVLSPTAVFGTLASLYLGALDHTADRLQAILGVPWKDKNCTSRLDAHKVLSALQAVQGLLVAQGRADSQAQLLLSTVVGVFTAPGLHLKQPFVQGLALYTPVVLPRSLDFTELDVAAEKIDRFMQAVTGWKTGCSLMGASVDSTLAFNTYVHFQGKMKGFSLLAEPQEFWVDNSTSVSVPMLSGMGTFQHWSDIQDNFSVTQVPFTESACLLLIQPHYASDLDKVEGLTFQQNSLNWMKKLSPRTIHLTMPQLVLQGSYDLQDLLAQAELPAILHTELNLQKLSNDRIRVGEVLNSIFFELEADEREPTESTQQLNKPEVLEVTLNRPFLFAVYDQSATALHFLGRVANPLSTA\",\n",
    "    \"Q12983\": \"MGDAAADPPGPALPCEFLRPGCGAPLSPGAQLGRGAPTSAFPPPAAEAHPAARRGLRSPQLPSGAMSQNGAPGMQEESLQGSWVELHFSNNGNGGSVPASVSIYNGDMEKILLDAQHESGRSSSKSSHCDSPPRSQTPQDTNRASETDTHSIGEKNSSQSEEDDIERRKEVESILKKNSDWIWDWSSRPENIPPKEFLFKHPKRTATLSMRNTSVMKKGGIFSAEFLKVFLPSLLLSHLLAIGLGIYIGRRLTTSTSTF\",\n",
    "}\n",
    "\n",
    "\n",
    "async def add_uniprot_sequence(session: ClientSession, item: dict):\n",
    "    uniprot_id = re.search(r\"full acc=([A-Z\\d-]+)\", item['acc']).group(1)\n",
    "    if uniprot_id in overrides:\n",
    "        item['seq'] = overrides[uniprot_id]\n",
    "    else:\n",
    "        item['seq'] = await load_sequence_from_uniprot_session(session, uniprot_id)\n",
    "    return item"
   ],
   "metadata": {
    "collapsed": false,
    "pycharm": {
     "name": "#%%\n"
    }
   }
  },
  {
   "cell_type": "code",
   "execution_count": 3,
   "outputs": [],
   "source": [
    "disorder_items = extract_disprot_dataset(\"../data/disprot/2022/DisProt release_2022_06 consensus regions.fasta\")"
   ],
   "metadata": {
    "collapsed": false,
    "pycharm": {
     "name": "#%%\n"
    }
   }
  },
  {
   "cell_type": "code",
   "execution_count": 4,
   "outputs": [
    {
     "data": {
      "text/plain": "Loading sequences:   0%|          | 0/2290 [00:00<?, ?it/s]",
      "application/vnd.jupyter.widget-view+json": {
       "version_major": 2,
       "version_minor": 0,
       "model_id": "6666e750a755448489fa9fce93d61a8a"
      }
     },
     "metadata": {},
     "output_type": "display_data"
    }
   ],
   "source": [
    "async with ClientSession() as session:\n",
    "    disorder_items_with_seqs = await tqdm.gather(*[add_uniprot_sequence(session, i) for i in disorder_items],\n",
    "                                                 desc=f'Loading sequences')"
   ],
   "metadata": {
    "collapsed": false,
    "pycharm": {
     "name": "#%%\n"
    }
   }
  },
  {
   "cell_type": "code",
   "execution_count": 5,
   "outputs": [
    {
     "name": "stdout",
     "output_type": "stream",
     "text": [
      "0 entries have a difference in lengths of sequence and label:\n",
      "\n"
     ]
    }
   ],
   "source": [
    "# Check that seq and label have the same length\n",
    "diffs = list(filter(lambda i: len(i['seq']) != len(i['label']), disorder_items_with_seqs))\n",
    "print(f\"{len(diffs)} entries have a difference in lengths of sequence and label:\\n\")\n",
    "for d in diffs:\n",
    "    uniprot_id = re.search(r\"full acc=([A-Z0-9]+)\", d['acc']).group(1)\n",
    "    print(f\"\\t{uniprot_id} has seq_len {len(d['seq'])} and label_len {len(d['label'])}\")"
   ],
   "metadata": {
    "collapsed": false,
    "pycharm": {
     "name": "#%%\n"
    }
   }
  },
  {
   "cell_type": "code",
   "execution_count": 6,
   "outputs": [],
   "source": [
    "# Write correct sequences to file\n",
    "filtered = list(filter(lambda i: len(i['seq']) == len(i['label']), disorder_items_with_seqs))\n",
    "with open('../data/disprot/2022/disprot-disorder-2022-unclustered.txt', 'w') as handle:\n",
    "    for i in filtered:\n",
    "        handle.write(f\"{i['acc']}\\n{i['seq']}\\n{i['label']}\\n\")\n",
    "\n",
    "with open('../data/disprot/2022/disprot-disorder-2022-seqs.fasta', 'w') as handle:\n",
    "    for i in filtered:\n",
    "        handle.write(f\"{i['acc']}\\n{i['seq']}\\n\")"
   ],
   "metadata": {
    "collapsed": false,
    "pycharm": {
     "name": "#%%\n"
    }
   }
  },
  {
   "cell_type": "markdown",
   "source": [
    "One thing I noticed immediately was that the labels for the old disprot dataset changed slightly. The question is now whether the model was \"smarter\" than the previous labels. It would be interesting to investigate the performance of the model trained on the old dataset on the new dataset (Raven: `disprot_2022_trained_on_2018.out`).\n",
    "\n",
    "The accuracy on all the new data is to be taken with a grain of salt since it would include training samples too.\n",
    "\n",
    "| Tested on all 2022 data | BAC   | F1    | MCC   |\n",
    "|-------------------------|-------|-------|-------|\n",
    "| 2018 model              | 0.747 | 0.656 | 0.489 |"
   ],
   "metadata": {
    "collapsed": false,
    "pycharm": {
     "name": "#%% md\n"
    }
   }
  },
  {
   "cell_type": "markdown",
   "source": [
    "### Excursion: AlphaFold models for new DisProt\n",
    "\n",
    "We also want to investigate how the spearman correlation between pLDDT and true labels behaves for all sequences where we have true labels. This can then be compared with the pLDDT-IUPred correlation.\n",
    "\n",
    "#### Find the experiment in the new_disprot_alphafold_correlation file."
   ],
   "metadata": {
    "collapsed": false,
    "pycharm": {
     "name": "#%% md\n"
    }
   }
  },
  {
   "cell_type": "code",
   "execution_count": 10,
   "outputs": [],
   "source": [
    "import os\n",
    "\n",
    "# Create one fasta file for each sequence of interest to run through AlphaFold\n",
    "fasta_folder = '../data/disprot/2022/sequences'\n",
    "if not os.path.exists(fasta_folder):\n",
    "    os.makedirs(fasta_folder)\n",
    "for i in filtered:\n",
    "    uniprot_id = re.search(r\"full acc=([A-Z0-9]+)\", i['acc']).group(1)\n",
    "    with open(f'{fasta_folder}/{uniprot_id}.fasta', 'w') as handle:\n",
    "        handle.write(f\"{i['acc']}\\n{i['seq']}\\n\")"
   ],
   "metadata": {
    "collapsed": false,
    "pycharm": {
     "name": "#%%\n"
    }
   }
  },
  {
   "cell_type": "markdown",
   "source": [
    "### Building training, validation, and test sets\n",
    "\n",
    "To ensure good training and evaluation, we need to remove redundancy in the sets. To do this, we cluster with [CH-HIT](http://weizhong-lab.ucsd.edu/cdhit-web-server/cgi-bin/index.cgi?cmd=cd-hit) using 50% sequence identity cutoff and 70% coverage (aL). There are 1,997 resulting sequences in total that we will split into 70%/10%/20% train/validation/test sets. This means more than 3x the training data compared to flDPnn."
   ],
   "metadata": {
    "collapsed": false,
    "pycharm": {
     "name": "#%% md\n"
    }
   }
  },
  {
   "cell_type": "code",
   "execution_count": 7,
   "outputs": [],
   "source": [
    "from bin.utils.extend_aa_scores import read_fasta_seqs\n",
    "\n",
    "clustered_seqs = read_fasta_seqs('../data/disprot/2022/disprot-disorder-2022-clustered-seqs.fasta')\n",
    "clustered_accs = set(seq['acc'] for seq in clustered_seqs)"
   ],
   "metadata": {
    "collapsed": false,
    "pycharm": {
     "name": "#%%\n"
    }
   }
  },
  {
   "cell_type": "code",
   "execution_count": 8,
   "outputs": [],
   "source": [
    "nonredundant_disorder_items = list(filter(lambda item: item['acc'] in clustered_accs, filtered))"
   ],
   "metadata": {
    "collapsed": false,
    "pycharm": {
     "name": "#%%\n"
    }
   }
  },
  {
   "cell_type": "code",
   "execution_count": 9,
   "outputs": [],
   "source": [
    "from sklearn.model_selection import train_test_split\n",
    "\n",
    "def write_disorder_items_to_file(items, filename):\n",
    "    with open(filename, 'w') as handle:\n",
    "        for i in items:\n",
    "            handle.write(f\"{i['acc']}\\n{i['seq']}\\n{i['label']}\\n\")\n",
    "\n",
    "# set aside 20% of train as test data for evaluation\n",
    "temp_items, test_items = train_test_split(nonredundant_disorder_items, test_size=0.2, random_state=9)\n",
    "# set aside 10% of train as test data for evaluation (12.5% x 80% = 10%)\n",
    "train_items, val_items = train_test_split(temp_items, test_size=0.125, random_state=9)\n",
    "\n",
    "write_disorder_items_to_file(test_items, '../data/disprot/2022/disprot-disorder-2022-test.txt')\n",
    "write_disorder_items_to_file(val_items, '../data/disprot/2022/disprot-disorder-2022-val.txt')\n",
    "write_disorder_items_to_file(train_items, '../data/disprot/2022/disprot-disorder-2022-train.txt')"
   ],
   "metadata": {
    "collapsed": false,
    "pycharm": {
     "name": "#%%\n"
    }
   }
  },
  {
   "cell_type": "markdown",
   "source": [
    "The training dataset has the following composition of labels: 125901 / 493916 (disorder=1 / order or unknown=0).\n",
    "\n",
    "We now trained the existing DisProt model on the new data (Raven: `train_disprot_2022.out`).\n",
    "\n",
    "| Validation results                      | BAC  | F1   | MCC  |\n",
    "|-----------------------------------------|------|------|------|\n",
    "| Model trained on 2022 validated on 2022 | 0.72 | 0.64 | 0.44 |\n",
    "| Model trained on 2018 validated on 2018 | 0.75 | 0.64 | 0.52 |"
   ],
   "metadata": {
    "collapsed": false,
    "pycharm": {
     "name": "#%% md\n"
    }
   }
  },
  {
   "cell_type": "markdown",
   "source": [
    "### Hyperparameters on latest DisProt\n",
    "\n",
    "With more data, the question arises whether the learning rate and model is still the best fit. Therefore, we will also run hyperparam tuning again (`hyperparam_tune_on_disprot_2022.out`).\n",
    "\n",
    "```\n",
    "\"model_name\": tune.choice(['facebook/esm-1b', 'Rostlab/prot_bert_bfd', 'Rostlab/prot_t5_xl_half_uniref50-enc']),\n",
    "\"learning_rate\": tune.loguniform(1e-5, 1e-2),\n",
    "\"encoder_learning_rate\": tune.loguniform(5e-6, 1e-2),\n",
    "```"
   ],
   "metadata": {
    "collapsed": false,
    "pycharm": {
     "name": "#%% md\n"
    }
   }
  },
  {
   "cell_type": "markdown",
   "source": [
    "## CheZOD dataset from ODiNPred\n",
    "\n",
    "Downloaded both sets from https://github.com/protein-nmr/CheZOD\n",
    "\n"
   ],
   "metadata": {
    "collapsed": false,
    "pycharm": {
     "name": "#%% md\n"
    }
   }
  },
  {
   "cell_type": "code",
   "execution_count": null,
   "outputs": [],
   "source": [],
   "metadata": {
    "collapsed": false,
    "pycharm": {
     "name": "#%%\n"
    }
   }
  }
 ],
 "metadata": {
  "kernelspec": {
   "display_name": "Python 3",
   "language": "python",
   "name": "python3"
  },
  "language_info": {
   "codemirror_mode": {
    "name": "ipython",
    "version": 2
   },
   "file_extension": ".py",
   "mimetype": "text/x-python",
   "name": "python",
   "nbconvert_exporter": "python",
   "pygments_lexer": "ipython2",
   "version": "2.7.6"
  }
 },
 "nbformat": 4,
 "nbformat_minor": 0
}