{
 "cells": [
  {
   "cell_type": "markdown",
   "metadata": {
    "collapsed": true,
    "pycharm": {
     "name": "#%% md\n"
    }
   },
   "source": [
    "# Calculate kmer distribution for all sequences in UniProt\n",
    "Can be used downstream as a potential marker for randomness"
   ]
  },
  {
   "cell_type": "code",
   "execution_count": 18,
   "outputs": [],
   "source": [
    "import re\n",
    "import time\n",
    "\n",
    "import pandas as pd\n",
    "import numpy as np\n",
    "import matplotlib.pyplot as plt\n",
    "\n",
    "from collections import Counter\n",
    "from tqdm.auto import tqdm\n",
    "from pqdm.threads import pqdm"
   ],
   "metadata": {
    "collapsed": false,
    "pycharm": {
     "name": "#%%\n"
    }
   }
  },
  {
   "cell_type": "code",
   "execution_count": 21,
   "outputs": [],
   "source": [
    "def count_kmers_for_sequence(counter: Counter, seq: str, k: int):\n",
    "    n_kmers = len(seq) - k + 1\n",
    "    for i in range(n_kmers):\n",
    "        kmer = seq[i:i + k]\n",
    "        counter[kmer] += 1\n",
    "\n",
    "\n",
    "def load_kmer_counts_for_file(fasta_file: str, result_file: str, k=6):\n",
    "    kmer_counts = Counter()\n",
    "    with open(fasta_file) as f:\n",
    "        _seq_parts = list()\n",
    "        for line in f:\n",
    "            if line.startswith('>'):\n",
    "                if len(_seq_parts) > 0:\n",
    "                    count_kmers_for_sequence(kmer_counts, ''.join(_seq_parts), k)\n",
    "                _seq_parts.clear()\n",
    "                continue\n",
    "            _seq_parts.append(line.rstrip())\n",
    "        count_kmers_for_sequence(kmer_counts, ''.join(_seq_parts), k)\n",
    "\n",
    "    df = pd.DataFrame(data=kmer_counts.most_common(n=1000), columns=['kmer', 'count'])\n",
    "    df.to_csv(result_file, index=False)"
   ],
   "metadata": {
    "collapsed": false,
    "pycharm": {
     "name": "#%%\n"
    }
   }
  },
  {
   "cell_type": "code",
   "execution_count": 26,
   "outputs": [
    {
     "name": "stdout",
     "output_type": "stream",
     "text": [
      "1min 33s ± 2.4 s per loop (mean ± std. dev. of 7 runs, 1 loop each)\n",
      "Processed the sequences in 87.8458 seconds\n"
     ]
    }
   ],
   "source": [
    "tic = time.perf_counter()\n",
    "load_kmer_counts_for_file('../data/sprot/uniprot_sprot.fasta', result_file='../data/sprot/kmer_counts.csv')\n",
    "toc = time.perf_counter()\n",
    "print(f\"Processed the sequences in {toc - tic:0.4f} seconds\")"
   ],
   "metadata": {
    "collapsed": false,
    "pycharm": {
     "name": "#%%\n"
    }
   }
  },
  {
   "cell_type": "code",
   "execution_count": 24,
   "outputs": [],
   "source": [
    "df_counts = pd.read_csv('../data/uniprot/trembl_kmer_counts.csv', index_col=None).sort_values('count', ascending=False)\n",
    "df_counts = df_counts[df_counts['kmer'] != 'XXXXXX']"
   ],
   "metadata": {
    "collapsed": false,
    "pycharm": {
     "name": "#%%\n"
    }
   }
  },
  {
   "cell_type": "code",
   "execution_count": 25,
   "outputs": [
    {
     "data": {
      "text/plain": "<Figure size 432x288 with 1 Axes>",
      "image/png": "[encoded data removed]"
     },
     "metadata": {
      "needs_background": "light"
     },
     "output_type": "display_data"
    }
   ],
   "source": [
    "nkmers = 20\n",
    "fig, ax = plt.subplots()\n",
    "ax.bar(df_counts['kmer'][:nkmers], df_counts['count'][:nkmers])\n",
    "ax.set_title(f'Most frequent 6mers in UniProt')\n",
    "ax.tick_params(labelrotation=90)\n",
    "plt.show()"
   ],
   "metadata": {
    "collapsed": false,
    "pycharm": {
     "name": "#%%\n"
    }
   }
  },
  {
   "cell_type": "code",
   "execution_count": 32,
   "outputs": [],
   "source": [
    "def check_repeat(kmer: str, min_len=5):\n",
    "    return any(all(c == kmer[start] for c in kmer[start + 1:start + min_len]) for start in range(len(kmer) - min_len))\n",
    "\n",
    "\n",
    "most_freq_kmers = df_counts['kmer'][:100].values\n",
    "repeats = []\n",
    "non_repeats = []\n",
    "for kmer in most_freq_kmers:\n",
    "    if check_repeat(kmer):\n",
    "        repeats.append(kmer)\n",
    "    else:\n",
    "        non_repeats.append(kmer)"
   ],
   "metadata": {
    "collapsed": false,
    "pycharm": {
     "name": "#%%\n"
    }
   }
  },
  {
   "cell_type": "code",
   "execution_count": 33,
   "outputs": [
    {
     "data": {
      "text/plain": "(10, 90)"
     },
     "execution_count": 33,
     "metadata": {},
     "output_type": "execute_result"
    }
   ],
   "source": [
    "len(repeats), len(non_repeats)"
   ],
   "metadata": {
    "collapsed": false,
    "pycharm": {
     "name": "#%%\n"
    }
   }
  },
  {
   "cell_type": "code",
   "execution_count": 14,
   "outputs": [],
   "source": [
    "repeat_regex = '|'.join(repeats)\n",
    "non_repeat_regex = '|'.join(non_repeats)"
   ],
   "metadata": {
    "collapsed": false,
    "pycharm": {
     "name": "#%%\n"
    }
   }
  },
  {
   "cell_type": "code",
   "execution_count": 15,
   "outputs": [],
   "source": [
    "full_seq = \"\"\">tr|E9PWP7|E9PWP7_MOUSE Mucin 3, intestinal OS=Mus musculus OX=10090 GN=Muc3 PE=1 SV=4\n",
    "\"\"\"\n",
    "seq = ''\n",
    "for _line in full_seq.split('\\n'):\n",
    "    if _line.startswith(\">\"):\n",
    "        continue\n",
    "    seq += _line.strip()"
   ],
   "metadata": {
    "collapsed": false,
    "pycharm": {
     "name": "#%%\n"
    }
   }
  },
  {
   "cell_type": "code",
   "execution_count": 16,
   "outputs": [],
   "source": [
    "def count_6mers_counter(seq: str, k=6):\n",
    "    counter = Counter()\n",
    "    n_kmers = len(seq) - k + 1\n",
    "    for i in range(n_kmers):\n",
    "        kmer = seq[i:i + k]\n",
    "        counter[kmer] += 1\n",
    "    return sum([counter[repeat] for repeat in repeats]), sum([counter[non_repeat] for non_repeat in non_repeats])\n",
    "\n",
    "\n",
    "def count_6mers_regex(seq: str):\n",
    "    return sum(1 for _ in re.finditer(f'(?=({repeat_regex}))', seq)), sum(\n",
    "        1 for _ in re.finditer(f'(?=({non_repeat_regex}))', seq))"
   ],
   "metadata": {
    "collapsed": false,
    "pycharm": {
     "name": "#%%\n"
    }
   }
  },
  {
   "cell_type": "code",
   "execution_count": 68,
   "outputs": [
    {
     "name": "stdout",
     "output_type": "stream",
     "text": [
      "93.6 µs ± 1.16 µs per loop (mean ± std. dev. of 7 runs, 10,000 loops each)\n"
     ]
    }
   ],
   "source": [
    "%%timeit\n",
    "count_6mers_counter(seq)"
   ],
   "metadata": {
    "collapsed": false,
    "pycharm": {
     "name": "#%%\n"
    }
   }
  },
  {
   "cell_type": "code",
   "execution_count": 17,
   "outputs": [
    {
     "data": {
      "text/plain": "(0, 0)"
     },
     "execution_count": 17,
     "metadata": {},
     "output_type": "execute_result"
    }
   ],
   "source": [
    "count_6mers_regex(seq)"
   ],
   "metadata": {
    "collapsed": false,
    "pycharm": {
     "name": "#%%\n"
    }
   }
  },
  {
   "cell_type": "markdown",
   "source": [
    "### Plot kmer frequency"
   ],
   "metadata": {
    "collapsed": false,
    "pycharm": {
     "name": "#%% md\n"
    }
   }
  },
  {
   "cell_type": "code",
   "execution_count": 3,
   "outputs": [],
   "source": [
    "import glob\n",
    "import matplotlib.pyplot as plt"
   ],
   "metadata": {
    "collapsed": false,
    "pycharm": {
     "name": "#%%\n"
    }
   }
  },
  {
   "cell_type": "code",
   "execution_count": 4,
   "outputs": [],
   "source": [
    "dfs = []\n",
    "for proteome_file in glob.glob('../data/alphafold/v2/AA_scores/*.csv'):\n",
    "    proteome = re.search(r\"/([A-Z0-9]+).csv\", proteome_file).group(1)\n",
    "    proteome_df = pd.read_csv(proteome_file, index_col=0)\n",
    "    proteome_df['proteome'] = proteome\n",
    "    dfs.append(proteome_df)\n",
    "df = pd.concat(dfs)"
   ],
   "metadata": {
    "collapsed": false,
    "pycharm": {
     "name": "#%%\n"
    }
   }
  },
  {
   "cell_type": "code",
   "execution_count": 72,
   "outputs": [
    {
     "data": {
      "text/plain": "             seq_len  domain_count        max_pae      min_plddt  \\\ncount  545555.000000  545555.00000  542051.000000  545555.000000   \nmean      458.873356       1.11808      30.845778      33.727809   \nstd       880.781186      12.27124       1.455963      11.363737   \nmin        16.000000       0.00000       6.000000       1.390000   \n25%       186.000000       0.00000      30.900000      25.620000   \n50%       333.000000       0.00000      31.300000      31.180000   \n75%       538.000000       1.00000      31.400000      38.590000   \nmax     32200.000000     285.00000      31.700000      97.030000   \n\n          mean_plddt   median_plddt  ratio_bad_plddt     iupred_auc  \\\ncount  545555.000000  545555.000000    545555.000000  522125.000000   \nmean       75.312362      79.094267         0.354822     125.969805   \nstd        14.949144      18.772187         0.291004     147.224706   \nmin        23.077300      22.170000         0.000000       0.000000   \n25%        64.928350      64.540000         0.112200      38.063900   \n50%        77.976200      87.315000         0.272000      80.049100   \n75%        87.562600      93.995000         0.552100     156.520200   \nmax        98.724100      98.860000         1.000000    2730.699900   \n\n        repeat_6mers  non_repeat_6mers  repeat_6mers_100  non_repeat_6mers_100  \ncount  514622.000000     514622.000000     514622.000000         514622.000000  \nmean        0.515753          0.000657          0.583850              0.019857  \nstd         4.485592          0.048485          4.739796              0.394819  \nmin         0.000000          0.000000          0.000000              0.000000  \n25%         0.000000          0.000000          0.000000              0.000000  \n50%         0.000000          0.000000          0.000000              0.000000  \n75%         0.000000          0.000000          0.000000              0.000000  \nmax       342.000000         11.000000        382.000000             83.000000  ",
      "text/html": "<div>\n<style scoped>\n    .dataframe tbody tr th:only-of-type {\n        vertical-align: middle;\n    }\n\n    .dataframe tbody tr th {\n        vertical-align: top;\n    }\n\n    .dataframe thead th {\n        text-align: right;\n    }\n</style>\n<table border=\"1\" class=\"dataframe\">\n  <thead>\n    <tr style=\"text-align: right;\">\n      <th></th>\n      <th>seq_len</th>\n      <th>domain_count</th>\n      <th>max_pae</th>\n      <th>min_plddt</th>\n      <th>mean_plddt</th>\n      <th>median_plddt</th>\n      <th>ratio_bad_plddt</th>\n      <th>iupred_auc</th>\n      <th>repeat_6mers</th>\n      <th>non_repeat_6mers</th>\n      <th>repeat_6mers_100</th>\n      <th>non_repeat_6mers_100</th>\n    </tr>\n  </thead>\n  <tbody>\n    <tr>\n      <th>count</th>\n      <td>545555.000000</td>\n      <td>545555.00000</td>\n      <td>542051.000000</td>\n      <td>545555.000000</td>\n      <td>545555.000000</td>\n      <td>545555.000000</td>\n      <td>545555.000000</td>\n      <td>522125.000000</td>\n      <td>514622.000000</td>\n      <td>514622.000000</td>\n      <td>514622.000000</td>\n      <td>514622.000000</td>\n    </tr>\n    <tr>\n      <th>mean</th>\n      <td>458.873356</td>\n      <td>1.11808</td>\n      <td>30.845778</td>\n      <td>33.727809</td>\n      <td>75.312362</td>\n      <td>79.094267</td>\n      <td>0.354822</td>\n      <td>125.969805</td>\n      <td>0.515753</td>\n      <td>0.000657</td>\n      <td>0.583850</td>\n      <td>0.019857</td>\n    </tr>\n    <tr>\n      <th>std</th>\n      <td>880.781186</td>\n      <td>12.27124</td>\n      <td>1.455963</td>\n      <td>11.363737</td>\n      <td>14.949144</td>\n      <td>18.772187</td>\n      <td>0.291004</td>\n      <td>147.224706</td>\n      <td>4.485592</td>\n      <td>0.048485</td>\n      <td>4.739796</td>\n      <td>0.394819</td>\n    </tr>\n    <tr>\n      <th>min</th>\n      <td>16.000000</td>\n      <td>0.00000</td>\n      <td>6.000000</td>\n      <td>1.390000</td>\n      <td>23.077300</td>\n      <td>22.170000</td>\n      <td>0.000000</td>\n      <td>0.000000</td>\n      <td>0.000000</td>\n      <td>0.000000</td>\n      <td>0.000000</td>\n      <td>0.000000</td>\n    </tr>\n    <tr>\n      <th>25%</th>\n      <td>186.000000</td>\n      <td>0.00000</td>\n      <td>30.900000</td>\n      <td>25.620000</td>\n      <td>64.928350</td>\n      <td>64.540000</td>\n      <td>0.112200</td>\n      <td>38.063900</td>\n      <td>0.000000</td>\n      <td>0.000000</td>\n      <td>0.000000</td>\n      <td>0.000000</td>\n    </tr>\n    <tr>\n      <th>50%</th>\n      <td>333.000000</td>\n      <td>0.00000</td>\n      <td>31.300000</td>\n      <td>31.180000</td>\n      <td>77.976200</td>\n      <td>87.315000</td>\n      <td>0.272000</td>\n      <td>80.049100</td>\n      <td>0.000000</td>\n      <td>0.000000</td>\n      <td>0.000000</td>\n      <td>0.000000</td>\n    </tr>\n    <tr>\n      <th>75%</th>\n      <td>538.000000</td>\n      <td>1.00000</td>\n      <td>31.400000</td>\n      <td>38.590000</td>\n      <td>87.562600</td>\n      <td>93.995000</td>\n      <td>0.552100</td>\n      <td>156.520200</td>\n      <td>0.000000</td>\n      <td>0.000000</td>\n      <td>0.000000</td>\n      <td>0.000000</td>\n    </tr>\n    <tr>\n      <th>max</th>\n      <td>32200.000000</td>\n      <td>285.00000</td>\n      <td>31.700000</td>\n      <td>97.030000</td>\n      <td>98.724100</td>\n      <td>98.860000</td>\n      <td>1.000000</td>\n      <td>2730.699900</td>\n      <td>342.000000</td>\n      <td>11.000000</td>\n      <td>382.000000</td>\n      <td>83.000000</td>\n    </tr>\n  </tbody>\n</table>\n</div>"
     },
     "execution_count": 72,
     "metadata": {},
     "output_type": "execute_result"
    }
   ],
   "source": [
    "df.describe()"
   ],
   "metadata": {
    "collapsed": false,
    "pycharm": {
     "name": "#%%\n"
    }
   }
  },
  {
   "cell_type": "code",
   "execution_count": 73,
   "outputs": [],
   "source": [
    "df['repeat_6mers'] = df['repeat_6mers_100']\n",
    "df['non_repeat_6mers'] = df['non_repeat_6mers_100']"
   ],
   "metadata": {
    "collapsed": false,
    "pycharm": {
     "name": "#%%\n"
    }
   }
  },
  {
   "cell_type": "code",
   "execution_count": 85,
   "outputs": [],
   "source": [
    "df = df[df['repeat_6mers'].notnull()]\n",
    "df = df[df['non_repeat_6mers'].notnull()]\n",
    "df['repeat_6mers_normalized'] = df['repeat_6mers'] / df['seq_len']\n",
    "df['non_repeat_6mers_normalized'] = df['non_repeat_6mers'] / df['seq_len']"
   ],
   "metadata": {
    "collapsed": false,
    "pycharm": {
     "name": "#%%\n"
    }
   }
  },
  {
   "cell_type": "code",
   "execution_count": 86,
   "outputs": [
    {
     "data": {
      "text/plain": "        repeat_6mers  non_repeat_6mers  repeat_6mers_normalized  \\\ncount  514622.000000     514622.000000            514622.000000   \nmean        0.515753          0.000657                 0.000958   \nstd         4.485592          0.048485                 0.008114   \nmin         0.000000          0.000000                 0.000000   \n25%         0.000000          0.000000                 0.000000   \n50%         0.000000          0.000000                 0.000000   \n75%         0.000000          0.000000                 0.000000   \nmax       342.000000         11.000000                 0.804813   \n\n       non_repeat_6mers_normalized  \ncount                514622.000000  \nmean                      0.000002  \nstd                       0.000116  \nmin                       0.000000  \n25%                       0.000000  \n50%                       0.000000  \n75%                       0.000000  \nmax                       0.027027  ",
      "text/html": "<div>\n<style scoped>\n    .dataframe tbody tr th:only-of-type {\n        vertical-align: middle;\n    }\n\n    .dataframe tbody tr th {\n        vertical-align: top;\n    }\n\n    .dataframe thead th {\n        text-align: right;\n    }\n</style>\n<table border=\"1\" class=\"dataframe\">\n  <thead>\n    <tr style=\"text-align: right;\">\n      <th></th>\n      <th>repeat_6mers</th>\n      <th>non_repeat_6mers</th>\n      <th>repeat_6mers_normalized</th>\n      <th>non_repeat_6mers_normalized</th>\n    </tr>\n  </thead>\n  <tbody>\n    <tr>\n      <th>count</th>\n      <td>514622.000000</td>\n      <td>514622.000000</td>\n      <td>514622.000000</td>\n      <td>514622.000000</td>\n    </tr>\n    <tr>\n      <th>mean</th>\n      <td>0.515753</td>\n      <td>0.000657</td>\n      <td>0.000958</td>\n      <td>0.000002</td>\n    </tr>\n    <tr>\n      <th>std</th>\n      <td>4.485592</td>\n      <td>0.048485</td>\n      <td>0.008114</td>\n      <td>0.000116</td>\n    </tr>\n    <tr>\n      <th>min</th>\n      <td>0.000000</td>\n      <td>0.000000</td>\n      <td>0.000000</td>\n      <td>0.000000</td>\n    </tr>\n    <tr>\n      <th>25%</th>\n      <td>0.000000</td>\n      <td>0.000000</td>\n      <td>0.000000</td>\n      <td>0.000000</td>\n    </tr>\n    <tr>\n      <th>50%</th>\n      <td>0.000000</td>\n      <td>0.000000</td>\n      <td>0.000000</td>\n      <td>0.000000</td>\n    </tr>\n    <tr>\n      <th>75%</th>\n      <td>0.000000</td>\n      <td>0.000000</td>\n      <td>0.000000</td>\n      <td>0.000000</td>\n    </tr>\n    <tr>\n      <th>max</th>\n      <td>342.000000</td>\n      <td>11.000000</td>\n      <td>0.804813</td>\n      <td>0.027027</td>\n    </tr>\n  </tbody>\n</table>\n</div>"
     },
     "execution_count": 86,
     "metadata": {},
     "output_type": "execute_result"
    }
   ],
   "source": [
    "df[['repeat_6mers', 'non_repeat_6mers', 'repeat_6mers_normalized', 'non_repeat_6mers_normalized']].describe()"
   ],
   "metadata": {
    "collapsed": false,
    "pycharm": {
     "name": "#%%\n"
    }
   }
  },
  {
   "cell_type": "code",
   "execution_count": 87,
   "outputs": [
    {
     "data": {
      "text/plain": "       uniprot_id  seq_len  domain_count  max_pae  min_plddt  mean_plddt  \\\n700        Q75JC9      374           0.0     30.6      34.25     47.5191   \n7896   A0A5S6PEZ3      212           0.0     31.0      34.91     50.0730   \n12594      Q54X59       67           0.0     30.7      43.51     61.8566   \n425        F1M0N4       50           0.0     23.4      84.03     92.5000   \n19179      F1LZG1      136           0.0     27.5      83.22     97.7315   \n\n       median_plddt  ratio_bad_plddt  iupred_auc  repeat_6mers  \\\n700          42.780           0.9332    128.0841         301.0   \n7896         45.700           0.8679     81.5734         168.0   \n12594        59.500           0.8358     59.1413          49.0   \n425          93.400           0.0000     49.8549          36.0   \n19179        98.105           0.0000     42.7958          95.0   \n\n       non_repeat_6mers  repeat_6mers_100  non_repeat_6mers_100 proteome  \\\n700                 0.0             301.0                   0.0    DICDI   \n7896                0.0             168.0                   0.0    BRUMA   \n12594               0.0              49.0                   0.0    DICDI   \n425                 0.0              36.0                   0.0      RAT   \n19179               0.0              95.0                   0.0      RAT   \n\n       repeat_6mers_normalized  non_repeat_6mers_normalized  \n700                   0.804813                          0.0  \n7896                  0.792453                          0.0  \n12594                 0.731343                          0.0  \n425                   0.720000                          0.0  \n19179                 0.698529                          0.0  ",
      "text/html": "<div>\n<style scoped>\n    .dataframe tbody tr th:only-of-type {\n        vertical-align: middle;\n    }\n\n    .dataframe tbody tr th {\n        vertical-align: top;\n    }\n\n    .dataframe thead th {\n        text-align: right;\n    }\n</style>\n<table border=\"1\" class=\"dataframe\">\n  <thead>\n    <tr style=\"text-align: right;\">\n      <th></th>\n      <th>uniprot_id</th>\n      <th>seq_len</th>\n      <th>domain_count</th>\n      <th>max_pae</th>\n      <th>min_plddt</th>\n      <th>mean_plddt</th>\n      <th>median_plddt</th>\n      <th>ratio_bad_plddt</th>\n      <th>iupred_auc</th>\n      <th>repeat_6mers</th>\n      <th>non_repeat_6mers</th>\n      <th>repeat_6mers_100</th>\n      <th>non_repeat_6mers_100</th>\n      <th>proteome</th>\n      <th>repeat_6mers_normalized</th>\n      <th>non_repeat_6mers_normalized</th>\n    </tr>\n  </thead>\n  <tbody>\n    <tr>\n      <th>700</th>\n      <td>Q75JC9</td>\n      <td>374</td>\n      <td>0.0</td>\n      <td>30.6</td>\n      <td>34.25</td>\n      <td>47.5191</td>\n      <td>42.780</td>\n      <td>0.9332</td>\n      <td>128.0841</td>\n      <td>301.0</td>\n      <td>0.0</td>\n      <td>301.0</td>\n      <td>0.0</td>\n      <td>DICDI</td>\n      <td>0.804813</td>\n      <td>0.0</td>\n    </tr>\n    <tr>\n      <th>7896</th>\n      <td>A0A5S6PEZ3</td>\n      <td>212</td>\n      <td>0.0</td>\n      <td>31.0</td>\n      <td>34.91</td>\n      <td>50.0730</td>\n      <td>45.700</td>\n      <td>0.8679</td>\n      <td>81.5734</td>\n      <td>168.0</td>\n      <td>0.0</td>\n      <td>168.0</td>\n      <td>0.0</td>\n      <td>BRUMA</td>\n      <td>0.792453</td>\n      <td>0.0</td>\n    </tr>\n    <tr>\n      <th>12594</th>\n      <td>Q54X59</td>\n      <td>67</td>\n      <td>0.0</td>\n      <td>30.7</td>\n      <td>43.51</td>\n      <td>61.8566</td>\n      <td>59.500</td>\n      <td>0.8358</td>\n      <td>59.1413</td>\n      <td>49.0</td>\n      <td>0.0</td>\n      <td>49.0</td>\n      <td>0.0</td>\n      <td>DICDI</td>\n      <td>0.731343</td>\n      <td>0.0</td>\n    </tr>\n    <tr>\n      <th>425</th>\n      <td>F1M0N4</td>\n      <td>50</td>\n      <td>0.0</td>\n      <td>23.4</td>\n      <td>84.03</td>\n      <td>92.5000</td>\n      <td>93.400</td>\n      <td>0.0000</td>\n      <td>49.8549</td>\n      <td>36.0</td>\n      <td>0.0</td>\n      <td>36.0</td>\n      <td>0.0</td>\n      <td>RAT</td>\n      <td>0.720000</td>\n      <td>0.0</td>\n    </tr>\n    <tr>\n      <th>19179</th>\n      <td>F1LZG1</td>\n      <td>136</td>\n      <td>0.0</td>\n      <td>27.5</td>\n      <td>83.22</td>\n      <td>97.7315</td>\n      <td>98.105</td>\n      <td>0.0000</td>\n      <td>42.7958</td>\n      <td>95.0</td>\n      <td>0.0</td>\n      <td>95.0</td>\n      <td>0.0</td>\n      <td>RAT</td>\n      <td>0.698529</td>\n      <td>0.0</td>\n    </tr>\n  </tbody>\n</table>\n</div>"
     },
     "execution_count": 87,
     "metadata": {},
     "output_type": "execute_result"
    }
   ],
   "source": [
    "df.nlargest(n=5, columns='repeat_6mers_normalized')"
   ],
   "metadata": {
    "collapsed": false,
    "pycharm": {
     "name": "#%%\n"
    }
   }
  },
  {
   "cell_type": "code",
   "execution_count": 88,
   "outputs": [
    {
     "data": {
      "text/plain": "       uniprot_id  seq_len  domain_count  max_pae  min_plddt  mean_plddt  \\\n24816  A0A1D6MKX7       37           0.0     26.9      56.08     79.2957   \n4596   A0A3P7SIJ3      179           1.0     30.6      36.70     65.0034   \n55         P00399      511           0.0     27.7      61.41     96.0937   \n4774       P00397      514           0.0     30.0      48.02     96.1340   \n20897      P05503      514           0.0     28.5      41.64     95.8749   \n\n       median_plddt  ratio_bad_plddt  iupred_auc  repeat_6mers  \\\n24816        79.650           0.1351      0.1259           0.0   \n4596         65.160           0.6816      2.3835           0.0   \n55           97.870           0.0039     11.0424           1.0   \n4774         97.995           0.0117     12.3941           1.0   \n20897        97.950           0.0156     10.0323           1.0   \n\n       non_repeat_6mers  repeat_6mers_100  non_repeat_6mers_100 proteome  \\\n24816               1.0               0.0                   1.0    MAIZE   \n4596                4.0               0.0                   8.0    DRAME   \n55                 11.0               1.0                  83.0    DROME   \n4774               11.0               1.0                  50.0    MOUSE   \n20897              11.0               1.0                  50.0      RAT   \n\n       repeat_6mers_normalized  non_repeat_6mers_normalized  \n24816                 0.000000                     0.027027  \n4596                  0.000000                     0.022346  \n55                    0.001957                     0.021526  \n4774                  0.001946                     0.021401  \n20897                 0.001946                     0.021401  ",
      "text/html": "<div>\n<style scoped>\n    .dataframe tbody tr th:only-of-type {\n        vertical-align: middle;\n    }\n\n    .dataframe tbody tr th {\n        vertical-align: top;\n    }\n\n    .dataframe thead th {\n        text-align: right;\n    }\n</style>\n<table border=\"1\" class=\"dataframe\">\n  <thead>\n    <tr style=\"text-align: right;\">\n      <th></th>\n      <th>uniprot_id</th>\n      <th>seq_len</th>\n      <th>domain_count</th>\n      <th>max_pae</th>\n      <th>min_plddt</th>\n      <th>mean_plddt</th>\n      <th>median_plddt</th>\n      <th>ratio_bad_plddt</th>\n      <th>iupred_auc</th>\n      <th>repeat_6mers</th>\n      <th>non_repeat_6mers</th>\n      <th>repeat_6mers_100</th>\n      <th>non_repeat_6mers_100</th>\n      <th>proteome</th>\n      <th>repeat_6mers_normalized</th>\n      <th>non_repeat_6mers_normalized</th>\n    </tr>\n  </thead>\n  <tbody>\n    <tr>\n      <th>24816</th>\n      <td>A0A1D6MKX7</td>\n      <td>37</td>\n      <td>0.0</td>\n      <td>26.9</td>\n      <td>56.08</td>\n      <td>79.2957</td>\n      <td>79.650</td>\n      <td>0.1351</td>\n      <td>0.1259</td>\n      <td>0.0</td>\n      <td>1.0</td>\n      <td>0.0</td>\n      <td>1.0</td>\n      <td>MAIZE</td>\n      <td>0.000000</td>\n      <td>0.027027</td>\n    </tr>\n    <tr>\n      <th>4596</th>\n      <td>A0A3P7SIJ3</td>\n      <td>179</td>\n      <td>1.0</td>\n      <td>30.6</td>\n      <td>36.70</td>\n      <td>65.0034</td>\n      <td>65.160</td>\n      <td>0.6816</td>\n      <td>2.3835</td>\n      <td>0.0</td>\n      <td>4.0</td>\n      <td>0.0</td>\n      <td>8.0</td>\n      <td>DRAME</td>\n      <td>0.000000</td>\n      <td>0.022346</td>\n    </tr>\n    <tr>\n      <th>55</th>\n      <td>P00399</td>\n      <td>511</td>\n      <td>0.0</td>\n      <td>27.7</td>\n      <td>61.41</td>\n      <td>96.0937</td>\n      <td>97.870</td>\n      <td>0.0039</td>\n      <td>11.0424</td>\n      <td>1.0</td>\n      <td>11.0</td>\n      <td>1.0</td>\n      <td>83.0</td>\n      <td>DROME</td>\n      <td>0.001957</td>\n      <td>0.021526</td>\n    </tr>\n    <tr>\n      <th>4774</th>\n      <td>P00397</td>\n      <td>514</td>\n      <td>0.0</td>\n      <td>30.0</td>\n      <td>48.02</td>\n      <td>96.1340</td>\n      <td>97.995</td>\n      <td>0.0117</td>\n      <td>12.3941</td>\n      <td>1.0</td>\n      <td>11.0</td>\n      <td>1.0</td>\n      <td>50.0</td>\n      <td>MOUSE</td>\n      <td>0.001946</td>\n      <td>0.021401</td>\n    </tr>\n    <tr>\n      <th>20897</th>\n      <td>P05503</td>\n      <td>514</td>\n      <td>0.0</td>\n      <td>28.5</td>\n      <td>41.64</td>\n      <td>95.8749</td>\n      <td>97.950</td>\n      <td>0.0156</td>\n      <td>10.0323</td>\n      <td>1.0</td>\n      <td>11.0</td>\n      <td>1.0</td>\n      <td>50.0</td>\n      <td>RAT</td>\n      <td>0.001946</td>\n      <td>0.021401</td>\n    </tr>\n  </tbody>\n</table>\n</div>"
     },
     "execution_count": 88,
     "metadata": {},
     "output_type": "execute_result"
    }
   ],
   "source": [
    "df.nlargest(n=5, columns='non_repeat_6mers_normalized')"
   ],
   "metadata": {
    "collapsed": false,
    "pycharm": {
     "name": "#%%\n"
    }
   }
  },
  {
   "cell_type": "code",
   "execution_count": 78,
   "outputs": [
    {
     "name": "stderr",
     "output_type": "stream",
     "text": [
      "UsageError: Line magic function `%` not found.\n"
     ]
    }
   ],
   "source": [
    "%matplotlib notebook\n",
    "fig = plt.figure()\n",
    "\n",
    "ax = plt.axes(projection='3d')\n",
    "p = ax.scatter(df['ratio_bad_plddt'], df['median_plddt'], df['mean_plddt'], c=df['repeat_6mers_normalized'],\n",
    "               cmap='viridis')\n",
    "ax.set_xlabel(\"Ratio bad pLDDT\")\n",
    "ax.set_ylabel(\"Median pLDDT\")\n",
    "ax.set_zlabel(\"Mean pLDDT\")\n",
    "fig.colorbar(p, ax=ax)\n",
    "plt.show()"
   ],
   "metadata": {
    "collapsed": false,
    "pycharm": {
     "name": "#%%\n"
    }
   }
  },
  {
   "cell_type": "code",
   "execution_count": 90,
   "outputs": [
    {
     "data": {
      "text/plain": "<Figure size 1008x720 with 2 Axes>",
      "image/png": "[encoded data removed]"
     },
     "metadata": {
      "needs_background": "light"
     },
     "output_type": "display_data"
    }
   ],
   "source": [
    "%matplotlib inline\n",
    "fig, [ax1, ax2] = plt.subplots(nrows=2, figsize=(14, 10))\n",
    "\n",
    "\n",
    "def violin_plot(ax, split_prop, show_prop, ylabel, bucket_step_size, decimals=0):\n",
    "    buckets_indices = np.arange(np.floor(df[split_prop].min()), df[split_prop].max(), bucket_step_size)\n",
    "    buckets = [df[df[split_prop].between(i, i + bucket_step_size, inclusive='left')] for i in buckets_indices]\n",
    "    labels = [f'{np.round(i, decimals=decimals)}-{np.round(i + bucket_step_size, decimals=decimals)}' for i in\n",
    "              buckets_indices]\n",
    "    ax.violinplot(dataset=[bucket[show_prop].values for bucket in buckets], showmedians=True)\n",
    "    ax.yaxis.grid(True)\n",
    "    ax.set_xlabel('Ratio bad pLDDT')\n",
    "    ax.set_ylabel(ylabel)\n",
    "    ax.set_xticks(np.arange(1, len(labels) + 1), labels=labels)\n",
    "\n",
    "\n",
    "violin_plot(ax1, 'ratio_bad_plddt', 'repeat_6mers_normalized', 'Frequency of 20 most freq repeat 6mers', 0.1, decimals=1)\n",
    "violin_plot(ax2, 'ratio_bad_plddt', 'non_repeat_6mers_normalized', 'Frequency of 20 most freq non-repeat 6mers', 0.1, decimals=1)\n",
    "\n",
    "plt.show()"
   ],
   "metadata": {
    "collapsed": false,
    "pycharm": {
     "name": "#%%\n"
    }
   }
  },
  {
   "cell_type": "code",
   "execution_count": 80,
   "outputs": [
    {
     "name": "stdout",
     "output_type": "stream",
     "text": [
      "Spearman rank correlation (Repeat): 0.2111\n",
      "Spearman rank correlation (Non-repeat): -0.0022\n"
     ]
    }
   ],
   "source": [
    "from scipy.stats import spearmanr\n",
    "\n",
    "rho, p = spearmanr(df['ratio_bad_plddt'], df['repeat_6mers_normalized'])\n",
    "print(f'Spearman rank correlation (Repeat): {\"{0:.4f}\".format(rho)}')\n",
    "rho2, p2 = spearmanr(df['ratio_bad_plddt'], df['non_repeat_6mers_normalized'])\n",
    "print(f'Spearman rank correlation (Non-repeat): {\"{0:.4f}\".format(rho2)}')"
   ],
   "metadata": {
    "collapsed": false,
    "pycharm": {
     "name": "#%%\n"
    }
   }
  },
  {
   "cell_type": "code",
   "execution_count": 81,
   "outputs": [],
   "source": [
    "# Looks like there might be some correlation for repeat 6mers that changes at around 0.5\n",
    "df_good_ratio = df[df['ratio_bad_plddt'] < 0.5]\n",
    "df_bad_ratio = df[df['ratio_bad_plddt'] >= 0.5]"
   ],
   "metadata": {
    "collapsed": false,
    "pycharm": {
     "name": "#%%\n"
    }
   }
  },
  {
   "cell_type": "code",
   "execution_count": 82,
   "outputs": [
    {
     "name": "stdout",
     "output_type": "stream",
     "text": [
      "Spearman rank correlation (Good, repeat): 0.1889\n",
      "Spearman rank correlation (Bad, repeat): -0.0724\n"
     ]
    }
   ],
   "source": [
    "rho_good, _ = spearmanr(df_good_ratio['ratio_bad_plddt'], df_good_ratio['repeat_6mers_normalized'])\n",
    "rho_bad, _ = spearmanr(df_bad_ratio['ratio_bad_plddt'], df_bad_ratio['repeat_6mers_normalized'])\n",
    "print(f'Spearman rank correlation (Good, repeat): {\"{0:.4f}\".format(rho_good)}')\n",
    "print(f'Spearman rank correlation (Bad, repeat): {\"{0:.4f}\".format(rho_bad)}')"
   ],
   "metadata": {
    "collapsed": false,
    "pycharm": {
     "name": "#%%\n"
    }
   }
  },
  {
   "cell_type": "code",
   "execution_count": 5,
   "outputs": [
    {
     "data": {
      "text/plain": "      uniprot_id  seq_len  domain_count  max_pae  min_plddt  mean_plddt  \\\n20522     E9PWP7      378           1.0     31.4      40.86     84.6046   \n\n       median_plddt  ratio_bad_plddt  iupred_auc  repeat_6mers  \\\n20522        89.955           0.1534   2730.6999           0.0   \n\n       non_repeat_6mers  repeat_6mers_100  non_repeat_6mers_100 proteome  \n20522               0.0               0.0                   0.0    MOUSE  ",
      "text/html": "<div>\n<style scoped>\n    .dataframe tbody tr th:only-of-type {\n        vertical-align: middle;\n    }\n\n    .dataframe tbody tr th {\n        vertical-align: top;\n    }\n\n    .dataframe thead th {\n        text-align: right;\n    }\n</style>\n<table border=\"1\" class=\"dataframe\">\n  <thead>\n    <tr style=\"text-align: right;\">\n      <th></th>\n      <th>uniprot_id</th>\n      <th>seq_len</th>\n      <th>domain_count</th>\n      <th>max_pae</th>\n      <th>min_plddt</th>\n      <th>mean_plddt</th>\n      <th>median_plddt</th>\n      <th>ratio_bad_plddt</th>\n      <th>iupred_auc</th>\n      <th>repeat_6mers</th>\n      <th>non_repeat_6mers</th>\n      <th>repeat_6mers_100</th>\n      <th>non_repeat_6mers_100</th>\n      <th>proteome</th>\n    </tr>\n  </thead>\n  <tbody>\n    <tr>\n      <th>20522</th>\n      <td>E9PWP7</td>\n      <td>378</td>\n      <td>1.0</td>\n      <td>31.4</td>\n      <td>40.86</td>\n      <td>84.6046</td>\n      <td>89.955</td>\n      <td>0.1534</td>\n      <td>2730.6999</td>\n      <td>0.0</td>\n      <td>0.0</td>\n      <td>0.0</td>\n      <td>0.0</td>\n      <td>MOUSE</td>\n    </tr>\n  </tbody>\n</table>\n</div>"
     },
     "execution_count": 5,
     "metadata": {},
     "output_type": "execute_result"
    }
   ],
   "source": [
    "df[df['uniprot_id'] == 'E9PWP7']"
   ],
   "metadata": {
    "collapsed": false,
    "pycharm": {
     "name": "#%%\n"
    }
   }
  },
  {
   "cell_type": "markdown",
   "source": [
    "### Outlier: Going from kmer to motif\n",
    "We did find sequences where IUPRED predicts very high disorder but no kmers were found. We might have to extend to motifs using [MAST](https://meme-suite.org/).\n",
    "\n",
    "`T(\\s)?(T|S)(\\s)?(T|I)`"
   ],
   "metadata": {
    "collapsed": false,
    "pycharm": {
     "name": "#%% md\n"
    }
   }
  },
  {
   "cell_type": "code",
   "execution_count": 34,
   "outputs": [],
   "source": [
    "full_seq = \"\"\">tr|E9PWP7|E9PWP7_MOUSE Mucin 3, intestinal OS=Mus musculus OX=10090 GN=Muc3 PE=1 SV=4\n",
    "MSTRRWVRQTAALCLLAFILHSLPRHIAAENGTTESGSVWDGGGNSTQDDSQETQFRTVLKTKTTDGENSEAWPRQEYQQRSSSPSTTKAEVTTTADVTTTADVTTTAEITTTSDVTTTA\n",
    "EITNTDDVTTTGEVTTTADVTTTSDVPTTSEVTSTDDVITTAEVTTTAEMTPTDDVTTTSEVTTTGDVTTTGDVTITGDLTTTADVTTKADFTTTDDVTTTADGSTTADLTTTAKVTTTD\n",
    "DVTTTGEITTTSEITTTSDVTTTAEITTTDIVTTTGEVTTTADVTTTSDVTTTSEETPTADITTTADLTTTAEVTTTDDVTTTVEITTTSEITTTSDVTTIAEITTTDIVTTTGEVTTTA\n",
    "DVTTTSDVTTTSEETTTADITTTADLTTTAEITTTDDVTTTVEITTTSDVTTTTEITTTDIVTTTGEVTTTADVTTASDVTTTSEETPTADITTTADLTTTAEVTTTDDVTTTGEVTTTA\n",
    "DVTTTSDVTTTSEETTTADVTTTSDVTTTAEITTTDDITSTADVTTTADVTTTSDVPTTSEETTTADVTTTSDVTTTAEITTTDDITSTADVTTTADVTTTSDVTTTTEENPTADITTTA\n",
    "DLTTTAEVTTTDDVTTTVEITTTSEITTTSDVTTTAEITTTDIVTTTDEDTTTADVTTTSDVTTTSEETPTADITTTADLTTTADVTTTSDVTTTSEETTTADVTTTSDVTTTAEITTTD\n",
    "DITSTADVTTTTNVTTTSDVPTTSEVTSTDDVITTTEVTTTAEIIPTDDVTTTSEVTTTGDVTTTGDVTMTGDLTTTADVTTTADLTTTDEVTTTADGSTTADLTTTAEVTTTDDVTTTV\n",
    "QITTTSEITTTSDVTTTAEITTTDNVTTTGEVTTTADVTTTSDVTTTSEETPTADITTTADLNTTAEVTTTEDVTTTVEITTTSEITTTSDITTTAEITTTDIVTTTGEVTTTADVTTTN\n",
    "DVTTTSEETPTADITTTADLTTTAEITTTDDITSTADVTTTTDVTTTSDVPTTSEVTSTDDVITTTEVTTTAEIIPTDDVTTTSEVTTTGDVTTTGDVTMTGDLTTTADVTTTADLTTTD\n",
    "EVTTTADGSTTADLTTTAEVTTTDDVTTTVQITTTSEITTTSDVTTTAEITTTDNVTTTGEVTTTADVTTTSDVTTTSEETPTADITTTADLTTTAEVTTTEDVTTTVEITTTSEITTTS\n",
    "DITTTAEITTTDIVTTTGEVTTTADVTTTNDVTTTSEETPTADITTTADLTTTAEITTTDDVTTTGEVTTTADVTTTSDVTTTSEETPTADITTTADLTTTAEITTTDDVTTTGEVTTTA\n",
    "DVTTTSDITTTSEETPTADITTTADLTTTAEVTTTDDVTTTGEVTTTADVTTTSDITTTSEETPTADITTTADLTTTAEVTTTDDVTTTVEITTTSEITTTSDVTTTAEITTTDIVTTTG\n",
    "EVTTTADVTTTSDVTTTSEQTPTADITTTADLTTTAEVTTTDDVTTTVEITTTSEITTTSDVTTTAEITTTDIVTTTGEVTTTADITTTSDVTTTSEETTTADVTTTTDVTTTSEETTTG\n",
    "DGKTTTAEITTTDDITTTADVTTTPDVTTTAAVTTTGEITPTDDVTTTSEVTTTGDVTSTGDVTTTGEVTTTAEVTTTADVTTTSDVTTTSEETPTADITTTADLTTTAEVTTTDDVTTT\n",
    "GEVTTTADVTTTSDTTTTSEETPTADITTTVDLTTTAEVTTTDDVTTTVEITTTSEITTTSDVTTTAEITTSDIFTTTGEVTTTADITTTSDVTTTSEETPTADITTTADLTTTAEITTT\n",
    "DDVTTTVEITTTSEITTTSEVTTTPDVTTTSDVTTTSEETPTADITTTADLTTTAEVTTTDDVTTTVEITTTSEITTTSDVTTTAEITTTDIVTTTGEVTTTVDVTTTNDVTTTSEETPT\n",
    "ADITTTADLTTTAEVTTTDDVTTTGEVTTTADVTTTSDITTTSEETPTADITTTVDLTTTVEITTTSEITTTSDVTTTAEITTTDIVTTTGEVTTTADVTTTSDVTTTSEETPTADITTT\n",
    "ADLTTTAEVTTTDDVTTTVEITTTSEITTTSDVTTTAEITTTDIVTTSGEVTTTADVTTTSDVTTTSEETTTADVTTTTDVTTTSEETTTGDGTTTTAEITTTDDLTTTADVTTTPDVTT\n",
    "TAAVTTTAEITPTDDVTTTSEVTTTGDVTTTGEVTTTAEVTTTDDVTTTGDVTTTGDLTTMADVTTTADFTTTDDVTTTADASTTADLATTAEVTTTDDVTTTVEITTTAEITTTAEVTT\n",
    "TDDVTTTGEVTTTADVTTTTDVTTTSEVTTTADVTTTNDVTTTAEITTTDDITTTADVTTTADVTTTSYVPTTSEVTSTDDVTTTAEVTTTAEITPTDDVTTTSEVTTTGDVTTTGDVTM\n",
    "TCDLTTSADVTTTADFTTTDDVTTKADGSTTADLTTTAEVTTNDDVTTTGELTTTAEITTTSDVTTTAEITTTDIVTTTGEVTTTADVTTTSDVTTTSEETTTADITTTADLTTTAEVTT\n",
    "TDDVTTTVEITTTSEITTTSDVTTIAEITTTDIVTTTGEVTTTADVTTTNDVTTTSEETPTADITTTADLTTTAEVTTTDDVTTTGEVTTTADVTTTSDVTTTSEETPTADITTTADLTT\n",
    "TAEVTTTDDVTTTVEITTTSEITTTSDVTTTAEITTTDIVTTTGEVTTTADITTTSDVTTTSEETTTADVTTTTDVTTTSEETTTGDGKTTTAEITTTDDITTTADVTTTPDVTTTAAVT\n",
    "TTGEITPTDDVTTTSEVTTTGDVTTTGDVTTTGEVTTTAEVTTTDDVTTTGDVTTTGDLTTTADVTTTAYFTTTDDVTTTADGSTTADLTTTAEVTTTDDVTTTVEITTTAEITTTDDVT\n",
    "TTGEVTTTADVTTTSDVTTTSEETPTADITTTADLTTTAEVTTTDDVTTTVEITTTSEITTTSDVTTTAEITTTDIVTTTGEVTTTADVTTTSDVTTTSEETPTADITTTADLTTTAEVT\n",
    "TTDDVTTTVEITTTSEITTTSDVTTTAEITTTDIVTTTGEVTTTADVTTTSDVTTTSEETPTADITTTADLTTTAEVTTTDDVTTTVEITTTAEITTTDDVTTTGEVTTTADVTTTAEVI\n",
    "TTSDVTTTADVTTMPDFTTTAEVTTTLDVTTNDEVTTTSVVTTTPEITTAGDVTTTSEVTTSADLTTTPEITTTGDVTTTADVTTTADITTTSDVTTTADVTTTADITTTSDVTTTADVT\n",
    "TIADLSTTPEITTTGDFSSTTDVTSTGDVTTTADVTTTADVTTTGDVTTTAEVTTTAEVTTTAEATTTADLNTTPEITTTDDVTTTGDVTITAEVTTTAYVTTTTDFTTTAEVNTTDDVT\n",
    "TIADLTTTAEVTTTNDVTSTAEITTTADLTTTTEVTTTADFITTGDVTTTADVTTMADVTTTADVTTADLTTTVDVTTMDDVTTTAEVITSGDVTTTSEVTTTSNLNTTPEITTTIDFTS\n",
    "TVDVTTTGDVTTTADVTTTSDVTTTSKVTTTGDVTTTADTTSTADVTTTADVITTAEVTTTADFTNTGDVTTSADVTTTADLTTMPDLTTTAEVTTTADVTTTSEFTTTADVTTTADVTS\n",
    "TADVTTTAEVTTTGDVTTTADVTNTGDITTIGDVTTTTEITTTAYLTTTLEITTTGEVTSTADVTTSAEVTTTDEITTTDVVTTTGDVTPTAESTTTDDVTTTSDVTTTGDFTTTADVTT\n",
    "TAYVTTTPDVTTTVEVTTTADFTTTGVVNTTADVTTTADVTTTSEVTTTADLTTTPEITTTVDFTSTADVTTTADVITTPEVTTTSDVTTTAEVITTADVTTTADVTTTVEVTTTGDVTI\n",
    "TADVTTTPEITTTVDFTSTADVTITADVTTTADVTTTSDVTITPDVTTTAEVTTTVEITTTDDVTTTGEVTTTADVTTTSDVTTTSEETTTADITTTSDVSTTSEVTTTAYVTTTADTTS\n",
    "TAEVTTTADVTTTADVTTTADVTTTADVTTTVEVTTTGDVTTTADVTTTAEVTTTAEITTTGDVTTTADVTTTAEVTTTAEITTTGDVTTTADVTTTADVTTTADVTTTIDVTTTADVTT\n",
    "SAEVTTTADVTTTTEVTTTTEVATTPEPTTTPAPTTTAVNCMNGGFWTGDKCICPNGFGGDRCENIVNVVNCENGGTWDGLKCQCTSLFYGPRCEELVESVEIEPTVAASVEVSVTVTSQ\n",
    "EYSEKLQDRKSEEFSNFNKTFTKQMALIYAGIPEYEGVIIKNLSKGSIVVDYDVILKAKYTPGFENTLDTVVKNLETKIKNATEVQVQDVNNNCSALLCFNSTATKVQNSATVSVNPEET\n",
    "CKKEAGEDFAKFVTLGQKGDKWFCITPCSAGYSTSKNCSYGKCQLQRSGPQCLCLITDTHWYSGENCDWGIQKSLVYGLGGAGVAVLLVILVILLVFSIRFRKDAQRQRSRVSEMYKWGE\n",
    "EEGRASPGTFHNFGFDHNEERENYMPLDSVYNTFQPSLNHINPERKIQIQRPQVVMTSL\"\"\"\n",
    "seq = ''\n",
    "for _line in full_seq.split('\\n'):\n",
    "    if _line.startswith(\">\"):\n",
    "        continue\n",
    "    seq += _line.strip()"
   ],
   "metadata": {
    "collapsed": false,
    "pycharm": {
     "name": "#%%\n"
    }
   }
  }
 ],
 "metadata": {
  "kernelspec": {
   "display_name": "Python 3",
   "language": "python",
   "name": "python3"
  },
  "language_info": {
   "codemirror_mode": {
    "name": "ipython",
    "version": 2
   },
   "file_extension": ".py",
   "mimetype": "text/x-python",
   "name": "python",
   "nbconvert_exporter": "python",
   "pygments_lexer": "ipython2",
   "version": "2.7.6"
  }
 },
 "nbformat": 4,
 "nbformat_minor": 0
}