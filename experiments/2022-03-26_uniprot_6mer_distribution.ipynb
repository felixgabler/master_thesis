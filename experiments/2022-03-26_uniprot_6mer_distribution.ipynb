{
 "cells": [
  {
   "cell_type": "markdown",
   "metadata": {
    "collapsed": true,
    "pycharm": {
     "name": "#%% md\n"
    }
   },
   "source": [
    "# Calculate kmer distribution for all sequences in UniProt\n",
    "Can be used downstream as a potential marker for randomness"
   ]
  },
  {
   "cell_type": "code",
   "execution_count": 1,
   "outputs": [],
   "source": [
    "import re\n",
    "import time\n",
    "\n",
    "import pandas as pd\n",
    "import numpy as np\n",
    "import matplotlib.pyplot as plt\n",
    "\n",
    "from collections import Counter\n",
    "from tqdm.auto import tqdm\n",
    "from pqdm.threads import pqdm"
   ],
   "metadata": {
    "collapsed": false,
    "pycharm": {
     "name": "#%%\n"
    }
   }
  },
  {
   "cell_type": "code",
   "execution_count": 21,
   "outputs": [],
   "source": [
    "def count_kmers_for_sequence(counter: Counter, seq: str, k: int):\n",
    "    n_kmers = len(seq) - k + 1\n",
    "    for i in range(n_kmers):\n",
    "        kmer = seq[i:i + k]\n",
    "        counter[kmer] += 1\n",
    "\n",
    "\n",
    "def load_kmer_counts_for_file(fasta_file: str, result_file: str, k=6):\n",
    "    kmer_counts = Counter()\n",
    "    with open(fasta_file) as f:\n",
    "        _seq_parts = list()\n",
    "        for line in f:\n",
    "            if line.startswith('>'):\n",
    "                if len(_seq_parts) > 0:\n",
    "                    count_kmers_for_sequence(kmer_counts, ''.join(_seq_parts), k)\n",
    "                _seq_parts.clear()\n",
    "                continue\n",
    "            _seq_parts.append(line.rstrip())\n",
    "        count_kmers_for_sequence(kmer_counts, ''.join(_seq_parts), k)\n",
    "\n",
    "    df = pd.DataFrame(data=kmer_counts.most_common(n=1000), columns=['kmer', 'count'])\n",
    "    df.to_csv(result_file, index=False)"
   ],
   "metadata": {
    "collapsed": false,
    "pycharm": {
     "name": "#%%\n"
    }
   }
  },
  {
   "cell_type": "code",
   "execution_count": 26,
   "outputs": [
    {
     "name": "stdout",
     "output_type": "stream",
     "text": [
      "1min 33s ± 2.4 s per loop (mean ± std. dev. of 7 runs, 1 loop each)\n",
      "Processed the sequences in 87.8458 seconds\n"
     ]
    }
   ],
   "source": [
    "tic = time.perf_counter()\n",
    "load_kmer_counts_for_file('../data/sprot/uniprot_sprot.fasta', result_file='../data/sprot/kmer_counts.csv')\n",
    "toc = time.perf_counter()\n",
    "print(f\"Processed the sequences in {toc - tic:0.4f} seconds\")"
   ],
   "metadata": {
    "collapsed": false,
    "pycharm": {
     "name": "#%%\n"
    }
   }
  },
  {
   "cell_type": "code",
   "execution_count": 2,
   "outputs": [],
   "source": [
    "df_counts = pd.read_csv('../data/uniprot/trembl_kmer_counts.csv', index_col=None).sort_values('count', ascending=False)\n",
    "df_counts = df_counts[df_counts['kmer'] != 'XXXXXX']"
   ],
   "metadata": {
    "collapsed": false,
    "pycharm": {
     "name": "#%%\n"
    }
   }
  },
  {
   "cell_type": "code",
   "execution_count": 25,
   "outputs": [
    {
     "data": {
      "text/plain": "<Figure size 432x288 with 1 Axes>",
      "image/png": "[encoded data removed]"
     },
     "metadata": {
      "needs_background": "light"
     },
     "output_type": "display_data"
    }
   ],
   "source": [
    "nkmers = 20\n",
    "fig, ax = plt.subplots()\n",
    "ax.bar(df_counts['kmer'][:nkmers], df_counts['count'][:nkmers])\n",
    "ax.set_title(f'Most frequent 6mers in UniProt')\n",
    "ax.tick_params(labelrotation=90)\n",
    "plt.show()"
   ],
   "metadata": {
    "collapsed": false,
    "pycharm": {
     "name": "#%%\n"
    }
   }
  },
  {
   "cell_type": "code",
   "execution_count": 3,
   "outputs": [],
   "source": [
    "def check_repeat(kmer: str, min_len=5):\n",
    "    return any(all(c == kmer[start] for c in kmer[start + 1:start + min_len]) for start in range(len(kmer) - min_len))\n",
    "\n",
    "\n",
    "most_freq_kmers = df_counts['kmer'][:2000].values\n",
    "repeats = []\n",
    "non_repeats = []\n",
    "for kmer in most_freq_kmers:\n",
    "    if check_repeat(kmer):\n",
    "        repeats.append(kmer)\n",
    "    else:\n",
    "        non_repeats.append(kmer)"
   ],
   "metadata": {
    "collapsed": false,
    "pycharm": {
     "name": "#%%\n"
    }
   }
  },
  {
   "cell_type": "code",
   "execution_count": 4,
   "outputs": [
    {
     "data": {
      "text/plain": "(68, 1932)"
     },
     "execution_count": 4,
     "metadata": {},
     "output_type": "execute_result"
    }
   ],
   "source": [
    "len(repeats), len(non_repeats)"
   ],
   "metadata": {
    "collapsed": false,
    "pycharm": {
     "name": "#%%\n"
    }
   }
  },
  {
   "cell_type": "code",
   "execution_count": 5,
   "outputs": [],
   "source": [
    "repeat_regex = '|'.join(repeats)\n",
    "non_repeat_regex = '|'.join(non_repeats)"
   ],
   "metadata": {
    "collapsed": false,
    "pycharm": {
     "name": "#%%\n"
    }
   }
  },
  {
   "cell_type": "code",
   "execution_count": 6,
   "outputs": [],
   "source": [
    "full_seq = \"\"\">tr|E9PWP7|E9PWP7_MOUSE Mucin 3, intestinal OS=Mus musculus OX=10090 GN=Muc3 PE=1 SV=4\n",
    "MSTRRWVRQTAALCLLAFILHSLPRHIAAENGTTESGSVWDGGGNSTQDDSQETQFRTVLKTKTTDGENSEAWPRQEYQQRSSSPSTTKAEVTTTADVTTTADVTTTAEITTTSDVTTTA\n",
    "EITNTDDVTTTGEVTTTADVTTTSDVPTTSEVTSTDDVITTAEVTTTAEMTPTDDVTTTSEVTTTGDVTTTGDVTITGDLTTTADVTTKADFTTTDDVTTTADGSTTADLTTTAKVTTTD\n",
    "DVTTTGEITTTSEITTTSDVTTTAEITTTDIVTTTGEVTTTADVTTTSDVTTTSEETPTADITTTADLTTTAEVTTTDDVTTTVEITTTSEITTTSDVTTIAEITTTDIVTTTGEVTTTA\n",
    "DVTTTSDVTTTSEETTTADITTTADLTTTAEITTTDDVTTTVEITTTSDVTTTTEITTTDIVTTTGEVTTTADVTTASDVTTTSEETPTADITTTADLTTTAEVTTTDDVTTTGEVTTTA\n",
    "DVTTTSDVTTTSEETTTADVTTTSDVTTTAEITTTDDITSTADVTTTADVTTTSDVPTTSEETTTADVTTTSDVTTTAEITTTDDITSTADVTTTADVTTTSDVTTTTEENPTADITTTA\n",
    "DLTTTAEVTTTDDVTTTVEITTTSEITTTSDVTTTAEITTTDIVTTTDEDTTTADVTTTSDVTTTSEETPTADITTTADLTTTADVTTTSDVTTTSEETTTADVTTTSDVTTTAEITTTD\n",
    "DITSTADVTTTTNVTTTSDVPTTSEVTSTDDVITTTEVTTTAEIIPTDDVTTTSEVTTTGDVTTTGDVTMTGDLTTTADVTTTADLTTTDEVTTTADGSTTADLTTTAEVTTTDDVTTTV\n",
    "QITTTSEITTTSDVTTTAEITTTDNVTTTGEVTTTADVTTTSDVTTTSEETPTADITTTADLNTTAEVTTTEDVTTTVEITTTSEITTTSDITTTAEITTTDIVTTTGEVTTTADVTTTN\n",
    "DVTTTSEETPTADITTTADLTTTAEITTTDDITSTADVTTTTDVTTTSDVPTTSEVTSTDDVITTTEVTTTAEIIPTDDVTTTSEVTTTGDVTTTGDVTMTGDLTTTADVTTTADLTTTD\n",
    "EVTTTADGSTTADLTTTAEVTTTDDVTTTVQITTTSEITTTSDVTTTAEITTTDNVTTTGEVTTTADVTTTSDVTTTSEETPTADITTTADLTTTAEVTTTEDVTTTVEITTTSEITTTS\n",
    "DITTTAEITTTDIVTTTGEVTTTADVTTTNDVTTTSEETPTADITTTADLTTTAEITTTDDVTTTGEVTTTADVTTTSDVTTTSEETPTADITTTADLTTTAEITTTDDVTTTGEVTTTA\n",
    "DVTTTSDITTTSEETPTADITTTADLTTTAEVTTTDDVTTTGEVTTTADVTTTSDITTTSEETPTADITTTADLTTTAEVTTTDDVTTTVEITTTSEITTTSDVTTTAEITTTDIVTTTG\n",
    "EVTTTADVTTTSDVTTTSEQTPTADITTTADLTTTAEVTTTDDVTTTVEITTTSEITTTSDVTTTAEITTTDIVTTTGEVTTTADITTTSDVTTTSEETTTADVTTTTDVTTTSEETTTG\n",
    "DGKTTTAEITTTDDITTTADVTTTPDVTTTAAVTTTGEITPTDDVTTTSEVTTTGDVTSTGDVTTTGEVTTTAEVTTTADVTTTSDVTTTSEETPTADITTTADLTTTAEVTTTDDVTTT\n",
    "GEVTTTADVTTTSDTTTTSEETPTADITTTVDLTTTAEVTTTDDVTTTVEITTTSEITTTSDVTTTAEITTSDIFTTTGEVTTTADITTTSDVTTTSEETPTADITTTADLTTTAEITTT\n",
    "DDVTTTVEITTTSEITTTSEVTTTPDVTTTSDVTTTSEETPTADITTTADLTTTAEVTTTDDVTTTVEITTTSEITTTSDVTTTAEITTTDIVTTTGEVTTTVDVTTTNDVTTTSEETPT\n",
    "ADITTTADLTTTAEVTTTDDVTTTGEVTTTADVTTTSDITTTSEETPTADITTTVDLTTTVEITTTSEITTTSDVTTTAEITTTDIVTTTGEVTTTADVTTTSDVTTTSEETPTADITTT\n",
    "ADLTTTAEVTTTDDVTTTVEITTTSEITTTSDVTTTAEITTTDIVTTSGEVTTTADVTTTSDVTTTSEETTTADVTTTTDVTTTSEETTTGDGTTTTAEITTTDDLTTTADVTTTPDVTT\n",
    "TAAVTTTAEITPTDDVTTTSEVTTTGDVTTTGEVTTTAEVTTTDDVTTTGDVTTTGDLTTMADVTTTADFTTTDDVTTTADASTTADLATTAEVTTTDDVTTTVEITTTAEITTTAEVTT\n",
    "TDDVTTTGEVTTTADVTTTTDVTTTSEVTTTADVTTTNDVTTTAEITTTDDITTTADVTTTADVTTTSYVPTTSEVTSTDDVTTTAEVTTTAEITPTDDVTTTSEVTTTGDVTTTGDVTM\n",
    "TCDLTTSADVTTTADFTTTDDVTTKADGSTTADLTTTAEVTTNDDVTTTGELTTTAEITTTSDVTTTAEITTTDIVTTTGEVTTTADVTTTSDVTTTSEETTTADITTTADLTTTAEVTT\n",
    "TDDVTTTVEITTTSEITTTSDVTTIAEITTTDIVTTTGEVTTTADVTTTNDVTTTSEETPTADITTTADLTTTAEVTTTDDVTTTGEVTTTADVTTTSDVTTTSEETPTADITTTADLTT\n",
    "TAEVTTTDDVTTTVEITTTSEITTTSDVTTTAEITTTDIVTTTGEVTTTADITTTSDVTTTSEETTTADVTTTTDVTTTSEETTTGDGKTTTAEITTTDDITTTADVTTTPDVTTTAAVT\n",
    "TTGEITPTDDVTTTSEVTTTGDVTTTGDVTTTGEVTTTAEVTTTDDVTTTGDVTTTGDLTTTADVTTTAYFTTTDDVTTTADGSTTADLTTTAEVTTTDDVTTTVEITTTAEITTTDDVT\n",
    "TTGEVTTTADVTTTSDVTTTSEETPTADITTTADLTTTAEVTTTDDVTTTVEITTTSEITTTSDVTTTAEITTTDIVTTTGEVTTTADVTTTSDVTTTSEETPTADITTTADLTTTAEVT\n",
    "TTDDVTTTVEITTTSEITTTSDVTTTAEITTTDIVTTTGEVTTTADVTTTSDVTTTSEETPTADITTTADLTTTAEVTTTDDVTTTVEITTTAEITTTDDVTTTGEVTTTADVTTTAEVI\n",
    "TTSDVTTTADVTTMPDFTTTAEVTTTLDVTTNDEVTTTSVVTTTPEITTAGDVTTTSEVTTSADLTTTPEITTTGDVTTTADVTTTADITTTSDVTTTADVTTTADITTTSDVTTTADVT\n",
    "TIADLSTTPEITTTGDFSSTTDVTSTGDVTTTADVTTTADVTTTGDVTTTAEVTTTAEVTTTAEATTTADLNTTPEITTTDDVTTTGDVTITAEVTTTAYVTTTTDFTTTAEVNTTDDVT\n",
    "TIADLTTTAEVTTTNDVTSTAEITTTADLTTTTEVTTTADFITTGDVTTTADVTTMADVTTTADVTTADLTTTVDVTTMDDVTTTAEVITSGDVTTTSEVTTTSNLNTTPEITTTIDFTS\n",
    "TVDVTTTGDVTTTADVTTTSDVTTTSKVTTTGDVTTTADTTSTADVTTTADVITTAEVTTTADFTNTGDVTTSADVTTTADLTTMPDLTTTAEVTTTADVTTTSEFTTTADVTTTADVTS\n",
    "TADVTTTAEVTTTGDVTTTADVTNTGDITTIGDVTTTTEITTTAYLTTTLEITTTGEVTSTADVTTSAEVTTTDEITTTDVVTTTGDVTPTAESTTTDDVTTTSDVTTTGDFTTTADVTT\n",
    "TAYVTTTPDVTTTVEVTTTADFTTTGVVNTTADVTTTADVTTTSEVTTTADLTTTPEITTTVDFTSTADVTTTADVITTPEVTTTSDVTTTAEVITTADVTTTADVTTTVEVTTTGDVTI\n",
    "TADVTTTPEITTTVDFTSTADVTITADVTTTADVTTTSDVTITPDVTTTAEVTTTVEITTTDDVTTTGEVTTTADVTTTSDVTTTSEETTTADITTTSDVSTTSEVTTTAYVTTTADTTS\n",
    "TAEVTTTADVTTTADVTTTADVTTTADVTTTVEVTTTGDVTTTADVTTTAEVTTTAEITTTGDVTTTADVTTTAEVTTTAEITTTGDVTTTADVTTTADVTTTADVTTTIDVTTTADVTT\n",
    "SAEVTTTADVTTTTEVTTTTEVATTPEPTTTPAPTTTAVNCMNGGFWTGDKCICPNGFGGDRCENIVNVVNCENGGTWDGLKCQCTSLFYGPRCEELVESVEIEPTVAASVEVSVTVTSQ\n",
    "EYSEKLQDRKSEEFSNFNKTFTKQMALIYAGIPEYEGVIIKNLSKGSIVVDYDVILKAKYTPGFENTLDTVVKNLETKIKNATEVQVQDVNNNCSALLCFNSTATKVQNSATVSVNPEET\n",
    "CKKEAGEDFAKFVTLGQKGDKWFCITPCSAGYSTSKNCSYGKCQLQRSGPQCLCLITDTHWYSGENCDWGIQKSLVYGLGGAGVAVLLVILVILLVFSIRFRKDAQRQRSRVSEMYKWGE\n",
    "EEGRASPGTFHNFGFDHNEERENYMPLDSVYNTFQPSLNHINPERKIQIQRPQVVMTSL\"\"\"\n",
    "seq = ''\n",
    "for _line in full_seq.split('\\n'):\n",
    "    if _line.startswith(\">\"):\n",
    "        continue\n",
    "    seq += _line.strip()"
   ],
   "metadata": {
    "collapsed": false,
    "pycharm": {
     "name": "#%%\n"
    }
   }
  },
  {
   "cell_type": "code",
   "execution_count": 7,
   "outputs": [],
   "source": [
    "def count_6mers_counter(seq: str, k=6):\n",
    "    counter = Counter()\n",
    "    n_kmers = len(seq) - k + 1\n",
    "    for i in range(n_kmers):\n",
    "        kmer = seq[i:i + k]\n",
    "        counter[kmer] += 1\n",
    "    return sum([counter[repeat] for repeat in repeats]), sum([counter[non_repeat] for non_repeat in non_repeats])\n",
    "\n",
    "\n",
    "def count_6mers_regex(seq: str):\n",
    "    return sum(1 for _ in re.finditer(f'(?=({repeat_regex}))', seq)), sum(\n",
    "        1 for _ in re.finditer(f'(?=({non_repeat_regex}))', seq))"
   ],
   "metadata": {
    "collapsed": false,
    "pycharm": {
     "name": "#%%\n"
    }
   }
  },
  {
   "cell_type": "code",
   "execution_count": 8,
   "outputs": [
    {
     "name": "stdout",
     "output_type": "stream",
     "text": [
      "1.02 ms ± 8.03 µs per loop (mean ± std. dev. of 7 runs, 1,000 loops each)\n"
     ]
    }
   ],
   "source": [
    "%%timeit\n",
    "count_6mers_counter(seq)"
   ],
   "metadata": {
    "collapsed": false,
    "pycharm": {
     "name": "#%%\n"
    }
   }
  },
  {
   "cell_type": "code",
   "execution_count": 10,
   "outputs": [
    {
     "name": "stdout",
     "output_type": "stream",
     "text": [
      "26 ms ± 290 µs per loop (mean ± std. dev. of 7 runs, 10 loops each)\n"
     ]
    }
   ],
   "source": [
    "%%timeit\n",
    "count_6mers_regex(seq)"
   ],
   "metadata": {
    "collapsed": false,
    "pycharm": {
     "name": "#%%\n"
    }
   }
  },
  {
   "cell_type": "markdown",
   "source": [
    "### Plot kmer frequency"
   ],
   "metadata": {
    "collapsed": false,
    "pycharm": {
     "name": "#%% md\n"
    }
   }
  },
  {
   "cell_type": "code",
   "execution_count": 2,
   "outputs": [],
   "source": [
    "import glob\n",
    "import matplotlib.pyplot as plt"
   ],
   "metadata": {
    "collapsed": false,
    "pycharm": {
     "name": "#%%\n"
    }
   }
  },
  {
   "cell_type": "code",
   "execution_count": 17,
   "outputs": [],
   "source": [
    "dfs = []\n",
    "for proteome_file in glob.glob('../data/alphafold/v2/AA_scores/*.csv'):\n",
    "    proteome = re.search(r\"/([A-Z0-9]+).csv\", proteome_file).group(1)\n",
    "    proteome_df = pd.read_csv(proteome_file, index_col=0)\n",
    "    proteome_df['proteome'] = proteome\n",
    "    dfs.append(proteome_df)\n",
    "df = pd.concat(dfs)"
   ],
   "metadata": {
    "collapsed": false,
    "pycharm": {
     "name": "#%%\n"
    }
   }
  },
  {
   "cell_type": "code",
   "execution_count": 18,
   "outputs": [
    {
     "data": {
      "text/plain": "             seq_len  domain_count        max_pae      min_plddt  \\\ncount  545555.000000  545555.00000  542051.000000  545555.000000   \nmean      458.873356       1.11808      30.845778      33.727809   \nstd       880.781186      12.27124       1.455963      11.363737   \nmin        16.000000       0.00000       6.000000       1.390000   \n25%       186.000000       0.00000      30.900000      25.620000   \n50%       333.000000       0.00000      31.300000      31.180000   \n75%       538.000000       1.00000      31.400000      38.590000   \nmax     32200.000000     285.00000      31.700000      97.030000   \n\n          mean_plddt   median_plddt  ratio_bad_plddt     iupred_auc  \\\ncount  545555.000000  545555.000000    545555.000000  522125.000000   \nmean       75.312362      79.094267         0.354822     125.969805   \nstd        14.949144      18.772187         0.291004     147.224706   \nmin        23.077300      22.170000         0.000000       0.000000   \n25%        64.928350      64.540000         0.112200      38.063900   \n50%        77.976200      87.315000         0.272000      80.049100   \n75%        87.562600      93.995000         0.552100     156.520200   \nmax        98.724100      98.860000         1.000000    2730.699900   \n\n        repeat_6mers  non_repeat_6mers  repeat_6mers_100  \\\ncount  514622.000000     514622.000000     514622.000000   \nmean        0.515753          0.000657          0.583850   \nstd         4.485592          0.048485          4.739796   \nmin         0.000000          0.000000          0.000000   \n25%         0.000000          0.000000          0.000000   \n50%         0.000000          0.000000          0.000000   \n75%         0.000000          0.000000          0.000000   \nmax       342.000000         11.000000        382.000000   \n\n       non_repeat_6mers_100  iupred_plddt_spearman  repeat_6mers_2000  \\\ncount         514622.000000          513491.000000      514622.000000   \nmean               0.019857              -0.311983           0.755625   \nstd                0.394819               0.317159           5.020129   \nmin                0.000000              -0.987435           0.000000   \n25%                0.000000              -0.564031           0.000000   \n50%                0.000000              -0.345583           0.000000   \n75%                0.000000              -0.103957           0.000000   \nmax               83.000000               0.918797         386.000000   \n\n       non_repeat_6mers_2000  \ncount          514622.000000  \nmean                0.976791  \nstd                 3.640865  \nmin                 0.000000  \n25%                 0.000000  \n50%                 0.000000  \n75%                 1.000000  \nmax               673.000000  ",
      "text/html": "<div>\n<style scoped>\n    .dataframe tbody tr th:only-of-type {\n        vertical-align: middle;\n    }\n\n    .dataframe tbody tr th {\n        vertical-align: top;\n    }\n\n    .dataframe thead th {\n        text-align: right;\n    }\n</style>\n<table border=\"1\" class=\"dataframe\">\n  <thead>\n    <tr style=\"text-align: right;\">\n      <th></th>\n      <th>seq_len</th>\n      <th>domain_count</th>\n      <th>max_pae</th>\n      <th>min_plddt</th>\n      <th>mean_plddt</th>\n      <th>median_plddt</th>\n      <th>ratio_bad_plddt</th>\n      <th>iupred_auc</th>\n      <th>repeat_6mers</th>\n      <th>non_repeat_6mers</th>\n      <th>repeat_6mers_100</th>\n      <th>non_repeat_6mers_100</th>\n      <th>iupred_plddt_spearman</th>\n      <th>repeat_6mers_2000</th>\n      <th>non_repeat_6mers_2000</th>\n    </tr>\n  </thead>\n  <tbody>\n    <tr>\n      <th>count</th>\n      <td>545555.000000</td>\n      <td>545555.00000</td>\n      <td>542051.000000</td>\n      <td>545555.000000</td>\n      <td>545555.000000</td>\n      <td>545555.000000</td>\n      <td>545555.000000</td>\n      <td>522125.000000</td>\n      <td>514622.000000</td>\n      <td>514622.000000</td>\n      <td>514622.000000</td>\n      <td>514622.000000</td>\n      <td>513491.000000</td>\n      <td>514622.000000</td>\n      <td>514622.000000</td>\n    </tr>\n    <tr>\n      <th>mean</th>\n      <td>458.873356</td>\n      <td>1.11808</td>\n      <td>30.845778</td>\n      <td>33.727809</td>\n      <td>75.312362</td>\n      <td>79.094267</td>\n      <td>0.354822</td>\n      <td>125.969805</td>\n      <td>0.515753</td>\n      <td>0.000657</td>\n      <td>0.583850</td>\n      <td>0.019857</td>\n      <td>-0.311983</td>\n      <td>0.755625</td>\n      <td>0.976791</td>\n    </tr>\n    <tr>\n      <th>std</th>\n      <td>880.781186</td>\n      <td>12.27124</td>\n      <td>1.455963</td>\n      <td>11.363737</td>\n      <td>14.949144</td>\n      <td>18.772187</td>\n      <td>0.291004</td>\n      <td>147.224706</td>\n      <td>4.485592</td>\n      <td>0.048485</td>\n      <td>4.739796</td>\n      <td>0.394819</td>\n      <td>0.317159</td>\n      <td>5.020129</td>\n      <td>3.640865</td>\n    </tr>\n    <tr>\n      <th>min</th>\n      <td>16.000000</td>\n      <td>0.00000</td>\n      <td>6.000000</td>\n      <td>1.390000</td>\n      <td>23.077300</td>\n      <td>22.170000</td>\n      <td>0.000000</td>\n      <td>0.000000</td>\n      <td>0.000000</td>\n      <td>0.000000</td>\n      <td>0.000000</td>\n      <td>0.000000</td>\n      <td>-0.987435</td>\n      <td>0.000000</td>\n      <td>0.000000</td>\n    </tr>\n    <tr>\n      <th>25%</th>\n      <td>186.000000</td>\n      <td>0.00000</td>\n      <td>30.900000</td>\n      <td>25.620000</td>\n      <td>64.928350</td>\n      <td>64.540000</td>\n      <td>0.112200</td>\n      <td>38.063900</td>\n      <td>0.000000</td>\n      <td>0.000000</td>\n      <td>0.000000</td>\n      <td>0.000000</td>\n      <td>-0.564031</td>\n      <td>0.000000</td>\n      <td>0.000000</td>\n    </tr>\n    <tr>\n      <th>50%</th>\n      <td>333.000000</td>\n      <td>0.00000</td>\n      <td>31.300000</td>\n      <td>31.180000</td>\n      <td>77.976200</td>\n      <td>87.315000</td>\n      <td>0.272000</td>\n      <td>80.049100</td>\n      <td>0.000000</td>\n      <td>0.000000</td>\n      <td>0.000000</td>\n      <td>0.000000</td>\n      <td>-0.345583</td>\n      <td>0.000000</td>\n      <td>0.000000</td>\n    </tr>\n    <tr>\n      <th>75%</th>\n      <td>538.000000</td>\n      <td>1.00000</td>\n      <td>31.400000</td>\n      <td>38.590000</td>\n      <td>87.562600</td>\n      <td>93.995000</td>\n      <td>0.552100</td>\n      <td>156.520200</td>\n      <td>0.000000</td>\n      <td>0.000000</td>\n      <td>0.000000</td>\n      <td>0.000000</td>\n      <td>-0.103957</td>\n      <td>0.000000</td>\n      <td>1.000000</td>\n    </tr>\n    <tr>\n      <th>max</th>\n      <td>32200.000000</td>\n      <td>285.00000</td>\n      <td>31.700000</td>\n      <td>97.030000</td>\n      <td>98.724100</td>\n      <td>98.860000</td>\n      <td>1.000000</td>\n      <td>2730.699900</td>\n      <td>342.000000</td>\n      <td>11.000000</td>\n      <td>382.000000</td>\n      <td>83.000000</td>\n      <td>0.918797</td>\n      <td>386.000000</td>\n      <td>673.000000</td>\n    </tr>\n  </tbody>\n</table>\n</div>"
     },
     "execution_count": 18,
     "metadata": {},
     "output_type": "execute_result"
    }
   ],
   "source": [
    "df.describe()"
   ],
   "metadata": {
    "collapsed": false,
    "pycharm": {
     "name": "#%%\n"
    }
   }
  },
  {
   "cell_type": "code",
   "execution_count": 19,
   "outputs": [],
   "source": [
    "df['repeat_6mers'] = df['repeat_6mers_2000']\n",
    "df['non_repeat_6mers'] = df['non_repeat_6mers_2000']"
   ],
   "metadata": {
    "collapsed": false,
    "pycharm": {
     "name": "#%%\n"
    }
   }
  },
  {
   "cell_type": "code",
   "execution_count": 20,
   "outputs": [],
   "source": [
    "df = df[df['repeat_6mers'].notnull()]\n",
    "df = df[df['non_repeat_6mers'].notnull()]\n",
    "df['repeat_6mers_normalized'] = df['repeat_6mers'] / df['seq_len']\n",
    "df['non_repeat_6mers_normalized'] = df['non_repeat_6mers'] / df['seq_len']"
   ],
   "metadata": {
    "collapsed": false,
    "pycharm": {
     "name": "#%%\n"
    }
   }
  },
  {
   "cell_type": "code",
   "execution_count": 21,
   "outputs": [
    {
     "data": {
      "text/plain": "        repeat_6mers  non_repeat_6mers  repeat_6mers_normalized  \\\ncount  514622.000000     514622.000000            514622.000000   \nmean        0.755625          0.976791                 0.001580   \nstd         5.020129          3.640865                 0.009674   \nmin         0.000000          0.000000                 0.000000   \n25%         0.000000          0.000000                 0.000000   \n50%         0.000000          0.000000                 0.000000   \n75%         0.000000          1.000000                 0.000000   \nmax       386.000000        673.000000                 0.807487   \n\n       non_repeat_6mers_normalized  \ncount                514622.000000  \nmean                      0.002406  \nstd                       0.008889  \nmin                       0.000000  \n25%                       0.000000  \n50%                       0.000000  \n75%                       0.001862  \nmax                       0.771930  ",
      "text/html": "<div>\n<style scoped>\n    .dataframe tbody tr th:only-of-type {\n        vertical-align: middle;\n    }\n\n    .dataframe tbody tr th {\n        vertical-align: top;\n    }\n\n    .dataframe thead th {\n        text-align: right;\n    }\n</style>\n<table border=\"1\" class=\"dataframe\">\n  <thead>\n    <tr style=\"text-align: right;\">\n      <th></th>\n      <th>repeat_6mers</th>\n      <th>non_repeat_6mers</th>\n      <th>repeat_6mers_normalized</th>\n      <th>non_repeat_6mers_normalized</th>\n    </tr>\n  </thead>\n  <tbody>\n    <tr>\n      <th>count</th>\n      <td>514622.000000</td>\n      <td>514622.000000</td>\n      <td>514622.000000</td>\n      <td>514622.000000</td>\n    </tr>\n    <tr>\n      <th>mean</th>\n      <td>0.755625</td>\n      <td>0.976791</td>\n      <td>0.001580</td>\n      <td>0.002406</td>\n    </tr>\n    <tr>\n      <th>std</th>\n      <td>5.020129</td>\n      <td>3.640865</td>\n      <td>0.009674</td>\n      <td>0.008889</td>\n    </tr>\n    <tr>\n      <th>min</th>\n      <td>0.000000</td>\n      <td>0.000000</td>\n      <td>0.000000</td>\n      <td>0.000000</td>\n    </tr>\n    <tr>\n      <th>25%</th>\n      <td>0.000000</td>\n      <td>0.000000</td>\n      <td>0.000000</td>\n      <td>0.000000</td>\n    </tr>\n    <tr>\n      <th>50%</th>\n      <td>0.000000</td>\n      <td>0.000000</td>\n      <td>0.000000</td>\n      <td>0.000000</td>\n    </tr>\n    <tr>\n      <th>75%</th>\n      <td>0.000000</td>\n      <td>1.000000</td>\n      <td>0.000000</td>\n      <td>0.001862</td>\n    </tr>\n    <tr>\n      <th>max</th>\n      <td>386.000000</td>\n      <td>673.000000</td>\n      <td>0.807487</td>\n      <td>0.771930</td>\n    </tr>\n  </tbody>\n</table>\n</div>"
     },
     "execution_count": 21,
     "metadata": {},
     "output_type": "execute_result"
    }
   ],
   "source": [
    "df[['repeat_6mers', 'non_repeat_6mers', 'repeat_6mers_normalized', 'non_repeat_6mers_normalized']].describe()"
   ],
   "metadata": {
    "collapsed": false,
    "pycharm": {
     "name": "#%%\n"
    }
   }
  },
  {
   "cell_type": "code",
   "execution_count": 22,
   "outputs": [
    {
     "data": {
      "text/plain": "       uniprot_id  seq_len  domain_count  max_pae  min_plddt  mean_plddt  \\\n700        Q75JC9      374           0.0     30.6      34.25     47.5191   \n7896   A0A5S6PEZ3      212           0.0     31.0      34.91     50.0730   \n19179      F1LZG1      136           0.0     27.5      83.22     97.7315   \n4162   A0A2R8Q8C4      208           0.0     31.0      44.88     57.4058   \n425        F1M0N4       50           0.0     23.4      84.03     92.5000   \n\n       median_plddt  ratio_bad_plddt  iupred_auc  repeat_6mers  \\\n700          42.780           0.9332    128.0841         302.0   \n7896         45.700           0.8679     81.5734         169.0   \n19179        98.105           0.0000     42.7958         103.0   \n4162         55.360           0.9087    197.1297         155.0   \n425          93.400           0.0000     49.8549          37.0   \n\n       non_repeat_6mers  repeat_6mers_100  non_repeat_6mers_100  \\\n700                 1.0             301.0                   0.0   \n7896                2.0             168.0                   0.0   \n19179               0.0              95.0                   0.0   \n4162                3.0             155.0                   0.0   \n425                 1.0              36.0                   0.0   \n\n       iupred_plddt_spearman  repeat_6mers_2000  non_repeat_6mers_2000  \\\n700                 0.160335              302.0                    1.0   \n7896                0.582109              169.0                    2.0   \n19179              -0.276223              103.0                    0.0   \n4162               -0.048053              155.0                    3.0   \n425                 0.420325               37.0                    1.0   \n\n      proteome  repeat_6mers_normalized  non_repeat_6mers_normalized  \n700      DICDI                 0.807487                     0.002674  \n7896     BRUMA                 0.797170                     0.009434  \n19179      RAT                 0.757353                     0.000000  \n4162     DANRE                 0.745192                     0.014423  \n425        RAT                 0.740000                     0.020000  ",
      "text/html": "<div>\n<style scoped>\n    .dataframe tbody tr th:only-of-type {\n        vertical-align: middle;\n    }\n\n    .dataframe tbody tr th {\n        vertical-align: top;\n    }\n\n    .dataframe thead th {\n        text-align: right;\n    }\n</style>\n<table border=\"1\" class=\"dataframe\">\n  <thead>\n    <tr style=\"text-align: right;\">\n      <th></th>\n      <th>uniprot_id</th>\n      <th>seq_len</th>\n      <th>domain_count</th>\n      <th>max_pae</th>\n      <th>min_plddt</th>\n      <th>mean_plddt</th>\n      <th>median_plddt</th>\n      <th>ratio_bad_plddt</th>\n      <th>iupred_auc</th>\n      <th>repeat_6mers</th>\n      <th>non_repeat_6mers</th>\n      <th>repeat_6mers_100</th>\n      <th>non_repeat_6mers_100</th>\n      <th>iupred_plddt_spearman</th>\n      <th>repeat_6mers_2000</th>\n      <th>non_repeat_6mers_2000</th>\n      <th>proteome</th>\n      <th>repeat_6mers_normalized</th>\n      <th>non_repeat_6mers_normalized</th>\n    </tr>\n  </thead>\n  <tbody>\n    <tr>\n      <th>700</th>\n      <td>Q75JC9</td>\n      <td>374</td>\n      <td>0.0</td>\n      <td>30.6</td>\n      <td>34.25</td>\n      <td>47.5191</td>\n      <td>42.780</td>\n      <td>0.9332</td>\n      <td>128.0841</td>\n      <td>302.0</td>\n      <td>1.0</td>\n      <td>301.0</td>\n      <td>0.0</td>\n      <td>0.160335</td>\n      <td>302.0</td>\n      <td>1.0</td>\n      <td>DICDI</td>\n      <td>0.807487</td>\n      <td>0.002674</td>\n    </tr>\n    <tr>\n      <th>7896</th>\n      <td>A0A5S6PEZ3</td>\n      <td>212</td>\n      <td>0.0</td>\n      <td>31.0</td>\n      <td>34.91</td>\n      <td>50.0730</td>\n      <td>45.700</td>\n      <td>0.8679</td>\n      <td>81.5734</td>\n      <td>169.0</td>\n      <td>2.0</td>\n      <td>168.0</td>\n      <td>0.0</td>\n      <td>0.582109</td>\n      <td>169.0</td>\n      <td>2.0</td>\n      <td>BRUMA</td>\n      <td>0.797170</td>\n      <td>0.009434</td>\n    </tr>\n    <tr>\n      <th>19179</th>\n      <td>F1LZG1</td>\n      <td>136</td>\n      <td>0.0</td>\n      <td>27.5</td>\n      <td>83.22</td>\n      <td>97.7315</td>\n      <td>98.105</td>\n      <td>0.0000</td>\n      <td>42.7958</td>\n      <td>103.0</td>\n      <td>0.0</td>\n      <td>95.0</td>\n      <td>0.0</td>\n      <td>-0.276223</td>\n      <td>103.0</td>\n      <td>0.0</td>\n      <td>RAT</td>\n      <td>0.757353</td>\n      <td>0.000000</td>\n    </tr>\n    <tr>\n      <th>4162</th>\n      <td>A0A2R8Q8C4</td>\n      <td>208</td>\n      <td>0.0</td>\n      <td>31.0</td>\n      <td>44.88</td>\n      <td>57.4058</td>\n      <td>55.360</td>\n      <td>0.9087</td>\n      <td>197.1297</td>\n      <td>155.0</td>\n      <td>3.0</td>\n      <td>155.0</td>\n      <td>0.0</td>\n      <td>-0.048053</td>\n      <td>155.0</td>\n      <td>3.0</td>\n      <td>DANRE</td>\n      <td>0.745192</td>\n      <td>0.014423</td>\n    </tr>\n    <tr>\n      <th>425</th>\n      <td>F1M0N4</td>\n      <td>50</td>\n      <td>0.0</td>\n      <td>23.4</td>\n      <td>84.03</td>\n      <td>92.5000</td>\n      <td>93.400</td>\n      <td>0.0000</td>\n      <td>49.8549</td>\n      <td>37.0</td>\n      <td>1.0</td>\n      <td>36.0</td>\n      <td>0.0</td>\n      <td>0.420325</td>\n      <td>37.0</td>\n      <td>1.0</td>\n      <td>RAT</td>\n      <td>0.740000</td>\n      <td>0.020000</td>\n    </tr>\n  </tbody>\n</table>\n</div>"
     },
     "execution_count": 22,
     "metadata": {},
     "output_type": "execute_result"
    }
   ],
   "source": [
    "df.nlargest(n=5, columns='repeat_6mers_normalized')"
   ],
   "metadata": {
    "collapsed": false,
    "pycharm": {
     "name": "#%%\n"
    }
   }
  },
  {
   "cell_type": "code",
   "execution_count": 23,
   "outputs": [
    {
     "data": {
      "text/plain": "       uniprot_id  seq_len  domain_count  max_pae  min_plddt  mean_plddt  \\\n20045  A0A0G2JYP7       57           0.0     23.7      83.04     95.7279   \n13926  A0A0G2KB14       58           0.0     25.1      73.28     91.7364   \n824    A0A2R8QGX2      273           0.0     31.2      31.23     73.0712   \n2639   A0A0G2K1C3       57           0.0     22.6      79.39     95.5974   \n17903  A0A0G2K7C0       57           0.0     28.0      52.60     93.9181   \n\n       median_plddt  ratio_bad_plddt  iupred_auc  repeat_6mers  \\\n20045        96.530           0.0000     18.5751           0.0   \n13926        92.575           0.0000     17.8091           0.0   \n824          83.150           0.2747      0.2751           0.0   \n2639         95.980           0.0000     19.0790           2.0   \n17903        96.730           0.0526     19.1597           2.0   \n\n       non_repeat_6mers  repeat_6mers_100  non_repeat_6mers_100  \\\n20045              44.0               0.0                   0.0   \n13926              44.0               0.0                   0.0   \n824               203.0               0.0                   0.0   \n2639               42.0               2.0                   0.0   \n17903              41.0               2.0                   0.0   \n\n       iupred_plddt_spearman  repeat_6mers_2000  non_repeat_6mers_2000  \\\n20045               0.010458                0.0                   44.0   \n13926               0.322827                0.0                   44.0   \n824                -0.709486                0.0                  203.0   \n2639               -0.321057                2.0                   42.0   \n17903              -0.213012                2.0                   41.0   \n\n      proteome  repeat_6mers_normalized  non_repeat_6mers_normalized  \n20045      RAT                 0.000000                     0.771930  \n13926      RAT                 0.000000                     0.758621  \n824      DANRE                 0.000000                     0.743590  \n2639       RAT                 0.035088                     0.736842  \n17903      RAT                 0.035088                     0.719298  ",
      "text/html": "<div>\n<style scoped>\n    .dataframe tbody tr th:only-of-type {\n        vertical-align: middle;\n    }\n\n    .dataframe tbody tr th {\n        vertical-align: top;\n    }\n\n    .dataframe thead th {\n        text-align: right;\n    }\n</style>\n<table border=\"1\" class=\"dataframe\">\n  <thead>\n    <tr style=\"text-align: right;\">\n      <th></th>\n      <th>uniprot_id</th>\n      <th>seq_len</th>\n      <th>domain_count</th>\n      <th>max_pae</th>\n      <th>min_plddt</th>\n      <th>mean_plddt</th>\n      <th>median_plddt</th>\n      <th>ratio_bad_plddt</th>\n      <th>iupred_auc</th>\n      <th>repeat_6mers</th>\n      <th>non_repeat_6mers</th>\n      <th>repeat_6mers_100</th>\n      <th>non_repeat_6mers_100</th>\n      <th>iupred_plddt_spearman</th>\n      <th>repeat_6mers_2000</th>\n      <th>non_repeat_6mers_2000</th>\n      <th>proteome</th>\n      <th>repeat_6mers_normalized</th>\n      <th>non_repeat_6mers_normalized</th>\n    </tr>\n  </thead>\n  <tbody>\n    <tr>\n      <th>20045</th>\n      <td>A0A0G2JYP7</td>\n      <td>57</td>\n      <td>0.0</td>\n      <td>23.7</td>\n      <td>83.04</td>\n      <td>95.7279</td>\n      <td>96.530</td>\n      <td>0.0000</td>\n      <td>18.5751</td>\n      <td>0.0</td>\n      <td>44.0</td>\n      <td>0.0</td>\n      <td>0.0</td>\n      <td>0.010458</td>\n      <td>0.0</td>\n      <td>44.0</td>\n      <td>RAT</td>\n      <td>0.000000</td>\n      <td>0.771930</td>\n    </tr>\n    <tr>\n      <th>13926</th>\n      <td>A0A0G2KB14</td>\n      <td>58</td>\n      <td>0.0</td>\n      <td>25.1</td>\n      <td>73.28</td>\n      <td>91.7364</td>\n      <td>92.575</td>\n      <td>0.0000</td>\n      <td>17.8091</td>\n      <td>0.0</td>\n      <td>44.0</td>\n      <td>0.0</td>\n      <td>0.0</td>\n      <td>0.322827</td>\n      <td>0.0</td>\n      <td>44.0</td>\n      <td>RAT</td>\n      <td>0.000000</td>\n      <td>0.758621</td>\n    </tr>\n    <tr>\n      <th>824</th>\n      <td>A0A2R8QGX2</td>\n      <td>273</td>\n      <td>0.0</td>\n      <td>31.2</td>\n      <td>31.23</td>\n      <td>73.0712</td>\n      <td>83.150</td>\n      <td>0.2747</td>\n      <td>0.2751</td>\n      <td>0.0</td>\n      <td>203.0</td>\n      <td>0.0</td>\n      <td>0.0</td>\n      <td>-0.709486</td>\n      <td>0.0</td>\n      <td>203.0</td>\n      <td>DANRE</td>\n      <td>0.000000</td>\n      <td>0.743590</td>\n    </tr>\n    <tr>\n      <th>2639</th>\n      <td>A0A0G2K1C3</td>\n      <td>57</td>\n      <td>0.0</td>\n      <td>22.6</td>\n      <td>79.39</td>\n      <td>95.5974</td>\n      <td>95.980</td>\n      <td>0.0000</td>\n      <td>19.0790</td>\n      <td>2.0</td>\n      <td>42.0</td>\n      <td>2.0</td>\n      <td>0.0</td>\n      <td>-0.321057</td>\n      <td>2.0</td>\n      <td>42.0</td>\n      <td>RAT</td>\n      <td>0.035088</td>\n      <td>0.736842</td>\n    </tr>\n    <tr>\n      <th>17903</th>\n      <td>A0A0G2K7C0</td>\n      <td>57</td>\n      <td>0.0</td>\n      <td>28.0</td>\n      <td>52.60</td>\n      <td>93.9181</td>\n      <td>96.730</td>\n      <td>0.0526</td>\n      <td>19.1597</td>\n      <td>2.0</td>\n      <td>41.0</td>\n      <td>2.0</td>\n      <td>0.0</td>\n      <td>-0.213012</td>\n      <td>2.0</td>\n      <td>41.0</td>\n      <td>RAT</td>\n      <td>0.035088</td>\n      <td>0.719298</td>\n    </tr>\n  </tbody>\n</table>\n</div>"
     },
     "execution_count": 23,
     "metadata": {},
     "output_type": "execute_result"
    }
   ],
   "source": [
    "df.nlargest(n=5, columns='non_repeat_6mers_normalized')"
   ],
   "metadata": {
    "collapsed": false,
    "pycharm": {
     "name": "#%%\n"
    }
   }
  },
  {
   "cell_type": "code",
   "execution_count": 24,
   "outputs": [
    {
     "data": {
      "text/plain": "<IPython.core.display.Javascript object>",
      "application/javascript": "/* Put everything inside the global mpl namespace */\n/* global mpl */\nwindow.mpl = {};\n\nmpl.get_websocket_type = function () {\n    if (typeof WebSocket !== 'undefined') {\n        return WebSocket;\n    } else if (typeof MozWebSocket !== 'undefined') {\n        return MozWebSocket;\n    } else {\n        alert(\n            'Your browser does not have WebSocket support. ' +\n                'Please try Chrome, Safari or Firefox ≥ 6. ' +\n                'Firefox 4 and 5 are also supported but you ' +\n                'have to enable WebSockets in about:config.'\n        );\n    }\n};\n\nmpl.figure = function (figure_id, websocket, ondownload, parent_element) {\n    this.id = figure_id;\n\n    this.ws = websocket;\n\n    this.supports_binary = this.ws.binaryType !== undefined;\n\n    if (!this.supports_binary) {\n        var warnings = document.getElementById('mpl-warnings');\n        if (warnings) {\n            warnings.style.display = 'block';\n            warnings.textContent =\n                'This browser does not support binary websocket messages. ' +\n                'Performance may be slow.';\n        }\n    }\n\n    this.imageObj = new Image();\n\n    this.context = undefined;\n    this.message = undefined;\n    this.canvas = undefined;\n    this.rubberband_canvas = undefined;\n    this.rubberband_context = undefined;\n    this.format_dropdown = undefined;\n\n    this.image_mode = 'full';\n\n    this.root = document.createElement('div');\n    this.root.setAttribute('style', 'display: inline-block');\n    this._root_extra_style(this.root);\n\n    parent_element.appendChild(this.root);\n\n    this._init_header(this);\n    this._init_canvas(this);\n    this._init_toolbar(this);\n\n    var fig = this;\n\n    this.waiting = false;\n\n    this.ws.onopen = function () {\n        fig.send_message('supports_binary', { value: fig.supports_binary });\n        fig.send_message('send_image_mode', {});\n        if (fig.ratio !== 1) {\n            fig.send_message('set_device_pixel_ratio', {\n                device_pixel_ratio: fig.ratio,\n            });\n        }\n        fig.send_message('refresh', {});\n    };\n\n    this.imageObj.onload = function () {\n        if (fig.image_mode === 'full') {\n            // Full images could contain transparency (where diff images\n            // almost always do), so we need to clear the canvas so that\n            // there is no ghosting.\n            fig.context.clearRect(0, 0, fig.canvas.width, fig.canvas.height);\n        }\n        fig.context.drawImage(fig.imageObj, 0, 0);\n    };\n\n    this.imageObj.onunload = function () {\n        fig.ws.close();\n    };\n\n    this.ws.onmessage = this._make_on_message_function(this);\n\n    this.ondownload = ondownload;\n};\n\nmpl.figure.prototype._init_header = function () {\n    var titlebar = document.createElement('div');\n    titlebar.classList =\n        'ui-dialog-titlebar ui-widget-header ui-corner-all ui-helper-clearfix';\n    var titletext = document.createElement('div');\n    titletext.classList = 'ui-dialog-title';\n    titletext.setAttribute(\n        'style',\n        'width: 100%; text-align: center; padding: 3px;'\n    );\n    titlebar.appendChild(titletext);\n    this.root.appendChild(titlebar);\n    this.header = titletext;\n};\n\nmpl.figure.prototype._canvas_extra_style = function (_canvas_div) {};\n\nmpl.figure.prototype._root_extra_style = function (_canvas_div) {};\n\nmpl.figure.prototype._init_canvas = function () {\n    var fig = this;\n\n    var canvas_div = (this.canvas_div = document.createElement('div'));\n    canvas_div.setAttribute(\n        'style',\n        'border: 1px solid #ddd;' +\n            'box-sizing: content-box;' +\n            'clear: both;' +\n            'min-height: 1px;' +\n            'min-width: 1px;' +\n            'outline: 0;' +\n            'overflow: hidden;' +\n            'position: relative;' +\n            'resize: both;'\n    );\n\n    function on_keyboard_event_closure(name) {\n        return function (event) {\n            return fig.key_event(event, name);\n        };\n    }\n\n    canvas_div.addEventListener(\n        'keydown',\n        on_keyboard_event_closure('key_press')\n    );\n    canvas_div.addEventListener(\n        'keyup',\n        on_keyboard_event_closure('key_release')\n    );\n\n    this._canvas_extra_style(canvas_div);\n    this.root.appendChild(canvas_div);\n\n    var canvas = (this.canvas = document.createElement('canvas'));\n    canvas.classList.add('mpl-canvas');\n    canvas.setAttribute('style', 'box-sizing: content-box;');\n\n    this.context = canvas.getContext('2d');\n\n    var backingStore =\n        this.context.backingStorePixelRatio ||\n        this.context.webkitBackingStorePixelRatio ||\n        this.context.mozBackingStorePixelRatio ||\n        this.context.msBackingStorePixelRatio ||\n        this.context.oBackingStorePixelRatio ||\n        this.context.backingStorePixelRatio ||\n        1;\n\n    this.ratio = (window.devicePixelRatio || 1) / backingStore;\n\n    var rubberband_canvas = (this.rubberband_canvas = document.createElement(\n        'canvas'\n    ));\n    rubberband_canvas.setAttribute(\n        'style',\n        'box-sizing: content-box; position: absolute; left: 0; top: 0; z-index: 1;'\n    );\n\n    // Apply a ponyfill if ResizeObserver is not implemented by browser.\n    if (this.ResizeObserver === undefined) {\n        if (window.ResizeObserver !== undefined) {\n            this.ResizeObserver = window.ResizeObserver;\n        } else {\n            var obs = _JSXTOOLS_RESIZE_OBSERVER({});\n            this.ResizeObserver = obs.ResizeObserver;\n        }\n    }\n\n    this.resizeObserverInstance = new this.ResizeObserver(function (entries) {\n        var nentries = entries.length;\n        for (var i = 0; i < nentries; i++) {\n            var entry = entries[i];\n            var width, height;\n            if (entry.contentBoxSize) {\n                if (entry.contentBoxSize instanceof Array) {\n                    // Chrome 84 implements new version of spec.\n                    width = entry.contentBoxSize[0].inlineSize;\n                    height = entry.contentBoxSize[0].blockSize;\n                } else {\n                    // Firefox implements old version of spec.\n                    width = entry.contentBoxSize.inlineSize;\n                    height = entry.contentBoxSize.blockSize;\n                }\n            } else {\n                // Chrome <84 implements even older version of spec.\n                width = entry.contentRect.width;\n                height = entry.contentRect.height;\n            }\n\n            // Keep the size of the canvas and rubber band canvas in sync with\n            // the canvas container.\n            if (entry.devicePixelContentBoxSize) {\n                // Chrome 84 implements new version of spec.\n                canvas.setAttribute(\n                    'width',\n                    entry.devicePixelContentBoxSize[0].inlineSize\n                );\n                canvas.setAttribute(\n                    'height',\n                    entry.devicePixelContentBoxSize[0].blockSize\n                );\n            } else {\n                canvas.setAttribute('width', width * fig.ratio);\n                canvas.setAttribute('height', height * fig.ratio);\n            }\n            canvas.setAttribute(\n                'style',\n                'width: ' + width + 'px; height: ' + height + 'px;'\n            );\n\n            rubberband_canvas.setAttribute('width', width);\n            rubberband_canvas.setAttribute('height', height);\n\n            // And update the size in Python. We ignore the initial 0/0 size\n            // that occurs as the element is placed into the DOM, which should\n            // otherwise not happen due to the minimum size styling.\n            if (fig.ws.readyState == 1 && width != 0 && height != 0) {\n                fig.request_resize(width, height);\n            }\n        }\n    });\n    this.resizeObserverInstance.observe(canvas_div);\n\n    function on_mouse_event_closure(name) {\n        return function (event) {\n            return fig.mouse_event(event, name);\n        };\n    }\n\n    rubberband_canvas.addEventListener(\n        'mousedown',\n        on_mouse_event_closure('button_press')\n    );\n    rubberband_canvas.addEventListener(\n        'mouseup',\n        on_mouse_event_closure('button_release')\n    );\n    rubberband_canvas.addEventListener(\n        'dblclick',\n        on_mouse_event_closure('dblclick')\n    );\n    // Throttle sequential mouse events to 1 every 20ms.\n    rubberband_canvas.addEventListener(\n        'mousemove',\n        on_mouse_event_closure('motion_notify')\n    );\n\n    rubberband_canvas.addEventListener(\n        'mouseenter',\n        on_mouse_event_closure('figure_enter')\n    );\n    rubberband_canvas.addEventListener(\n        'mouseleave',\n        on_mouse_event_closure('figure_leave')\n    );\n\n    canvas_div.addEventListener('wheel', function (event) {\n        if (event.deltaY < 0) {\n            event.step = 1;\n        } else {\n            event.step = -1;\n        }\n        on_mouse_event_closure('scroll')(event);\n    });\n\n    canvas_div.appendChild(canvas);\n    canvas_div.appendChild(rubberband_canvas);\n\n    this.rubberband_context = rubberband_canvas.getContext('2d');\n    this.rubberband_context.strokeStyle = '#000000';\n\n    this._resize_canvas = function (width, height, forward) {\n        if (forward) {\n            canvas_div.style.width = width + 'px';\n            canvas_div.style.height = height + 'px';\n        }\n    };\n\n    // Disable right mouse context menu.\n    this.rubberband_canvas.addEventListener('contextmenu', function (_e) {\n        event.preventDefault();\n        return false;\n    });\n\n    function set_focus() {\n        canvas.focus();\n        canvas_div.focus();\n    }\n\n    window.setTimeout(set_focus, 100);\n};\n\nmpl.figure.prototype._init_toolbar = function () {\n    var fig = this;\n\n    var toolbar = document.createElement('div');\n    toolbar.classList = 'mpl-toolbar';\n    this.root.appendChild(toolbar);\n\n    function on_click_closure(name) {\n        return function (_event) {\n            return fig.toolbar_button_onclick(name);\n        };\n    }\n\n    function on_mouseover_closure(tooltip) {\n        return function (event) {\n            if (!event.currentTarget.disabled) {\n                return fig.toolbar_button_onmouseover(tooltip);\n            }\n        };\n    }\n\n    fig.buttons = {};\n    var buttonGroup = document.createElement('div');\n    buttonGroup.classList = 'mpl-button-group';\n    for (var toolbar_ind in mpl.toolbar_items) {\n        var name = mpl.toolbar_items[toolbar_ind][0];\n        var tooltip = mpl.toolbar_items[toolbar_ind][1];\n        var image = mpl.toolbar_items[toolbar_ind][2];\n        var method_name = mpl.toolbar_items[toolbar_ind][3];\n\n        if (!name) {\n            /* Instead of a spacer, we start a new button group. */\n            if (buttonGroup.hasChildNodes()) {\n                toolbar.appendChild(buttonGroup);\n            }\n            buttonGroup = document.createElement('div');\n            buttonGroup.classList = 'mpl-button-group';\n            continue;\n        }\n\n        var button = (fig.buttons[name] = document.createElement('button'));\n        button.classList = 'mpl-widget';\n        button.setAttribute('role', 'button');\n        button.setAttribute('aria-disabled', 'false');\n        button.addEventListener('click', on_click_closure(method_name));\n        button.addEventListener('mouseover', on_mouseover_closure(tooltip));\n\n        var icon_img = document.createElement('img');\n        icon_img.src = '_images/' + image + '.png';\n        icon_img.srcset = '_images/' + image + '_large.png 2x';\n        icon_img.alt = tooltip;\n        button.appendChild(icon_img);\n\n        buttonGroup.appendChild(button);\n    }\n\n    if (buttonGroup.hasChildNodes()) {\n        toolbar.appendChild(buttonGroup);\n    }\n\n    var fmt_picker = document.createElement('select');\n    fmt_picker.classList = 'mpl-widget';\n    toolbar.appendChild(fmt_picker);\n    this.format_dropdown = fmt_picker;\n\n    for (var ind in mpl.extensions) {\n        var fmt = mpl.extensions[ind];\n        var option = document.createElement('option');\n        option.selected = fmt === mpl.default_extension;\n        option.innerHTML = fmt;\n        fmt_picker.appendChild(option);\n    }\n\n    var status_bar = document.createElement('span');\n    status_bar.classList = 'mpl-message';\n    toolbar.appendChild(status_bar);\n    this.message = status_bar;\n};\n\nmpl.figure.prototype.request_resize = function (x_pixels, y_pixels) {\n    // Request matplotlib to resize the figure. Matplotlib will then trigger a resize in the client,\n    // which will in turn request a refresh of the image.\n    this.send_message('resize', { width: x_pixels, height: y_pixels });\n};\n\nmpl.figure.prototype.send_message = function (type, properties) {\n    properties['type'] = type;\n    properties['figure_id'] = this.id;\n    this.ws.send(JSON.stringify(properties));\n};\n\nmpl.figure.prototype.send_draw_message = function () {\n    if (!this.waiting) {\n        this.waiting = true;\n        this.ws.send(JSON.stringify({ type: 'draw', figure_id: this.id }));\n    }\n};\n\nmpl.figure.prototype.handle_save = function (fig, _msg) {\n    var format_dropdown = fig.format_dropdown;\n    var format = format_dropdown.options[format_dropdown.selectedIndex].value;\n    fig.ondownload(fig, format);\n};\n\nmpl.figure.prototype.handle_resize = function (fig, msg) {\n    var size = msg['size'];\n    if (size[0] !== fig.canvas.width || size[1] !== fig.canvas.height) {\n        fig._resize_canvas(size[0], size[1], msg['forward']);\n        fig.send_message('refresh', {});\n    }\n};\n\nmpl.figure.prototype.handle_rubberband = function (fig, msg) {\n    var x0 = msg['x0'] / fig.ratio;\n    var y0 = (fig.canvas.height - msg['y0']) / fig.ratio;\n    var x1 = msg['x1'] / fig.ratio;\n    var y1 = (fig.canvas.height - msg['y1']) / fig.ratio;\n    x0 = Math.floor(x0) + 0.5;\n    y0 = Math.floor(y0) + 0.5;\n    x1 = Math.floor(x1) + 0.5;\n    y1 = Math.floor(y1) + 0.5;\n    var min_x = Math.min(x0, x1);\n    var min_y = Math.min(y0, y1);\n    var width = Math.abs(x1 - x0);\n    var height = Math.abs(y1 - y0);\n\n    fig.rubberband_context.clearRect(\n        0,\n        0,\n        fig.canvas.width / fig.ratio,\n        fig.canvas.height / fig.ratio\n    );\n\n    fig.rubberband_context.strokeRect(min_x, min_y, width, height);\n};\n\nmpl.figure.prototype.handle_figure_label = function (fig, msg) {\n    // Updates the figure title.\n    fig.header.textContent = msg['label'];\n};\n\nmpl.figure.prototype.handle_cursor = function (fig, msg) {\n    fig.rubberband_canvas.style.cursor = msg['cursor'];\n};\n\nmpl.figure.prototype.handle_message = function (fig, msg) {\n    fig.message.textContent = msg['message'];\n};\n\nmpl.figure.prototype.handle_draw = function (fig, _msg) {\n    // Request the server to send over a new figure.\n    fig.send_draw_message();\n};\n\nmpl.figure.prototype.handle_image_mode = function (fig, msg) {\n    fig.image_mode = msg['mode'];\n};\n\nmpl.figure.prototype.handle_history_buttons = function (fig, msg) {\n    for (var key in msg) {\n        if (!(key in fig.buttons)) {\n            continue;\n        }\n        fig.buttons[key].disabled = !msg[key];\n        fig.buttons[key].setAttribute('aria-disabled', !msg[key]);\n    }\n};\n\nmpl.figure.prototype.handle_navigate_mode = function (fig, msg) {\n    if (msg['mode'] === 'PAN') {\n        fig.buttons['Pan'].classList.add('active');\n        fig.buttons['Zoom'].classList.remove('active');\n    } else if (msg['mode'] === 'ZOOM') {\n        fig.buttons['Pan'].classList.remove('active');\n        fig.buttons['Zoom'].classList.add('active');\n    } else {\n        fig.buttons['Pan'].classList.remove('active');\n        fig.buttons['Zoom'].classList.remove('active');\n    }\n};\n\nmpl.figure.prototype.updated_canvas_event = function () {\n    // Called whenever the canvas gets updated.\n    this.send_message('ack', {});\n};\n\n// A function to construct a web socket function for onmessage handling.\n// Called in the figure constructor.\nmpl.figure.prototype._make_on_message_function = function (fig) {\n    return function socket_on_message(evt) {\n        if (evt.data instanceof Blob) {\n            var img = evt.data;\n            if (img.type !== 'image/png') {\n                /* FIXME: We get \"Resource interpreted as Image but\n                 * transferred with MIME type text/plain:\" errors on\n                 * Chrome.  But how to set the MIME type?  It doesn't seem\n                 * to be part of the websocket stream */\n                img.type = 'image/png';\n            }\n\n            /* Free the memory for the previous frames */\n            if (fig.imageObj.src) {\n                (window.URL || window.webkitURL).revokeObjectURL(\n                    fig.imageObj.src\n                );\n            }\n\n            fig.imageObj.src = (window.URL || window.webkitURL).createObjectURL(\n                img\n            );\n            fig.updated_canvas_event();\n            fig.waiting = false;\n            return;\n        } else if (\n            typeof evt.data === 'string' &&\n            evt.data.slice(0, 21) === 'data:image/png;base64'\n        ) {\n            fig.imageObj.src = evt.data;\n            fig.updated_canvas_event();\n            fig.waiting = false;\n            return;\n        }\n\n        var msg = JSON.parse(evt.data);\n        var msg_type = msg['type'];\n\n        // Call the  \"handle_{type}\" callback, which takes\n        // the figure and JSON message as its only arguments.\n        try {\n            var callback = fig['handle_' + msg_type];\n        } catch (e) {\n            console.log(\n                \"No handler for the '\" + msg_type + \"' message type: \",\n                msg\n            );\n            return;\n        }\n\n        if (callback) {\n            try {\n                // console.log(\"Handling '\" + msg_type + \"' message: \", msg);\n                callback(fig, msg);\n            } catch (e) {\n                console.log(\n                    \"Exception inside the 'handler_\" + msg_type + \"' callback:\",\n                    e,\n                    e.stack,\n                    msg\n                );\n            }\n        }\n    };\n};\n\n// from https://stackoverflow.com/questions/1114465/getting-mouse-location-in-canvas\nmpl.findpos = function (e) {\n    //this section is from http://www.quirksmode.org/js/events_properties.html\n    var targ;\n    if (!e) {\n        e = window.event;\n    }\n    if (e.target) {\n        targ = e.target;\n    } else if (e.srcElement) {\n        targ = e.srcElement;\n    }\n    if (targ.nodeType === 3) {\n        // defeat Safari bug\n        targ = targ.parentNode;\n    }\n\n    // pageX,Y are the mouse positions relative to the document\n    var boundingRect = targ.getBoundingClientRect();\n    var x = e.pageX - (boundingRect.left + document.body.scrollLeft);\n    var y = e.pageY - (boundingRect.top + document.body.scrollTop);\n\n    return { x: x, y: y };\n};\n\n/*\n * return a copy of an object with only non-object keys\n * we need this to avoid circular references\n * https://stackoverflow.com/a/24161582/3208463\n */\nfunction simpleKeys(original) {\n    return Object.keys(original).reduce(function (obj, key) {\n        if (typeof original[key] !== 'object') {\n            obj[key] = original[key];\n        }\n        return obj;\n    }, {});\n}\n\nmpl.figure.prototype.mouse_event = function (event, name) {\n    var canvas_pos = mpl.findpos(event);\n\n    if (name === 'button_press') {\n        this.canvas.focus();\n        this.canvas_div.focus();\n    }\n\n    var x = canvas_pos.x * this.ratio;\n    var y = canvas_pos.y * this.ratio;\n\n    this.send_message(name, {\n        x: x,\n        y: y,\n        button: event.button,\n        step: event.step,\n        guiEvent: simpleKeys(event),\n    });\n\n    /* This prevents the web browser from automatically changing to\n     * the text insertion cursor when the button is pressed.  We want\n     * to control all of the cursor setting manually through the\n     * 'cursor' event from matplotlib */\n    event.preventDefault();\n    return false;\n};\n\nmpl.figure.prototype._key_event_extra = function (_event, _name) {\n    // Handle any extra behaviour associated with a key event\n};\n\nmpl.figure.prototype.key_event = function (event, name) {\n    // Prevent repeat events\n    if (name === 'key_press') {\n        if (event.key === this._key) {\n            return;\n        } else {\n            this._key = event.key;\n        }\n    }\n    if (name === 'key_release') {\n        this._key = null;\n    }\n\n    var value = '';\n    if (event.ctrlKey && event.key !== 'Control') {\n        value += 'ctrl+';\n    }\n    else if (event.altKey && event.key !== 'Alt') {\n        value += 'alt+';\n    }\n    else if (event.shiftKey && event.key !== 'Shift') {\n        value += 'shift+';\n    }\n\n    value += 'k' + event.key;\n\n    this._key_event_extra(event, name);\n\n    this.send_message(name, { key: value, guiEvent: simpleKeys(event) });\n    return false;\n};\n\nmpl.figure.prototype.toolbar_button_onclick = function (name) {\n    if (name === 'download') {\n        this.handle_save(this, null);\n    } else {\n        this.send_message('toolbar_button', { name: name });\n    }\n};\n\nmpl.figure.prototype.toolbar_button_onmouseover = function (tooltip) {\n    this.message.textContent = tooltip;\n};\n\n///////////////// REMAINING CONTENT GENERATED BY embed_js.py /////////////////\n// prettier-ignore\nvar _JSXTOOLS_RESIZE_OBSERVER=function(A){var t,i=new WeakMap,n=new WeakMap,a=new WeakMap,r=new WeakMap,o=new Set;function s(e){if(!(this instanceof s))throw new TypeError(\"Constructor requires 'new' operator\");i.set(this,e)}function h(){throw new TypeError(\"Function is not a constructor\")}function c(e,t,i,n){e=0 in arguments?Number(arguments[0]):0,t=1 in arguments?Number(arguments[1]):0,i=2 in arguments?Number(arguments[2]):0,n=3 in arguments?Number(arguments[3]):0,this.right=(this.x=this.left=e)+(this.width=i),this.bottom=(this.y=this.top=t)+(this.height=n),Object.freeze(this)}function d(){t=requestAnimationFrame(d);var s=new WeakMap,p=new Set;o.forEach((function(t){r.get(t).forEach((function(i){var r=t instanceof window.SVGElement,o=a.get(t),d=r?0:parseFloat(o.paddingTop),f=r?0:parseFloat(o.paddingRight),l=r?0:parseFloat(o.paddingBottom),u=r?0:parseFloat(o.paddingLeft),g=r?0:parseFloat(o.borderTopWidth),m=r?0:parseFloat(o.borderRightWidth),w=r?0:parseFloat(o.borderBottomWidth),b=u+f,F=d+l,v=(r?0:parseFloat(o.borderLeftWidth))+m,W=g+w,y=r?0:t.offsetHeight-W-t.clientHeight,E=r?0:t.offsetWidth-v-t.clientWidth,R=b+v,z=F+W,M=r?t.width:parseFloat(o.width)-R-E,O=r?t.height:parseFloat(o.height)-z-y;if(n.has(t)){var k=n.get(t);if(k[0]===M&&k[1]===O)return}n.set(t,[M,O]);var S=Object.create(h.prototype);S.target=t,S.contentRect=new c(u,d,M,O),s.has(i)||(s.set(i,[]),p.add(i)),s.get(i).push(S)}))})),p.forEach((function(e){i.get(e).call(e,s.get(e),e)}))}return s.prototype.observe=function(i){if(i instanceof window.Element){r.has(i)||(r.set(i,new Set),o.add(i),a.set(i,window.getComputedStyle(i)));var n=r.get(i);n.has(this)||n.add(this),cancelAnimationFrame(t),t=requestAnimationFrame(d)}},s.prototype.unobserve=function(i){if(i instanceof window.Element&&r.has(i)){var n=r.get(i);n.has(this)&&(n.delete(this),n.size||(r.delete(i),o.delete(i))),n.size||r.delete(i),o.size||cancelAnimationFrame(t)}},A.DOMRectReadOnly=c,A.ResizeObserver=s,A.ResizeObserverEntry=h,A}; // eslint-disable-line\nmpl.toolbar_items = [[\"Home\", \"Reset original view\", \"fa fa-home icon-home\", \"home\"], [\"Back\", \"Back to previous view\", \"fa fa-arrow-left icon-arrow-left\", \"back\"], [\"Forward\", \"Forward to next view\", \"fa fa-arrow-right icon-arrow-right\", \"forward\"], [\"\", \"\", \"\", \"\"], [\"Pan\", \"Left button pans, Right button zooms\\nx/y fixes axis, CTRL fixes aspect\", \"fa fa-arrows icon-move\", \"pan\"], [\"Zoom\", \"Zoom to rectangle\\nx/y fixes axis\", \"fa fa-square-o icon-check-empty\", \"zoom\"], [\"\", \"\", \"\", \"\"], [\"Download\", \"Download plot\", \"fa fa-floppy-o icon-save\", \"download\"]];\n\nmpl.extensions = [\"eps\", \"jpeg\", \"pgf\", \"pdf\", \"png\", \"ps\", \"raw\", \"svg\", \"tif\"];\n\nmpl.default_extension = \"png\";/* global mpl */\n\nvar comm_websocket_adapter = function (comm) {\n    // Create a \"websocket\"-like object which calls the given IPython comm\n    // object with the appropriate methods. Currently this is a non binary\n    // socket, so there is still some room for performance tuning.\n    var ws = {};\n\n    ws.binaryType = comm.kernel.ws.binaryType;\n    ws.readyState = comm.kernel.ws.readyState;\n    function updateReadyState(_event) {\n        if (comm.kernel.ws) {\n            ws.readyState = comm.kernel.ws.readyState;\n        } else {\n            ws.readyState = 3; // Closed state.\n        }\n    }\n    comm.kernel.ws.addEventListener('open', updateReadyState);\n    comm.kernel.ws.addEventListener('close', updateReadyState);\n    comm.kernel.ws.addEventListener('error', updateReadyState);\n\n    ws.close = function () {\n        comm.close();\n    };\n    ws.send = function (m) {\n        //console.log('sending', m);\n        comm.send(m);\n    };\n    // Register the callback with on_msg.\n    comm.on_msg(function (msg) {\n        //console.log('receiving', msg['content']['data'], msg);\n        var data = msg['content']['data'];\n        if (data['blob'] !== undefined) {\n            data = {\n                data: new Blob(msg['buffers'], { type: data['blob'] }),\n            };\n        }\n        // Pass the mpl event to the overridden (by mpl) onmessage function.\n        ws.onmessage(data);\n    });\n    return ws;\n};\n\nmpl.mpl_figure_comm = function (comm, msg) {\n    // This is the function which gets called when the mpl process\n    // starts-up an IPython Comm through the \"matplotlib\" channel.\n\n    var id = msg.content.data.id;\n    // Get hold of the div created by the display call when the Comm\n    // socket was opened in Python.\n    var element = document.getElementById(id);\n    var ws_proxy = comm_websocket_adapter(comm);\n\n    function ondownload(figure, _format) {\n        window.open(figure.canvas.toDataURL());\n    }\n\n    var fig = new mpl.figure(id, ws_proxy, ondownload, element);\n\n    // Call onopen now - mpl needs it, as it is assuming we've passed it a real\n    // web socket which is closed, not our websocket->open comm proxy.\n    ws_proxy.onopen();\n\n    fig.parent_element = element;\n    fig.cell_info = mpl.find_output_cell(\"<div id='\" + id + \"'></div>\");\n    if (!fig.cell_info) {\n        console.error('Failed to find cell for figure', id, fig);\n        return;\n    }\n    fig.cell_info[0].output_area.element.on(\n        'cleared',\n        { fig: fig },\n        fig._remove_fig_handler\n    );\n};\n\nmpl.figure.prototype.handle_close = function (fig, msg) {\n    var width = fig.canvas.width / fig.ratio;\n    fig.cell_info[0].output_area.element.off(\n        'cleared',\n        fig._remove_fig_handler\n    );\n    fig.resizeObserverInstance.unobserve(fig.canvas_div);\n\n    // Update the output cell to use the data from the current canvas.\n    fig.push_to_output();\n    var dataURL = fig.canvas.toDataURL();\n    // Re-enable the keyboard manager in IPython - without this line, in FF,\n    // the notebook keyboard shortcuts fail.\n    IPython.keyboard_manager.enable();\n    fig.parent_element.innerHTML =\n        '<img src=\"' + dataURL + '\" width=\"' + width + '\">';\n    fig.close_ws(fig, msg);\n};\n\nmpl.figure.prototype.close_ws = function (fig, msg) {\n    fig.send_message('closing', msg);\n    // fig.ws.close()\n};\n\nmpl.figure.prototype.push_to_output = function (_remove_interactive) {\n    // Turn the data on the canvas into data in the output cell.\n    var width = this.canvas.width / this.ratio;\n    var dataURL = this.canvas.toDataURL();\n    this.cell_info[1]['text/html'] =\n        '<img src=\"' + dataURL + '\" width=\"' + width + '\">';\n};\n\nmpl.figure.prototype.updated_canvas_event = function () {\n    // Tell IPython that the notebook contents must change.\n    IPython.notebook.set_dirty(true);\n    this.send_message('ack', {});\n    var fig = this;\n    // Wait a second, then push the new image to the DOM so\n    // that it is saved nicely (might be nice to debounce this).\n    setTimeout(function () {\n        fig.push_to_output();\n    }, 1000);\n};\n\nmpl.figure.prototype._init_toolbar = function () {\n    var fig = this;\n\n    var toolbar = document.createElement('div');\n    toolbar.classList = 'btn-toolbar';\n    this.root.appendChild(toolbar);\n\n    function on_click_closure(name) {\n        return function (_event) {\n            return fig.toolbar_button_onclick(name);\n        };\n    }\n\n    function on_mouseover_closure(tooltip) {\n        return function (event) {\n            if (!event.currentTarget.disabled) {\n                return fig.toolbar_button_onmouseover(tooltip);\n            }\n        };\n    }\n\n    fig.buttons = {};\n    var buttonGroup = document.createElement('div');\n    buttonGroup.classList = 'btn-group';\n    var button;\n    for (var toolbar_ind in mpl.toolbar_items) {\n        var name = mpl.toolbar_items[toolbar_ind][0];\n        var tooltip = mpl.toolbar_items[toolbar_ind][1];\n        var image = mpl.toolbar_items[toolbar_ind][2];\n        var method_name = mpl.toolbar_items[toolbar_ind][3];\n\n        if (!name) {\n            /* Instead of a spacer, we start a new button group. */\n            if (buttonGroup.hasChildNodes()) {\n                toolbar.appendChild(buttonGroup);\n            }\n            buttonGroup = document.createElement('div');\n            buttonGroup.classList = 'btn-group';\n            continue;\n        }\n\n        button = fig.buttons[name] = document.createElement('button');\n        button.classList = 'btn btn-default';\n        button.href = '#';\n        button.title = name;\n        button.innerHTML = '<i class=\"fa ' + image + ' fa-lg\"></i>';\n        button.addEventListener('click', on_click_closure(method_name));\n        button.addEventListener('mouseover', on_mouseover_closure(tooltip));\n        buttonGroup.appendChild(button);\n    }\n\n    if (buttonGroup.hasChildNodes()) {\n        toolbar.appendChild(buttonGroup);\n    }\n\n    // Add the status bar.\n    var status_bar = document.createElement('span');\n    status_bar.classList = 'mpl-message pull-right';\n    toolbar.appendChild(status_bar);\n    this.message = status_bar;\n\n    // Add the close button to the window.\n    var buttongrp = document.createElement('div');\n    buttongrp.classList = 'btn-group inline pull-right';\n    button = document.createElement('button');\n    button.classList = 'btn btn-mini btn-primary';\n    button.href = '#';\n    button.title = 'Stop Interaction';\n    button.innerHTML = '<i class=\"fa fa-power-off icon-remove icon-large\"></i>';\n    button.addEventListener('click', function (_evt) {\n        fig.handle_close(fig, {});\n    });\n    button.addEventListener(\n        'mouseover',\n        on_mouseover_closure('Stop Interaction')\n    );\n    buttongrp.appendChild(button);\n    var titlebar = this.root.querySelector('.ui-dialog-titlebar');\n    titlebar.insertBefore(buttongrp, titlebar.firstChild);\n};\n\nmpl.figure.prototype._remove_fig_handler = function (event) {\n    var fig = event.data.fig;\n    if (event.target !== this) {\n        // Ignore bubbled events from children.\n        return;\n    }\n    fig.close_ws(fig, {});\n};\n\nmpl.figure.prototype._root_extra_style = function (el) {\n    el.style.boxSizing = 'content-box'; // override notebook setting of border-box.\n};\n\nmpl.figure.prototype._canvas_extra_style = function (el) {\n    // this is important to make the div 'focusable\n    el.setAttribute('tabindex', 0);\n    // reach out to IPython and tell the keyboard manager to turn it's self\n    // off when our div gets focus\n\n    // location in version 3\n    if (IPython.notebook.keyboard_manager) {\n        IPython.notebook.keyboard_manager.register_events(el);\n    } else {\n        // location in version 2\n        IPython.keyboard_manager.register_events(el);\n    }\n};\n\nmpl.figure.prototype._key_event_extra = function (event, _name) {\n    // Check for shift+enter\n    if (event.shiftKey && event.which === 13) {\n        this.canvas_div.blur();\n        // select the cell after this one\n        var index = IPython.notebook.find_cell_index(this.cell_info[0]);\n        IPython.notebook.select(index + 1);\n    }\n};\n\nmpl.figure.prototype.handle_save = function (fig, _msg) {\n    fig.ondownload(fig, null);\n};\n\nmpl.find_output_cell = function (html_output) {\n    // Return the cell and output element which can be found *uniquely* in the notebook.\n    // Note - this is a bit hacky, but it is done because the \"notebook_saving.Notebook\"\n    // IPython event is triggered only after the cells have been serialised, which for\n    // our purposes (turning an active figure into a static one), is too late.\n    var cells = IPython.notebook.get_cells();\n    var ncells = cells.length;\n    for (var i = 0; i < ncells; i++) {\n        var cell = cells[i];\n        if (cell.cell_type === 'code') {\n            for (var j = 0; j < cell.output_area.outputs.length; j++) {\n                var data = cell.output_area.outputs[j];\n                if (data.data) {\n                    // IPython >= 3 moved mimebundle to data attribute of output\n                    data = data.data;\n                }\n                if (data['text/html'] === html_output) {\n                    return [cell, data, j];\n                }\n            }\n        }\n    }\n};\n\n// Register the function which deals with the matplotlib target/channel.\n// The kernel may be null if the page has been refreshed.\nif (IPython.notebook.kernel !== null) {\n    IPython.notebook.kernel.comm_manager.register_target(\n        'matplotlib',\n        mpl.mpl_figure_comm\n    );\n}\n"
     },
     "metadata": {},
     "output_type": "display_data"
    },
    {
     "data": {
      "text/plain": "<IPython.core.display.HTML object>",
      "text/html": "<div id='01a5e9dd-a730-4d54-8ef9-da48153e8d4c'></div>"
     },
     "metadata": {},
     "output_type": "display_data"
    }
   ],
   "source": [
    "%matplotlib notebook\n",
    "fig = plt.figure()\n",
    "\n",
    "ax = plt.axes(projection='3d')\n",
    "p = ax.scatter(df['ratio_bad_plddt'], df['median_plddt'], df['mean_plddt'], c=df['repeat_6mers_normalized'],\n",
    "               cmap='viridis')\n",
    "ax.set_xlabel(\"Ratio bad pLDDT\")\n",
    "ax.set_ylabel(\"Median pLDDT\")\n",
    "ax.set_zlabel(\"Mean pLDDT\")\n",
    "fig.colorbar(p, ax=ax)\n",
    "plt.show()"
   ],
   "metadata": {
    "collapsed": false,
    "pycharm": {
     "name": "#%%\n"
    }
   }
  },
  {
   "cell_type": "code",
   "execution_count": 10,
   "outputs": [
    {
     "data": {
      "text/plain": "<Figure size 1008x720 with 2 Axes>",
      "image/png": "[encoded data removed]"
     },
     "metadata": {
      "needs_background": "light"
     },
     "output_type": "display_data"
    }
   ],
   "source": [
    "%matplotlib inline\n",
    "fig, [ax1, ax2] = plt.subplots(nrows=2, figsize=(14, 10))\n",
    "\n",
    "\n",
    "def violin_plot(ax, split_prop, show_prop, ylabel, bucket_step_size, decimals=0):\n",
    "    buckets_indices = np.arange(np.floor(df[split_prop].min()), df[split_prop].max(), bucket_step_size)\n",
    "    buckets = [df[df[split_prop].between(i, i + bucket_step_size, inclusive='left')] for i in buckets_indices]\n",
    "    labels = [f'{np.round(i, decimals=decimals)}-{np.round(i + bucket_step_size, decimals=decimals)}' for i in\n",
    "              buckets_indices]\n",
    "    ax.violinplot(dataset=[bucket[show_prop].values for bucket in buckets], showmedians=True)\n",
    "    ax.yaxis.grid(True)\n",
    "    ax.set_xlabel('Ratio bad pLDDT')\n",
    "    ax.set_ylabel(ylabel)\n",
    "    ax.set_xticks(np.arange(1, len(labels) + 1), labels=labels)\n",
    "\n",
    "\n",
    "violin_plot(ax1, 'ratio_bad_plddt', 'repeat_6mers_normalized', 'Frequency of 20 most freq repeat 6mers', 0.1, decimals=1)\n",
    "violin_plot(ax2, 'ratio_bad_plddt', 'non_repeat_6mers_normalized', 'Frequency of 20 most freq non-repeat 6mers', 0.1, decimals=1)\n",
    "\n",
    "plt.show()"
   ],
   "metadata": {
    "collapsed": false,
    "pycharm": {
     "name": "#%%\n"
    }
   }
  },
  {
   "cell_type": "code",
   "execution_count": 11,
   "outputs": [
    {
     "name": "stdout",
     "output_type": "stream",
     "text": [
      "Spearman rank correlation (Repeat): 0.2417\n",
      "Spearman rank correlation (Non-repeat): 0.1342\n"
     ]
    }
   ],
   "source": [
    "from scipy.stats import spearmanr\n",
    "\n",
    "rho, p = spearmanr(df['ratio_bad_plddt'], df['repeat_6mers_normalized'])\n",
    "print(f'Spearman rank correlation (Repeat): {\"{0:.4f}\".format(rho)}')\n",
    "rho2, p2 = spearmanr(df['ratio_bad_plddt'], df['non_repeat_6mers_normalized'])\n",
    "print(f'Spearman rank correlation (Non-repeat): {\"{0:.4f}\".format(rho2)}')"
   ],
   "metadata": {
    "collapsed": false,
    "pycharm": {
     "name": "#%%\n"
    }
   }
  },
  {
   "cell_type": "code",
   "execution_count": 12,
   "outputs": [],
   "source": [
    "# Looks like there might be some correlation for repeat 6mers that changes at around 0.5\n",
    "df_good_ratio = df[df['ratio_bad_plddt'] < 0.5]\n",
    "df_bad_ratio = df[df['ratio_bad_plddt'] >= 0.5]"
   ],
   "metadata": {
    "collapsed": false,
    "pycharm": {
     "name": "#%%\n"
    }
   }
  },
  {
   "cell_type": "code",
   "execution_count": 13,
   "outputs": [
    {
     "name": "stdout",
     "output_type": "stream",
     "text": [
      "Spearman rank correlation (Good, repeat): 0.2145\n",
      "Spearman rank correlation (Bad, repeat): -0.0671\n"
     ]
    }
   ],
   "source": [
    "rho_good, _ = spearmanr(df_good_ratio['ratio_bad_plddt'], df_good_ratio['repeat_6mers_normalized'])\n",
    "rho_bad, _ = spearmanr(df_bad_ratio['ratio_bad_plddt'], df_bad_ratio['repeat_6mers_normalized'])\n",
    "print(f'Spearman rank correlation (Good, repeat): {\"{0:.4f}\".format(rho_good)}')\n",
    "print(f'Spearman rank correlation (Bad, repeat): {\"{0:.4f}\".format(rho_bad)}')"
   ],
   "metadata": {
    "collapsed": false,
    "pycharm": {
     "name": "#%%\n"
    }
   }
  },
  {
   "cell_type": "code",
   "execution_count": 14,
   "outputs": [
    {
     "data": {
      "text/plain": "      uniprot_id  seq_len  domain_count  max_pae  min_plddt  mean_plddt  \\\n20522     E9PWP7      378           1.0     31.4      40.86     84.6046   \n\n       median_plddt  ratio_bad_plddt  iupred_auc  repeat_6mers  \\\n20522        89.955           0.1534   2730.6999           0.0   \n\n       non_repeat_6mers  repeat_6mers_100  non_repeat_6mers_100  \\\n20522               0.0               0.0                   0.0   \n\n       iupred_plddt_spearman  repeat_6mers_2000  non_repeat_6mers_2000  \\\n20522               -0.14276                0.0                    0.0   \n\n      proteome  repeat_6mers_normalized  non_repeat_6mers_normalized  \n20522    MOUSE                      0.0                          0.0  ",
      "text/html": "<div>\n<style scoped>\n    .dataframe tbody tr th:only-of-type {\n        vertical-align: middle;\n    }\n\n    .dataframe tbody tr th {\n        vertical-align: top;\n    }\n\n    .dataframe thead th {\n        text-align: right;\n    }\n</style>\n<table border=\"1\" class=\"dataframe\">\n  <thead>\n    <tr style=\"text-align: right;\">\n      <th></th>\n      <th>uniprot_id</th>\n      <th>seq_len</th>\n      <th>domain_count</th>\n      <th>max_pae</th>\n      <th>min_plddt</th>\n      <th>mean_plddt</th>\n      <th>median_plddt</th>\n      <th>ratio_bad_plddt</th>\n      <th>iupred_auc</th>\n      <th>repeat_6mers</th>\n      <th>non_repeat_6mers</th>\n      <th>repeat_6mers_100</th>\n      <th>non_repeat_6mers_100</th>\n      <th>iupred_plddt_spearman</th>\n      <th>repeat_6mers_2000</th>\n      <th>non_repeat_6mers_2000</th>\n      <th>proteome</th>\n      <th>repeat_6mers_normalized</th>\n      <th>non_repeat_6mers_normalized</th>\n    </tr>\n  </thead>\n  <tbody>\n    <tr>\n      <th>20522</th>\n      <td>E9PWP7</td>\n      <td>378</td>\n      <td>1.0</td>\n      <td>31.4</td>\n      <td>40.86</td>\n      <td>84.6046</td>\n      <td>89.955</td>\n      <td>0.1534</td>\n      <td>2730.6999</td>\n      <td>0.0</td>\n      <td>0.0</td>\n      <td>0.0</td>\n      <td>0.0</td>\n      <td>-0.14276</td>\n      <td>0.0</td>\n      <td>0.0</td>\n      <td>MOUSE</td>\n      <td>0.0</td>\n      <td>0.0</td>\n    </tr>\n  </tbody>\n</table>\n</div>"
     },
     "execution_count": 14,
     "metadata": {},
     "output_type": "execute_result"
    }
   ],
   "source": [
    "df[df['uniprot_id'] == 'E9PWP7']"
   ],
   "metadata": {
    "collapsed": false,
    "pycharm": {
     "name": "#%%\n"
    }
   }
  },
  {
   "cell_type": "markdown",
   "source": [
    "### Outlier: Going from kmer to motif\n",
    "We did find sequences where IUPRED predicts very high disorder but no kmers were found. We might have to extend to motifs using [MAST](https://meme-suite.org/).\n",
    "\n",
    "`T(\\s)?(T|S)(\\s)?(T|I)`"
   ],
   "metadata": {
    "collapsed": false,
    "pycharm": {
     "name": "#%% md\n"
    }
   }
  },
  {
   "cell_type": "code",
   "execution_count": 34,
   "outputs": [],
   "source": [
    "full_seq = \"\"\">tr|E9PWP7|E9PWP7_MOUSE Mucin 3, intestinal OS=Mus musculus OX=10090 GN=Muc3 PE=1 SV=4\n",
    "MSTRRWVRQTAALCLLAFILHSLPRHIAAENGTTESGSVWDGGGNSTQDDSQETQFRTVLKTKTTDGENSEAWPRQEYQQRSSSPSTTKAEVTTTADVTTTADVTTTAEITTTSDVTTTA\n",
    "EITNTDDVTTTGEVTTTADVTTTSDVPTTSEVTSTDDVITTAEVTTTAEMTPTDDVTTTSEVTTTGDVTTTGDVTITGDLTTTADVTTKADFTTTDDVTTTADGSTTADLTTTAKVTTTD\n",
    "DVTTTGEITTTSEITTTSDVTTTAEITTTDIVTTTGEVTTTADVTTTSDVTTTSEETPTADITTTADLTTTAEVTTTDDVTTTVEITTTSEITTTSDVTTIAEITTTDIVTTTGEVTTTA\n",
    "DVTTTSDVTTTSEETTTADITTTADLTTTAEITTTDDVTTTVEITTTSDVTTTTEITTTDIVTTTGEVTTTADVTTASDVTTTSEETPTADITTTADLTTTAEVTTTDDVTTTGEVTTTA\n",
    "DVTTTSDVTTTSEETTTADVTTTSDVTTTAEITTTDDITSTADVTTTADVTTTSDVPTTSEETTTADVTTTSDVTTTAEITTTDDITSTADVTTTADVTTTSDVTTTTEENPTADITTTA\n",
    "DLTTTAEVTTTDDVTTTVEITTTSEITTTSDVTTTAEITTTDIVTTTDEDTTTADVTTTSDVTTTSEETPTADITTTADLTTTADVTTTSDVTTTSEETTTADVTTTSDVTTTAEITTTD\n",
    "DITSTADVTTTTNVTTTSDVPTTSEVTSTDDVITTTEVTTTAEIIPTDDVTTTSEVTTTGDVTTTGDVTMTGDLTTTADVTTTADLTTTDEVTTTADGSTTADLTTTAEVTTTDDVTTTV\n",
    "QITTTSEITTTSDVTTTAEITTTDNVTTTGEVTTTADVTTTSDVTTTSEETPTADITTTADLNTTAEVTTTEDVTTTVEITTTSEITTTSDITTTAEITTTDIVTTTGEVTTTADVTTTN\n",
    "DVTTTSEETPTADITTTADLTTTAEITTTDDITSTADVTTTTDVTTTSDVPTTSEVTSTDDVITTTEVTTTAEIIPTDDVTTTSEVTTTGDVTTTGDVTMTGDLTTTADVTTTADLTTTD\n",
    "EVTTTADGSTTADLTTTAEVTTTDDVTTTVQITTTSEITTTSDVTTTAEITTTDNVTTTGEVTTTADVTTTSDVTTTSEETPTADITTTADLTTTAEVTTTEDVTTTVEITTTSEITTTS\n",
    "DITTTAEITTTDIVTTTGEVTTTADVTTTNDVTTTSEETPTADITTTADLTTTAEITTTDDVTTTGEVTTTADVTTTSDVTTTSEETPTADITTTADLTTTAEITTTDDVTTTGEVTTTA\n",
    "DVTTTSDITTTSEETPTADITTTADLTTTAEVTTTDDVTTTGEVTTTADVTTTSDITTTSEETPTADITTTADLTTTAEVTTTDDVTTTVEITTTSEITTTSDVTTTAEITTTDIVTTTG\n",
    "EVTTTADVTTTSDVTTTSEQTPTADITTTADLTTTAEVTTTDDVTTTVEITTTSEITTTSDVTTTAEITTTDIVTTTGEVTTTADITTTSDVTTTSEETTTADVTTTTDVTTTSEETTTG\n",
    "DGKTTTAEITTTDDITTTADVTTTPDVTTTAAVTTTGEITPTDDVTTTSEVTTTGDVTSTGDVTTTGEVTTTAEVTTTADVTTTSDVTTTSEETPTADITTTADLTTTAEVTTTDDVTTT\n",
    "GEVTTTADVTTTSDTTTTSEETPTADITTTVDLTTTAEVTTTDDVTTTVEITTTSEITTTSDVTTTAEITTSDIFTTTGEVTTTADITTTSDVTTTSEETPTADITTTADLTTTAEITTT\n",
    "DDVTTTVEITTTSEITTTSEVTTTPDVTTTSDVTTTSEETPTADITTTADLTTTAEVTTTDDVTTTVEITTTSEITTTSDVTTTAEITTTDIVTTTGEVTTTVDVTTTNDVTTTSEETPT\n",
    "ADITTTADLTTTAEVTTTDDVTTTGEVTTTADVTTTSDITTTSEETPTADITTTVDLTTTVEITTTSEITTTSDVTTTAEITTTDIVTTTGEVTTTADVTTTSDVTTTSEETPTADITTT\n",
    "ADLTTTAEVTTTDDVTTTVEITTTSEITTTSDVTTTAEITTTDIVTTSGEVTTTADVTTTSDVTTTSEETTTADVTTTTDVTTTSEETTTGDGTTTTAEITTTDDLTTTADVTTTPDVTT\n",
    "TAAVTTTAEITPTDDVTTTSEVTTTGDVTTTGEVTTTAEVTTTDDVTTTGDVTTTGDLTTMADVTTTADFTTTDDVTTTADASTTADLATTAEVTTTDDVTTTVEITTTAEITTTAEVTT\n",
    "TDDVTTTGEVTTTADVTTTTDVTTTSEVTTTADVTTTNDVTTTAEITTTDDITTTADVTTTADVTTTSYVPTTSEVTSTDDVTTTAEVTTTAEITPTDDVTTTSEVTTTGDVTTTGDVTM\n",
    "TCDLTTSADVTTTADFTTTDDVTTKADGSTTADLTTTAEVTTNDDVTTTGELTTTAEITTTSDVTTTAEITTTDIVTTTGEVTTTADVTTTSDVTTTSEETTTADITTTADLTTTAEVTT\n",
    "TDDVTTTVEITTTSEITTTSDVTTIAEITTTDIVTTTGEVTTTADVTTTNDVTTTSEETPTADITTTADLTTTAEVTTTDDVTTTGEVTTTADVTTTSDVTTTSEETPTADITTTADLTT\n",
    "TAEVTTTDDVTTTVEITTTSEITTTSDVTTTAEITTTDIVTTTGEVTTTADITTTSDVTTTSEETTTADVTTTTDVTTTSEETTTGDGKTTTAEITTTDDITTTADVTTTPDVTTTAAVT\n",
    "TTGEITPTDDVTTTSEVTTTGDVTTTGDVTTTGEVTTTAEVTTTDDVTTTGDVTTTGDLTTTADVTTTAYFTTTDDVTTTADGSTTADLTTTAEVTTTDDVTTTVEITTTAEITTTDDVT\n",
    "TTGEVTTTADVTTTSDVTTTSEETPTADITTTADLTTTAEVTTTDDVTTTVEITTTSEITTTSDVTTTAEITTTDIVTTTGEVTTTADVTTTSDVTTTSEETPTADITTTADLTTTAEVT\n",
    "TTDDVTTTVEITTTSEITTTSDVTTTAEITTTDIVTTTGEVTTTADVTTTSDVTTTSEETPTADITTTADLTTTAEVTTTDDVTTTVEITTTAEITTTDDVTTTGEVTTTADVTTTAEVI\n",
    "TTSDVTTTADVTTMPDFTTTAEVTTTLDVTTNDEVTTTSVVTTTPEITTAGDVTTTSEVTTSADLTTTPEITTTGDVTTTADVTTTADITTTSDVTTTADVTTTADITTTSDVTTTADVT\n",
    "TIADLSTTPEITTTGDFSSTTDVTSTGDVTTTADVTTTADVTTTGDVTTTAEVTTTAEVTTTAEATTTADLNTTPEITTTDDVTTTGDVTITAEVTTTAYVTTTTDFTTTAEVNTTDDVT\n",
    "TIADLTTTAEVTTTNDVTSTAEITTTADLTTTTEVTTTADFITTGDVTTTADVTTMADVTTTADVTTADLTTTVDVTTMDDVTTTAEVITSGDVTTTSEVTTTSNLNTTPEITTTIDFTS\n",
    "TVDVTTTGDVTTTADVTTTSDVTTTSKVTTTGDVTTTADTTSTADVTTTADVITTAEVTTTADFTNTGDVTTSADVTTTADLTTMPDLTTTAEVTTTADVTTTSEFTTTADVTTTADVTS\n",
    "TADVTTTAEVTTTGDVTTTADVTNTGDITTIGDVTTTTEITTTAYLTTTLEITTTGEVTSTADVTTSAEVTTTDEITTTDVVTTTGDVTPTAESTTTDDVTTTSDVTTTGDFTTTADVTT\n",
    "TAYVTTTPDVTTTVEVTTTADFTTTGVVNTTADVTTTADVTTTSEVTTTADLTTTPEITTTVDFTSTADVTTTADVITTPEVTTTSDVTTTAEVITTADVTTTADVTTTVEVTTTGDVTI\n",
    "TADVTTTPEITTTVDFTSTADVTITADVTTTADVTTTSDVTITPDVTTTAEVTTTVEITTTDDVTTTGEVTTTADVTTTSDVTTTSEETTTADITTTSDVSTTSEVTTTAYVTTTADTTS\n",
    "TAEVTTTADVTTTADVTTTADVTTTADVTTTVEVTTTGDVTTTADVTTTAEVTTTAEITTTGDVTTTADVTTTAEVTTTAEITTTGDVTTTADVTTTADVTTTADVTTTIDVTTTADVTT\n",
    "SAEVTTTADVTTTTEVTTTTEVATTPEPTTTPAPTTTAVNCMNGGFWTGDKCICPNGFGGDRCENIVNVVNCENGGTWDGLKCQCTSLFYGPRCEELVESVEIEPTVAASVEVSVTVTSQ\n",
    "EYSEKLQDRKSEEFSNFNKTFTKQMALIYAGIPEYEGVIIKNLSKGSIVVDYDVILKAKYTPGFENTLDTVVKNLETKIKNATEVQVQDVNNNCSALLCFNSTATKVQNSATVSVNPEET\n",
    "CKKEAGEDFAKFVTLGQKGDKWFCITPCSAGYSTSKNCSYGKCQLQRSGPQCLCLITDTHWYSGENCDWGIQKSLVYGLGGAGVAVLLVILVILLVFSIRFRKDAQRQRSRVSEMYKWGE\n",
    "EEGRASPGTFHNFGFDHNEERENYMPLDSVYNTFQPSLNHINPERKIQIQRPQVVMTSL\"\"\"\n",
    "seq = ''\n",
    "for _line in full_seq.split('\\n'):\n",
    "    if _line.startswith(\">\"):\n",
    "        continue\n",
    "    seq += _line.strip()"
   ],
   "metadata": {
    "collapsed": false,
    "pycharm": {
     "name": "#%%\n"
    }
   }
  }
 ],
 "metadata": {
  "kernelspec": {
   "display_name": "Python 3",
   "language": "python",
   "name": "python3"
  },
  "language_info": {
   "codemirror_mode": {
    "name": "ipython",
    "version": 2
   },
   "file_extension": ".py",
   "mimetype": "text/x-python",
   "name": "python",
   "nbconvert_exporter": "python",
   "pygments_lexer": "ipython2",
   "version": "2.7.6"
  }
 },
 "nbformat": 4,
 "nbformat_minor": 0
}