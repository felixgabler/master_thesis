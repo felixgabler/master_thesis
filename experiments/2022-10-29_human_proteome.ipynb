{
 "cells": [
  {
   "cell_type": "markdown",
   "source": [
    "# Investigate predictions on human proteome\n",
    "\n",
    "Taking the results of our continuous predictions to find interesting sequences."
   ],
   "metadata": {
    "collapsed": false
   }
  },
  {
   "cell_type": "code",
   "execution_count": 37,
   "outputs": [],
   "source": [
    "import pandas as pd\n",
    "import numpy as np\n",
    "import matplotlib.pyplot as plt"
   ],
   "metadata": {
    "collapsed": false
   }
  },
  {
   "cell_type": "code",
   "execution_count": 5,
   "outputs": [],
   "source": [
    "with open('../data/uniprot/human_predictions.out') as handle:\n",
    "    item = None\n",
    "    human_proteome = []\n",
    "    for line in handle:\n",
    "        if line.startswith('>'):\n",
    "            if item is not None:\n",
    "                human_proteome.append(item)\n",
    "            item = {\n",
    "                'acc': line.strip(),\n",
    "            }\n",
    "        else:\n",
    "            item['scores'] = [float(s) for s in line.strip().split(',')]\n",
    "    if item is not None:\n",
    "        human_proteome.append(item)"
   ],
   "metadata": {
    "collapsed": false
   }
  },
  {
   "cell_type": "code",
   "execution_count": 6,
   "outputs": [],
   "source": [
    "df_human_proteome = pd.DataFrame(human_proteome)"
   ],
   "metadata": {
    "collapsed": false
   }
  },
  {
   "cell_type": "code",
   "execution_count": 7,
   "outputs": [
    {
     "data": {
      "text/plain": "                                                 acc  \\\n0  >sp|A0A075B6S6|KVD30_HUMAN Immunoglobulin kapp...   \n1  >sp|A0A1W2PPE2|TFKL4_HUMAN TATA-box-binding pr...   \n2  >sp|A0A5A2|TVB58_HUMAN T cell receptor beta va...   \n3  >sp|A0PJE2|DHR12_HUMAN Dehydrogenase/reductase...   \n4  >sp|A1A580|KR231_HUMAN Keratin-associated prot...   \n\n                                              scores  \n0  [4.4033, 6.4219, 7.4319, 7.0521, 6.8488, 7.800...  \n1  [1.9524, 2.3147, 2.1736, 1.7253, 1.1721, 1.145...  \n2  [2.6633, 4.4268, 7.2076, 8.6347, 10.4589, 11.6...  \n3  [5.5127, 8.3642, 10.1713, 10.1303, 9.5166, 9.6...  \n4  [4.7274, 7.3639, 9.4425, 10.9083, 12.0084, 12....  ",
      "text/html": "<div>\n<style scoped>\n    .dataframe tbody tr th:only-of-type {\n        vertical-align: middle;\n    }\n\n    .dataframe tbody tr th {\n        vertical-align: top;\n    }\n\n    .dataframe thead th {\n        text-align: right;\n    }\n</style>\n<table border=\"1\" class=\"dataframe\">\n  <thead>\n    <tr style=\"text-align: right;\">\n      <th></th>\n      <th>acc</th>\n      <th>scores</th>\n    </tr>\n  </thead>\n  <tbody>\n    <tr>\n      <th>0</th>\n      <td>&gt;sp|A0A075B6S6|KVD30_HUMAN Immunoglobulin kapp...</td>\n      <td>[4.4033, 6.4219, 7.4319, 7.0521, 6.8488, 7.800...</td>\n    </tr>\n    <tr>\n      <th>1</th>\n      <td>&gt;sp|A0A1W2PPE2|TFKL4_HUMAN TATA-box-binding pr...</td>\n      <td>[1.9524, 2.3147, 2.1736, 1.7253, 1.1721, 1.145...</td>\n    </tr>\n    <tr>\n      <th>2</th>\n      <td>&gt;sp|A0A5A2|TVB58_HUMAN T cell receptor beta va...</td>\n      <td>[2.6633, 4.4268, 7.2076, 8.6347, 10.4589, 11.6...</td>\n    </tr>\n    <tr>\n      <th>3</th>\n      <td>&gt;sp|A0PJE2|DHR12_HUMAN Dehydrogenase/reductase...</td>\n      <td>[5.5127, 8.3642, 10.1713, 10.1303, 9.5166, 9.6...</td>\n    </tr>\n    <tr>\n      <th>4</th>\n      <td>&gt;sp|A1A580|KR231_HUMAN Keratin-associated prot...</td>\n      <td>[4.7274, 7.3639, 9.4425, 10.9083, 12.0084, 12....</td>\n    </tr>\n  </tbody>\n</table>\n</div>"
     },
     "execution_count": 7,
     "metadata": {},
     "output_type": "execute_result"
    }
   ],
   "source": [
    "df_human_proteome.head()"
   ],
   "metadata": {
    "collapsed": false
   }
  },
  {
   "cell_type": "code",
   "execution_count": 8,
   "outputs": [
    {
     "data": {
      "text/plain": "                                                 acc  \\\n0  >sp|A0A075B6S6|KVD30_HUMAN Immunoglobulin kapp...   \n1  >sp|A0A1W2PPE2|TFKL4_HUMAN TATA-box-binding pr...   \n2  >sp|A0A5A2|TVB58_HUMAN T cell receptor beta va...   \n3  >sp|A0PJE2|DHR12_HUMAN Dehydrogenase/reductase...   \n4  >sp|A1A580|KR231_HUMAN Keratin-associated prot...   \n\n                                              scores  \\\n0  [4.4033, 6.4219, 7.4319, 7.0521, 6.8488, 7.800...   \n1  [1.9524, 2.3147, 2.1736, 1.7253, 1.1721, 1.145...   \n2  [2.6633, 4.4268, 7.2076, 8.6347, 10.4589, 11.6...   \n3  [5.5127, 8.3642, 10.1713, 10.1303, 9.5166, 9.6...   \n4  [4.7274, 7.3639, 9.4425, 10.9083, 12.0084, 12....   \n\n                                            disorder  \n0  [1, 1, 1, 1, 1, 1, 1, 1, 1, 1, 1, 0, 0, 0, 0, ...  \n1  [1, 1, 1, 1, 1, 1, 1, 1, 1, 1, 1, 1, 1, 1, 1, ...  \n2  [1, 1, 1, 0, 0, 0, 0, 0, 0, 0, 0, 0, 0, 0, 0, ...  \n3  [1, 0, 0, 0, 0, 0, 0, 0, 0, 0, 0, 0, 0, 0, 0, ...  \n4  [1, 1, 0, 0, 0, 0, 0, 0, 1, 0, 0, 0, 0, 0, 0, ...  ",
      "text/html": "<div>\n<style scoped>\n    .dataframe tbody tr th:only-of-type {\n        vertical-align: middle;\n    }\n\n    .dataframe tbody tr th {\n        vertical-align: top;\n    }\n\n    .dataframe thead th {\n        text-align: right;\n    }\n</style>\n<table border=\"1\" class=\"dataframe\">\n  <thead>\n    <tr style=\"text-align: right;\">\n      <th></th>\n      <th>acc</th>\n      <th>scores</th>\n      <th>disorder</th>\n    </tr>\n  </thead>\n  <tbody>\n    <tr>\n      <th>0</th>\n      <td>&gt;sp|A0A075B6S6|KVD30_HUMAN Immunoglobulin kapp...</td>\n      <td>[4.4033, 6.4219, 7.4319, 7.0521, 6.8488, 7.800...</td>\n      <td>[1, 1, 1, 1, 1, 1, 1, 1, 1, 1, 1, 0, 0, 0, 0, ...</td>\n    </tr>\n    <tr>\n      <th>1</th>\n      <td>&gt;sp|A0A1W2PPE2|TFKL4_HUMAN TATA-box-binding pr...</td>\n      <td>[1.9524, 2.3147, 2.1736, 1.7253, 1.1721, 1.145...</td>\n      <td>[1, 1, 1, 1, 1, 1, 1, 1, 1, 1, 1, 1, 1, 1, 1, ...</td>\n    </tr>\n    <tr>\n      <th>2</th>\n      <td>&gt;sp|A0A5A2|TVB58_HUMAN T cell receptor beta va...</td>\n      <td>[2.6633, 4.4268, 7.2076, 8.6347, 10.4589, 11.6...</td>\n      <td>[1, 1, 1, 0, 0, 0, 0, 0, 0, 0, 0, 0, 0, 0, 0, ...</td>\n    </tr>\n    <tr>\n      <th>3</th>\n      <td>&gt;sp|A0PJE2|DHR12_HUMAN Dehydrogenase/reductase...</td>\n      <td>[5.5127, 8.3642, 10.1713, 10.1303, 9.5166, 9.6...</td>\n      <td>[1, 0, 0, 0, 0, 0, 0, 0, 0, 0, 0, 0, 0, 0, 0, ...</td>\n    </tr>\n    <tr>\n      <th>4</th>\n      <td>&gt;sp|A1A580|KR231_HUMAN Keratin-associated prot...</td>\n      <td>[4.7274, 7.3639, 9.4425, 10.9083, 12.0084, 12....</td>\n      <td>[1, 1, 0, 0, 0, 0, 0, 0, 1, 0, 0, 0, 0, 0, 0, ...</td>\n    </tr>\n  </tbody>\n</table>\n</div>"
     },
     "execution_count": 8,
     "metadata": {},
     "output_type": "execute_result"
    }
   ],
   "source": [
    "df_human_proteome['disorder'] = df_human_proteome['scores'].apply(lambda scores: (np.asarray(scores) <= 8).astype(int))\n",
    "df_human_proteome.head()"
   ],
   "metadata": {
    "collapsed": false
   }
  },
  {
   "cell_type": "code",
   "execution_count": 9,
   "outputs": [],
   "source": [
    "def get_max_lengths(arr: list) -> list:\n",
    "    res = []\n",
    "    acc = 0\n",
    "    for d in arr:\n",
    "        if d == 1:\n",
    "            acc += 1\n",
    "        elif acc > 0:\n",
    "            res.append(acc)\n",
    "            acc = 0\n",
    "    return res\n",
    "\n",
    "df_human_proteome['disorder_lengths'] = df_human_proteome['disorder'].apply(get_max_lengths)"
   ],
   "metadata": {
    "collapsed": false
   }
  },
  {
   "cell_type": "code",
   "execution_count": 99,
   "outputs": [],
   "source": [
    "df_human_proteome['max_length'] = df_human_proteome['disorder_lengths'].apply(lambda arr: np.max(arr) if len(arr) > 0 else 0)"
   ],
   "metadata": {
    "collapsed": false
   }
  },
  {
   "cell_type": "code",
   "execution_count": 103,
   "outputs": [
    {
     "data": {
      "text/plain": "                                                     acc  \\\n7611   >sp|Q9H1E3|NUCKS_HUMAN Nuclear ubiquitous case...   \n17856  >sp|A0A1B0GTR4|SPRR5_HUMAN Putative small prol...   \n19200  >sp|O60829|PAGE4_HUMAN P antigen family member...   \n641    >sp|Q8TAG6|VEXIN_HUMAN Vexin OS=Homo sapiens O...   \n11159  >sp|Q9H320|VCX1_HUMAN Variable charge X-linked...   \n...                                                  ...   \n3475   >sp|Q5T036|F120S_HUMAN Uncharacterized protein...   \n6491   >sp|P0DPQ3|PR20G_HUMAN Proline-rich protein 20...   \n18921  >sp|P08123|CO1A2_HUMAN Collagen alpha-2(I) cha...   \n12895  >tr|A0A2R8YFR7|A0A2R8YFR7_HUMAN DH domain-cont...   \n6234   >sp|Q5T6M2|CF122_HUMAN Putative uncharacterize...   \n\n                                                  scores  \\\n7611   [2.63, 4.0266, 4.6973, 3.7225, 3.1837, 3.2099,...   \n17856  [3.4473, 4.6681, 5.1171, 4.2916, 3.6787, 3.316...   \n19200  [1.7704, 2.3694, 2.066, 1.5938, 0.7197, 0.4136...   \n641    [3.7778, 5.4639, 5.5805, 4.8217, 4.3669, 4.379...   \n11159  [1.3135, 1.9307, 1.9511, 1.3, 0.3853, -0.1295,...   \n...                                                  ...   \n3475   [1.0192, 1.5954, 1.5673, 1.2797, 0.8352, 0.572...   \n6491   [2.3688, 3.5923, 3.3825, 2.4635, 1.804, 1.6112...   \n18921  [7.4692, 10.7686, 13.9024, 14.0343, 14.153, 14...   \n12895  [0.749, 1.5203, 2.2995, 2.5056, 2.2929, 1.9487...   \n6234   [3.5883, 4.8349, 5.2988, 5.5851, 6.1432, 6.408...   \n\n                                                disorder  \\\n7611   [1, 1, 1, 1, 1, 1, 1, 1, 1, 1, 1, 1, 1, 1, 1, ...   \n17856  [1, 1, 1, 1, 1, 1, 1, 1, 1, 1, 1, 1, 1, 1, 1, ...   \n19200  [1, 1, 1, 1, 1, 1, 1, 1, 1, 1, 1, 1, 1, 1, 1, ...   \n641    [1, 1, 1, 1, 1, 1, 1, 1, 1, 1, 1, 1, 1, 1, 1, ...   \n11159  [1, 1, 1, 1, 1, 1, 1, 1, 1, 1, 1, 1, 1, 1, 1, ...   \n...                                                  ...   \n3475   [1, 1, 1, 1, 1, 1, 1, 1, 1, 1, 1, 1, 1, 1, 1, ...   \n6491   [1, 1, 1, 1, 1, 1, 1, 1, 1, 1, 1, 1, 1, 1, 1, ...   \n18921  [1, 0, 0, 0, 0, 0, 0, 0, 0, 0, 0, 0, 0, 0, 0, ...   \n12895  [1, 1, 1, 1, 1, 1, 1, 1, 1, 1, 1, 1, 1, 1, 1, ...   \n6234   [1, 1, 1, 1, 1, 1, 1, 1, 1, 1, 1, 1, 1, 1, 1, ...   \n\n               disorder_lengths  max_length  \n7611                     [1330]        1330  \n17856                    [1326]        1326  \n19200                    [1318]        1318  \n641                      [1308]        1308  \n11159                    [1304]        1304  \n...                         ...         ...  \n3475         [108, 24, 1102, 6]        1102  \n6491   [100, 1099, 3, 55, 4, 4]        1099  \n18921       [1, 5, 1099, 83, 1]        1099  \n12895    [1095, 39, 8, 1, 5, 1]        1095  \n6234         [31, 149, 1092, 9]        1092  \n\n[100 rows x 5 columns]",
      "text/html": "<div>\n<style scoped>\n    .dataframe tbody tr th:only-of-type {\n        vertical-align: middle;\n    }\n\n    .dataframe tbody tr th {\n        vertical-align: top;\n    }\n\n    .dataframe thead th {\n        text-align: right;\n    }\n</style>\n<table border=\"1\" class=\"dataframe\">\n  <thead>\n    <tr style=\"text-align: right;\">\n      <th></th>\n      <th>acc</th>\n      <th>scores</th>\n      <th>disorder</th>\n      <th>disorder_lengths</th>\n      <th>max_length</th>\n    </tr>\n  </thead>\n  <tbody>\n    <tr>\n      <th>7611</th>\n      <td>&gt;sp|Q9H1E3|NUCKS_HUMAN Nuclear ubiquitous case...</td>\n      <td>[2.63, 4.0266, 4.6973, 3.7225, 3.1837, 3.2099,...</td>\n      <td>[1, 1, 1, 1, 1, 1, 1, 1, 1, 1, 1, 1, 1, 1, 1, ...</td>\n      <td>[1330]</td>\n      <td>1330</td>\n    </tr>\n    <tr>\n      <th>17856</th>\n      <td>&gt;sp|A0A1B0GTR4|SPRR5_HUMAN Putative small prol...</td>\n      <td>[3.4473, 4.6681, 5.1171, 4.2916, 3.6787, 3.316...</td>\n      <td>[1, 1, 1, 1, 1, 1, 1, 1, 1, 1, 1, 1, 1, 1, 1, ...</td>\n      <td>[1326]</td>\n      <td>1326</td>\n    </tr>\n    <tr>\n      <th>19200</th>\n      <td>&gt;sp|O60829|PAGE4_HUMAN P antigen family member...</td>\n      <td>[1.7704, 2.3694, 2.066, 1.5938, 0.7197, 0.4136...</td>\n      <td>[1, 1, 1, 1, 1, 1, 1, 1, 1, 1, 1, 1, 1, 1, 1, ...</td>\n      <td>[1318]</td>\n      <td>1318</td>\n    </tr>\n    <tr>\n      <th>641</th>\n      <td>&gt;sp|Q8TAG6|VEXIN_HUMAN Vexin OS=Homo sapiens O...</td>\n      <td>[3.7778, 5.4639, 5.5805, 4.8217, 4.3669, 4.379...</td>\n      <td>[1, 1, 1, 1, 1, 1, 1, 1, 1, 1, 1, 1, 1, 1, 1, ...</td>\n      <td>[1308]</td>\n      <td>1308</td>\n    </tr>\n    <tr>\n      <th>11159</th>\n      <td>&gt;sp|Q9H320|VCX1_HUMAN Variable charge X-linked...</td>\n      <td>[1.3135, 1.9307, 1.9511, 1.3, 0.3853, -0.1295,...</td>\n      <td>[1, 1, 1, 1, 1, 1, 1, 1, 1, 1, 1, 1, 1, 1, 1, ...</td>\n      <td>[1304]</td>\n      <td>1304</td>\n    </tr>\n    <tr>\n      <th>...</th>\n      <td>...</td>\n      <td>...</td>\n      <td>...</td>\n      <td>...</td>\n      <td>...</td>\n    </tr>\n    <tr>\n      <th>3475</th>\n      <td>&gt;sp|Q5T036|F120S_HUMAN Uncharacterized protein...</td>\n      <td>[1.0192, 1.5954, 1.5673, 1.2797, 0.8352, 0.572...</td>\n      <td>[1, 1, 1, 1, 1, 1, 1, 1, 1, 1, 1, 1, 1, 1, 1, ...</td>\n      <td>[108, 24, 1102, 6]</td>\n      <td>1102</td>\n    </tr>\n    <tr>\n      <th>6491</th>\n      <td>&gt;sp|P0DPQ3|PR20G_HUMAN Proline-rich protein 20...</td>\n      <td>[2.3688, 3.5923, 3.3825, 2.4635, 1.804, 1.6112...</td>\n      <td>[1, 1, 1, 1, 1, 1, 1, 1, 1, 1, 1, 1, 1, 1, 1, ...</td>\n      <td>[100, 1099, 3, 55, 4, 4]</td>\n      <td>1099</td>\n    </tr>\n    <tr>\n      <th>18921</th>\n      <td>&gt;sp|P08123|CO1A2_HUMAN Collagen alpha-2(I) cha...</td>\n      <td>[7.4692, 10.7686, 13.9024, 14.0343, 14.153, 14...</td>\n      <td>[1, 0, 0, 0, 0, 0, 0, 0, 0, 0, 0, 0, 0, 0, 0, ...</td>\n      <td>[1, 5, 1099, 83, 1]</td>\n      <td>1099</td>\n    </tr>\n    <tr>\n      <th>12895</th>\n      <td>&gt;tr|A0A2R8YFR7|A0A2R8YFR7_HUMAN DH domain-cont...</td>\n      <td>[0.749, 1.5203, 2.2995, 2.5056, 2.2929, 1.9487...</td>\n      <td>[1, 1, 1, 1, 1, 1, 1, 1, 1, 1, 1, 1, 1, 1, 1, ...</td>\n      <td>[1095, 39, 8, 1, 5, 1]</td>\n      <td>1095</td>\n    </tr>\n    <tr>\n      <th>6234</th>\n      <td>&gt;sp|Q5T6M2|CF122_HUMAN Putative uncharacterize...</td>\n      <td>[3.5883, 4.8349, 5.2988, 5.5851, 6.1432, 6.408...</td>\n      <td>[1, 1, 1, 1, 1, 1, 1, 1, 1, 1, 1, 1, 1, 1, 1, ...</td>\n      <td>[31, 149, 1092, 9]</td>\n      <td>1092</td>\n    </tr>\n  </tbody>\n</table>\n<p>100 rows × 5 columns</p>\n</div>"
     },
     "execution_count": 103,
     "metadata": {},
     "output_type": "execute_result"
    }
   ],
   "source": [
    "df_human_proteome.nlargest(100, columns=['max_length'])"
   ],
   "metadata": {
    "collapsed": false
   }
  },
  {
   "cell_type": "code",
   "execution_count": 105,
   "outputs": [
    {
     "data": {
      "text/plain": "1285"
     },
     "execution_count": 105,
     "metadata": {},
     "output_type": "execute_result"
    }
   ],
   "source": [
    "df_human_proteome[df_human_proteome['max_length'] > 1000].size"
   ],
   "metadata": {
    "collapsed": false
   }
  },
  {
   "cell_type": "code",
   "execution_count": 48,
   "outputs": [],
   "source": [
    "disorder_lengths = pd.Series(np.concatenate(df_human_proteome['disorder_lengths'].ravel()).ravel())"
   ],
   "metadata": {
    "collapsed": false
   }
  },
  {
   "cell_type": "code",
   "execution_count": 49,
   "outputs": [
    {
     "data": {
      "text/plain": "1330.0"
     },
     "execution_count": 49,
     "metadata": {},
     "output_type": "execute_result"
    }
   ],
   "source": [
    "disorder_lengths.max()"
   ],
   "metadata": {
    "collapsed": false
   }
  },
  {
   "cell_type": "code",
   "execution_count": 52,
   "outputs": [
    {
     "data": {
      "text/plain": "49139     999.0\n104096    999.0\n137836    999.0\n258151    998.0\n108458    997.0\n301048    997.0\n30469     996.0\n141083    996.0\n217510    996.0\n274640    996.0\ndtype: float64"
     },
     "execution_count": 52,
     "metadata": {},
     "output_type": "execute_result"
    }
   ],
   "source": [
    "disorder_lengths[disorder_lengths.between(10, 1000)].nlargest(10)"
   ],
   "metadata": {
    "collapsed": false
   }
  },
  {
   "cell_type": "code",
   "execution_count": 63,
   "outputs": [
    {
     "data": {
      "text/plain": "<Figure size 432x288 with 1 Axes>",
      "image/png": "[encoded data removed]"
     },
     "metadata": {
      "needs_background": "light"
     },
     "output_type": "display_data"
    }
   ],
   "source": [
    "%matplotlib inline\n",
    "fig, ax = plt.subplots()\n",
    "\n",
    "ax.hist(disorder_lengths[disorder_lengths.between(15, 300)], bins=50)\n",
    "ax.set_xticks(np.arange(0, 300, 25))\n",
    "\n",
    "plt.show()"
   ],
   "metadata": {
    "collapsed": false
   }
  },
  {
   "cell_type": "code",
   "execution_count": null,
   "outputs": [],
   "source": [],
   "metadata": {
    "collapsed": false
   }
  }
 ],
 "metadata": {
  "kernelspec": {
   "display_name": "Python 3",
   "language": "python",
   "name": "python3"
  },
  "language_info": {
   "codemirror_mode": {
    "name": "ipython",
    "version": 2
   },
   "file_extension": ".py",
   "mimetype": "text/x-python",
   "name": "python",
   "nbconvert_exporter": "python",
   "pygments_lexer": "ipython2",
   "version": "2.7.6"
  }
 },
 "nbformat": 4,
 "nbformat_minor": 0
}
